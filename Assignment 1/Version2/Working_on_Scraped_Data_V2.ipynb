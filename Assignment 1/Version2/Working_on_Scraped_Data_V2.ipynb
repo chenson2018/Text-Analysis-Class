{
  "nbformat": 4,
  "nbformat_minor": 0,
  "metadata": {
    "colab": {
      "name": "Working on Scraped Data V2.ipynb",
      "provenance": [],
      "collapsed_sections": []
    },
    "kernelspec": {
      "name": "python3",
      "display_name": "Python 3"
    },
    "accelerator": "GPU"
  },
  "cells": [
    {
      "cell_type": "code",
      "metadata": {
        "id": "wv8XKA1HSOTf",
        "colab_type": "code",
        "outputId": "f6e731f4-c79b-40b0-83fd-84e6e1bf2e6c",
        "colab": {
          "base_uri": "https://localhost:8080/",
          "height": 33
        }
      },
      "source": [
        "from google.colab import drive\n",
        "drive.mount('/content/gdrive',force_remount= True)"
      ],
      "execution_count": 0,
      "outputs": [
        {
          "output_type": "stream",
          "text": [
            "Mounted at /content/gdrive\n"
          ],
          "name": "stdout"
        }
      ]
    },
    {
      "cell_type": "code",
      "metadata": {
        "id": "pqB5PrvnSi2t",
        "colab_type": "code",
        "outputId": "46b1c2b2-14a0-4881-f85a-14bcbeb81c16",
        "colab": {
          "base_uri": "https://localhost:8080/",
          "height": 33
        }
      },
      "source": [
        "import pandas as pd\n",
        "from pandas import Series,DataFrame\n",
        "%pylab inline\n",
        "import matplotlib.pyplot as plt\n",
        "import seaborn as sns\n",
        "import warnings\n",
        "warnings.filterwarnings(\"ignore\")\n"
      ],
      "execution_count": 0,
      "outputs": [
        {
          "output_type": "stream",
          "text": [
            "Populating the interactive namespace from numpy and matplotlib\n"
          ],
          "name": "stdout"
        }
      ]
    },
    {
      "cell_type": "code",
      "metadata": {
        "id": "WsiGClCaSp9q",
        "colab_type": "code",
        "outputId": "33350c41-845b-49a7-8e63-7572ddea08ef",
        "colab": {
          "base_uri": "https://localhost:8080/",
          "height": 196
        }
      },
      "source": [
        "\n",
        "df_scraped = pd.read_csv('/content/gdrive/My Drive/Colab Notebooks/Text Analytics/Scraped_data_Luxury.csv',na_values='na')\n",
        "df_scraped.head(5)\n"
      ],
      "execution_count": 0,
      "outputs": [
        {
          "output_type": "execute_result",
          "data": {
            "text/html": [
              "<div>\n",
              "<style scoped>\n",
              "    .dataframe tbody tr th:only-of-type {\n",
              "        vertical-align: middle;\n",
              "    }\n",
              "\n",
              "    .dataframe tbody tr th {\n",
              "        vertical-align: top;\n",
              "    }\n",
              "\n",
              "    .dataframe thead th {\n",
              "        text-align: right;\n",
              "    }\n",
              "</style>\n",
              "<table border=\"1\" class=\"dataframe\">\n",
              "  <thead>\n",
              "    <tr style=\"text-align: right;\">\n",
              "      <th></th>\n",
              "      <th>Unnamed: 0</th>\n",
              "      <th>Username</th>\n",
              "      <th>Time</th>\n",
              "      <th>Subject</th>\n",
              "    </tr>\n",
              "  </thead>\n",
              "  <tbody>\n",
              "    <tr>\n",
              "      <th>0</th>\n",
              "      <td>0</td>\n",
              "      <td>merc1</td>\n",
              "      <td>March 25, 2002 5:54AM</td>\n",
              "      <td>I personally think that with a few tweaks the ...</td>\n",
              "    </tr>\n",
              "    <tr>\n",
              "      <th>1</th>\n",
              "      <td>1</td>\n",
              "      <td>fredvh</td>\n",
              "      <td>March 25, 2002 7:06AM</td>\n",
              "      <td>I am debating a new purchase and these two are...</td>\n",
              "    </tr>\n",
              "    <tr>\n",
              "      <th>2</th>\n",
              "      <td>2</td>\n",
              "      <td>blueguydotcom</td>\n",
              "      <td>March 25, 2002 5:02PM</td>\n",
              "      <td>Great handling, RWD, excellent engine and the ...</td>\n",
              "    </tr>\n",
              "    <tr>\n",
              "      <th>3</th>\n",
              "      <td>3</td>\n",
              "      <td>hungrywhale</td>\n",
              "      <td>March 25, 2002 11:04PM</td>\n",
              "      <td>And no manual tranny. That may not matter to y...</td>\n",
              "    </tr>\n",
              "    <tr>\n",
              "      <th>4</th>\n",
              "      <td>4</td>\n",
              "      <td>riez</td>\n",
              "      <td>March 26, 2002 12:44AM</td>\n",
              "      <td>One beauty of BMW 3 Series is that there are s...</td>\n",
              "    </tr>\n",
              "  </tbody>\n",
              "</table>\n",
              "</div>"
            ],
            "text/plain": [
              "   Unnamed: 0  ...                                            Subject\n",
              "0           0  ...  I personally think that with a few tweaks the ...\n",
              "1           1  ...  I am debating a new purchase and these two are...\n",
              "2           2  ...  Great handling, RWD, excellent engine and the ...\n",
              "3           3  ...  And no manual tranny. That may not matter to y...\n",
              "4           4  ...  One beauty of BMW 3 Series is that there are s...\n",
              "\n",
              "[5 rows x 4 columns]"
            ]
          },
          "metadata": {
            "tags": []
          },
          "execution_count": 275
        }
      ]
    },
    {
      "cell_type": "code",
      "metadata": {
        "id": "UleCjEdTS5jv",
        "colab_type": "code",
        "outputId": "191354e9-f2a0-446b-bc21-3d205b14c256",
        "colab": {
          "base_uri": "https://localhost:8080/",
          "height": 84
        }
      },
      "source": [
        "import nltk\n",
        "nltk.download('stopwords')\n",
        "nltk.download('punkt')\n",
        "from nltk.corpus import stopwords\n",
        "from nltk.tokenize import word_tokenize \n",
        "stop_words = set(stopwords.words('english')) "
      ],
      "execution_count": 0,
      "outputs": [
        {
          "output_type": "stream",
          "text": [
            "[nltk_data] Downloading package stopwords to /root/nltk_data...\n",
            "[nltk_data]   Package stopwords is already up-to-date!\n",
            "[nltk_data] Downloading package punkt to /root/nltk_data...\n",
            "[nltk_data]   Package punkt is already up-to-date!\n"
          ],
          "name": "stdout"
        }
      ]
    },
    {
      "cell_type": "code",
      "metadata": {
        "id": "n4lHqF05Vs_8",
        "colab_type": "code",
        "outputId": "4914eba2-666e-49a6-d3c1-3bef5956af12",
        "colab": {
          "base_uri": "https://localhost:8080/",
          "height": 184
        }
      },
      "source": [
        "\n",
        "cleaned_desc = []\n",
        "cntr = 0\n",
        "\n",
        "for i in range(len(df_scraped)):\n",
        "  cntr = cntr+1\n",
        "  if cntr == 500:\n",
        "    print('Number of rows read until now:',i+1)\n",
        "    cntr = 0\n",
        "\n",
        "  try:\n",
        "    new_words = []\n",
        "    body = df_scraped['Subject'][i]\n",
        "    words = word_tokenize(body)\n",
        "    for w in words:\n",
        "      w = w.lstrip().rstrip().lower()\n",
        "      new_words.append(w)\n",
        "#    words = w.lstrip().rstrip().lower()\n",
        "    filtered_words = [w for w in new_words if not w in stop_words]\n",
        "    filtered_words = [w for w in filtered_words if len(w) > 1]\n",
        "\n",
        "    cleaned_desc.append(filtered_words)\n",
        "  except:\n",
        "    cleaned_desc.append('')\n",
        "\n"
      ],
      "execution_count": 0,
      "outputs": [
        {
          "output_type": "stream",
          "text": [
            "Number of rows read until now: 500\n",
            "Number of rows read until now: 1000\n",
            "Number of rows read until now: 1500\n",
            "Number of rows read until now: 2000\n",
            "Number of rows read until now: 2500\n",
            "Number of rows read until now: 3000\n",
            "Number of rows read until now: 3500\n",
            "Number of rows read until now: 4000\n",
            "Number of rows read until now: 4500\n",
            "Number of rows read until now: 5000\n"
          ],
          "name": "stdout"
        }
      ]
    },
    {
      "cell_type": "code",
      "metadata": {
        "id": "zKrbE-usZu1n",
        "colab_type": "code",
        "outputId": "d541c0ec-eb7b-434b-cad7-7de7eae846ab",
        "colab": {
          "base_uri": "https://localhost:8080/",
          "height": 284
        }
      },
      "source": [
        "import string\n",
        "\n",
        "def cleanwords(l):\n",
        "  cleaned_l = []\n",
        "  for w in l:\n",
        "    w = w.lstrip()\n",
        "    w = w.rstrip()\n",
        "    w = w.lower()\n",
        "    w = w.translate(str.maketrans('','',string.punctuation))\n",
        "    cleaned_l.append(w)\n",
        "  return cleaned_l\n",
        "  \n",
        "\n",
        "\n",
        "\n",
        "df_scraped['Cleaned'] = pd.Series(cleaned_desc)\n",
        "print(df_scraped.head(5))\n",
        "\n",
        "df_scraped['Cleaned'] = df_scraped['Cleaned'].map(cleanwords)\n",
        "print(df_scraped.head(5))"
      ],
      "execution_count": 0,
      "outputs": [
        {
          "output_type": "stream",
          "text": [
            "   Unnamed: 0  ...                                            Cleaned\n",
            "0           0  ...  [personally, think, tweaks, c320, could, also,...\n",
            "1           1  ...  [debating, new, purchase, two, top, list, pric...\n",
            "2           2  ...  [great, handling, rwd, excellent, engine, best...\n",
            "3           3  ...  [manual, tranny, may, matter, certainly, matte...\n",
            "4           4  ...  [one, beauty, bmw, series, many, models, choos...\n",
            "\n",
            "[5 rows x 5 columns]\n",
            "   Unnamed: 0  ...                                            Cleaned\n",
            "0           0  ...  [personally, think, tweaks, c320, could, also,...\n",
            "1           1  ...  [debating, new, purchase, two, top, list, pric...\n",
            "2           2  ...  [great, handling, rwd, excellent, engine, best...\n",
            "3           3  ...  [manual, tranny, may, matter, certainly, matte...\n",
            "4           4  ...  [one, beauty, bmw, series, many, models, choos...\n",
            "\n",
            "[5 rows x 5 columns]\n"
          ],
          "name": "stdout"
        }
      ]
    },
    {
      "cell_type": "code",
      "metadata": {
        "id": "tf-EziyfZ-V_",
        "colab_type": "code",
        "outputId": "477da03f-1208-40a5-9073-7b5db60f01e2",
        "colab": {
          "base_uri": "https://localhost:8080/",
          "height": 217
        }
      },
      "source": [
        "## Importing the Model-Brands file\n",
        "\n",
        "\n",
        "df_models = pd.read_csv('/content/gdrive/My Drive/Colab Notebooks/Text Analytics/models (5).csv',header = None)\n",
        "print(df_models.head(5))\n",
        "df_models.rename(columns = {0: \"Brand\", 1:\"Model\"},inplace= True) \n",
        "print(df_models.head(5))\n"
      ],
      "execution_count": 0,
      "outputs": [
        {
          "output_type": "stream",
          "text": [
            "       0        1\n",
            "0  acura  integra\n",
            "1  acura   legend\n",
            "2  acura    vigor\n",
            "3  acura      rlx\n",
            "4  acura      ilx\n",
            "   Brand    Model\n",
            "0  acura  integra\n",
            "1  acura   legend\n",
            "2  acura    vigor\n",
            "3  acura      rlx\n",
            "4  acura      ilx\n"
          ],
          "name": "stdout"
        }
      ]
    },
    {
      "cell_type": "code",
      "metadata": {
        "id": "rCiHDq1zcxyC",
        "colab_type": "code",
        "outputId": "0faa8e65-f7af-4bf7-a18c-cd98cf7d2051",
        "colab": {
          "base_uri": "https://localhost:8080/",
          "height": 196
        }
      },
      "source": [
        "## Cleaning the entries\n",
        "\n",
        "def clean(s):\n",
        "  s_clean = s.lstrip().rstrip().lower()\n",
        "  s_clean = s_clean.translate(str.maketrans('','',string.punctuation))\n",
        "  return s_clean\n",
        "\n",
        "df_models['Brand'] = df_models['Brand'].map(clean)\n",
        "df_models['Model'] = df_models['Model'].map(clean)\n",
        "df_models.head(5)"
      ],
      "execution_count": 0,
      "outputs": [
        {
          "output_type": "execute_result",
          "data": {
            "text/html": [
              "<div>\n",
              "<style scoped>\n",
              "    .dataframe tbody tr th:only-of-type {\n",
              "        vertical-align: middle;\n",
              "    }\n",
              "\n",
              "    .dataframe tbody tr th {\n",
              "        vertical-align: top;\n",
              "    }\n",
              "\n",
              "    .dataframe thead th {\n",
              "        text-align: right;\n",
              "    }\n",
              "</style>\n",
              "<table border=\"1\" class=\"dataframe\">\n",
              "  <thead>\n",
              "    <tr style=\"text-align: right;\">\n",
              "      <th></th>\n",
              "      <th>Brand</th>\n",
              "      <th>Model</th>\n",
              "    </tr>\n",
              "  </thead>\n",
              "  <tbody>\n",
              "    <tr>\n",
              "      <th>0</th>\n",
              "      <td>acura</td>\n",
              "      <td>integra</td>\n",
              "    </tr>\n",
              "    <tr>\n",
              "      <th>1</th>\n",
              "      <td>acura</td>\n",
              "      <td>legend</td>\n",
              "    </tr>\n",
              "    <tr>\n",
              "      <th>2</th>\n",
              "      <td>acura</td>\n",
              "      <td>vigor</td>\n",
              "    </tr>\n",
              "    <tr>\n",
              "      <th>3</th>\n",
              "      <td>acura</td>\n",
              "      <td>rlx</td>\n",
              "    </tr>\n",
              "    <tr>\n",
              "      <th>4</th>\n",
              "      <td>acura</td>\n",
              "      <td>ilx</td>\n",
              "    </tr>\n",
              "  </tbody>\n",
              "</table>\n",
              "</div>"
            ],
            "text/plain": [
              "   Brand    Model\n",
              "0  acura  integra\n",
              "1  acura   legend\n",
              "2  acura    vigor\n",
              "3  acura      rlx\n",
              "4  acura      ilx"
            ]
          },
          "metadata": {
            "tags": []
          },
          "execution_count": 280
        }
      ]
    },
    {
      "cell_type": "code",
      "metadata": {
        "id": "3Zq-L9P_e-R5",
        "colab_type": "code",
        "colab": {}
      },
      "source": [
        "### Using tokenized words\n",
        "\n",
        "unique_brands = list(set(df_models['Brand'].values.tolist()))\n",
        "unique_models = list(set(df_models['Model'].values.tolist()))\n",
        "\n",
        "def brandlist(l):\n",
        "  brands = []\n",
        "  for w in l:\n",
        "    if w in unique_brands:\n",
        "      brands.append(w)\n",
        "    elif w in unique_models:\n",
        "      brand = df_models[df_models['Model'] == w]['Brand'].values[0]\n",
        "      brands.append(brand)\n",
        "  brands = list(set(brands))\n",
        "  return brands\n",
        "\n",
        "\n",
        "df_scraped['Brandlist'] = df_scraped['Cleaned'].map(brandlist)\n"
      ],
      "execution_count": 0,
      "outputs": []
    },
    {
      "cell_type": "code",
      "metadata": {
        "id": "4sdDJOfGoqJC",
        "colab_type": "code",
        "colab": {}
      },
      "source": [
        "# ## Doing without tokenization\n",
        "\n",
        "# ## ist from list will be mapped for toyota. famili from familiar will be mapped to Mazda\n",
        "\n",
        "# unique_brands = list(set(df_models['Brand'].values.tolist()))\n",
        "# unique_models = list(set(df_models['Model'].values.tolist()))\n",
        "\n",
        "# def brandlist(s):\n",
        "#   s =str(s)\n",
        "#   brands = []\n",
        "#   s=  s.lower()\n",
        "#   for b in unique_brands:\n",
        "#     if b in s:\n",
        "#       brands.append(b)\n",
        "#   for m in unique_models:\n",
        "#     if m in s:\n",
        "#       b = df_models[df_models['Model'] == m]['Brand'].values[0]\n",
        "#       brands.append(m)\n",
        "#   brands = list(set(brands))\n",
        "#   return brands\n",
        "\n",
        "\n",
        "# df_scraped['Brandlist'] = df_scraped['Subject'].map(brandlist)\n"
      ],
      "execution_count": 0,
      "outputs": []
    },
    {
      "cell_type": "code",
      "metadata": {
        "id": "jvazPEnAfRCp",
        "colab_type": "code",
        "outputId": "2c03b9d7-4329-4edb-b4af-bbd6c49130e0",
        "colab": {
          "base_uri": "https://localhost:8080/",
          "height": 762
        }
      },
      "source": [
        "df_scraped.head(15)"
      ],
      "execution_count": 0,
      "outputs": [
        {
          "output_type": "execute_result",
          "data": {
            "text/html": [
              "<div>\n",
              "<style scoped>\n",
              "    .dataframe tbody tr th:only-of-type {\n",
              "        vertical-align: middle;\n",
              "    }\n",
              "\n",
              "    .dataframe tbody tr th {\n",
              "        vertical-align: top;\n",
              "    }\n",
              "\n",
              "    .dataframe thead th {\n",
              "        text-align: right;\n",
              "    }\n",
              "</style>\n",
              "<table border=\"1\" class=\"dataframe\">\n",
              "  <thead>\n",
              "    <tr style=\"text-align: right;\">\n",
              "      <th></th>\n",
              "      <th>Unnamed: 0</th>\n",
              "      <th>Username</th>\n",
              "      <th>Time</th>\n",
              "      <th>Subject</th>\n",
              "      <th>Cleaned</th>\n",
              "      <th>Brandlist</th>\n",
              "    </tr>\n",
              "  </thead>\n",
              "  <tbody>\n",
              "    <tr>\n",
              "      <th>0</th>\n",
              "      <td>0</td>\n",
              "      <td>merc1</td>\n",
              "      <td>March 25, 2002 5:54AM</td>\n",
              "      <td>I personally think that with a few tweaks the ...</td>\n",
              "      <td>[personally, think, tweaks, c320, could, also,...</td>\n",
              "      <td>[cadillac, infiniti, buick, chrysler, lexus, f...</td>\n",
              "    </tr>\n",
              "    <tr>\n",
              "      <th>1</th>\n",
              "      <td>1</td>\n",
              "      <td>fredvh</td>\n",
              "      <td>March 25, 2002 7:06AM</td>\n",
              "      <td>I am debating a new purchase and these two are...</td>\n",
              "      <td>[debating, new, purchase, two, top, list, pric...</td>\n",
              "      <td>[lexus, acura, honda]</td>\n",
              "    </tr>\n",
              "    <tr>\n",
              "      <th>2</th>\n",
              "      <td>2</td>\n",
              "      <td>blueguydotcom</td>\n",
              "      <td>March 25, 2002 5:02PM</td>\n",
              "      <td>Great handling, RWD, excellent engine and the ...</td>\n",
              "      <td>[great, handling, rwd, excellent, engine, best...</td>\n",
              "      <td>[]</td>\n",
              "    </tr>\n",
              "    <tr>\n",
              "      <th>3</th>\n",
              "      <td>3</td>\n",
              "      <td>hungrywhale</td>\n",
              "      <td>March 25, 2002 11:04PM</td>\n",
              "      <td>And no manual tranny. That may not matter to y...</td>\n",
              "      <td>[manual, tranny, may, matter, certainly, matte...</td>\n",
              "      <td>[]</td>\n",
              "    </tr>\n",
              "    <tr>\n",
              "      <th>4</th>\n",
              "      <td>4</td>\n",
              "      <td>riez</td>\n",
              "      <td>March 26, 2002 12:44AM</td>\n",
              "      <td>One beauty of BMW 3 Series is that there are s...</td>\n",
              "      <td>[one, beauty, bmw, series, many, models, choos...</td>\n",
              "      <td>[bmw]</td>\n",
              "    </tr>\n",
              "    <tr>\n",
              "      <th>5</th>\n",
              "      <td>5</td>\n",
              "      <td>blueguydotcom</td>\n",
              "      <td>March 26, 2002 8:20PM</td>\n",
              "      <td>good grief, so you wait 9 months for the manua...</td>\n",
              "      <td>[good, grief, wait, months, manual, even, auto...</td>\n",
              "      <td>[bmw]</td>\n",
              "    </tr>\n",
              "    <tr>\n",
              "      <th>6</th>\n",
              "      <td>6</td>\n",
              "      <td>hungrywhale</td>\n",
              "      <td>March 26, 2002 9:02PM</td>\n",
              "      <td>I'll give it a fair shot when the manual comes...</td>\n",
              "      <td>[ll, give, fair, shot, manual, comes, m, flato...</td>\n",
              "      <td>[]</td>\n",
              "    </tr>\n",
              "    <tr>\n",
              "      <th>7</th>\n",
              "      <td>7</td>\n",
              "      <td>blueguydotcom</td>\n",
              "      <td>March 26, 2002 9:45PM</td>\n",
              "      <td>I understand it's not about the speed. I reall...</td>\n",
              "      <td>[understand, s, speed, really, nt, care, car, ...</td>\n",
              "      <td>[buick]</td>\n",
              "    </tr>\n",
              "    <tr>\n",
              "      <th>8</th>\n",
              "      <td>8</td>\n",
              "      <td>hungrywhale</td>\n",
              "      <td>March 27, 2002 12:00AM</td>\n",
              "      <td>It sounds like you know why I won't even put i...</td>\n",
              "      <td>[sounds, like, know, wo, nt, even, put, list, ...</td>\n",
              "      <td>[]</td>\n",
              "    </tr>\n",
              "    <tr>\n",
              "      <th>9</th>\n",
              "      <td>9</td>\n",
              "      <td>riez</td>\n",
              "      <td>March 27, 2002 2:00AM</td>\n",
              "      <td>Is there such a thing as an automatic-only tru...</td>\n",
              "      <td>[thing, automaticonly, true, performance, seda...</td>\n",
              "      <td>[infiniti]</td>\n",
              "    </tr>\n",
              "    <tr>\n",
              "      <th>10</th>\n",
              "      <td>10</td>\n",
              "      <td>wishnhigh1</td>\n",
              "      <td>March 27, 2002 2:55AM</td>\n",
              "      <td>If I had to rank the entry lux performance sed...</td>\n",
              "      <td>[rank, entry, lux, performance, sedans, would,...</td>\n",
              "      <td>[infiniti, cadillac, audi, bmw]</td>\n",
              "    </tr>\n",
              "    <tr>\n",
              "      <th>11</th>\n",
              "      <td>11</td>\n",
              "      <td>shipo</td>\n",
              "      <td>March 27, 2002 5:06AM</td>\n",
              "      <td>Hey my friend, dig this, in Australia, the ONL...</td>\n",
              "      <td>[hey, friend, dig, australia, 5series, manual,...</td>\n",
              "      <td>[bmw]</td>\n",
              "    </tr>\n",
              "    <tr>\n",
              "      <th>12</th>\n",
              "      <td>12</td>\n",
              "      <td>mbarto</td>\n",
              "      <td>March 27, 2002 2:20PM</td>\n",
              "      <td>&gt;\"Is there such a thing as an automatic-only t...</td>\n",
              "      <td>[, thing, automaticonly, true, performance, se...</td>\n",
              "      <td>[infiniti, lexus, audi, bmw, toyota]</td>\n",
              "    </tr>\n",
              "    <tr>\n",
              "      <th>13</th>\n",
              "      <td>13</td>\n",
              "      <td>hungrywhale</td>\n",
              "      <td>March 27, 2002 5:00PM</td>\n",
              "      <td>I think what riez and I are trying to say is n...</td>\n",
              "      <td>[think, riez, trying, say, automatics, perform...</td>\n",
              "      <td>[]</td>\n",
              "    </tr>\n",
              "    <tr>\n",
              "      <th>14</th>\n",
              "      <td>14</td>\n",
              "      <td>blueguydotcom</td>\n",
              "      <td>March 27, 2002 6:10PM</td>\n",
              "      <td>amen</td>\n",
              "      <td>[amen]</td>\n",
              "      <td>[]</td>\n",
              "    </tr>\n",
              "  </tbody>\n",
              "</table>\n",
              "</div>"
            ],
            "text/plain": [
              "    Unnamed: 0  ...                                          Brandlist\n",
              "0            0  ...  [cadillac, infiniti, buick, chrysler, lexus, f...\n",
              "1            1  ...                              [lexus, acura, honda]\n",
              "2            2  ...                                                 []\n",
              "3            3  ...                                                 []\n",
              "4            4  ...                                              [bmw]\n",
              "5            5  ...                                              [bmw]\n",
              "6            6  ...                                                 []\n",
              "7            7  ...                                            [buick]\n",
              "8            8  ...                                                 []\n",
              "9            9  ...                                         [infiniti]\n",
              "10          10  ...                    [infiniti, cadillac, audi, bmw]\n",
              "11          11  ...                                              [bmw]\n",
              "12          12  ...               [infiniti, lexus, audi, bmw, toyota]\n",
              "13          13  ...                                                 []\n",
              "14          14  ...                                                 []\n",
              "\n",
              "[15 rows x 6 columns]"
            ]
          },
          "metadata": {
            "tags": []
          },
          "execution_count": 282
        }
      ]
    },
    {
      "cell_type": "code",
      "metadata": {
        "id": "2eaRHzZ7gqrR",
        "colab_type": "code",
        "outputId": "029bd187-1e93-4b2d-81b1-59f89e5c75cb",
        "colab": {
          "base_uri": "https://localhost:8080/",
          "height": 352
        }
      },
      "source": [
        "## Top 10 Brands by frequency of mentions\n",
        "\n",
        "brandcounts = pd.Series(df_scraped['Brandlist'].sum()).value_counts()\n",
        "brandcounts[:10].plot(kind = 'bar')\n",
        "plt.xlabel('Brand Name')\n",
        "plt.ylabel('Number of Mentions')\n",
        "plt.title('Top 10 Brands')"
      ],
      "execution_count": 0,
      "outputs": [
        {
          "output_type": "execute_result",
          "data": {
            "text/plain": [
              "Text(0.5, 1.0, 'Top 10 Brands')"
            ]
          },
          "metadata": {
            "tags": []
          },
          "execution_count": 283
        },
        {
          "output_type": "display_data",
          "data": {
            "image/png": "[encoded data removed]",
            "text/plain": [
              "<Figure size 432x288 with 1 Axes>"
            ]
          },
          "metadata": {
            "tags": []
          }
        }
      ]
    },
    {
      "cell_type": "code",
      "metadata": {
        "id": "t4rE4PkunzaG",
        "colab_type": "code",
        "outputId": "6b2ba496-c6d7-4039-b31a-b04b4ac87c7f",
        "colab": {
          "base_uri": "https://localhost:8080/",
          "height": 196
        }
      },
      "source": [
        "import itertools\n",
        "from itertools import product\n",
        "\n",
        "a = brandcounts.index.tolist()\n",
        "b = brandcounts.index.tolist()\n",
        "combinations = pd.DataFrame(itertools.product(a, b))\n",
        "combinations.columns = [\"Brand1\",\"Brand2\"]\n",
        "combinations.head(5)"
      ],
      "execution_count": 0,
      "outputs": [
        {
          "output_type": "execute_result",
          "data": {
            "text/html": [
              "<div>\n",
              "<style scoped>\n",
              "    .dataframe tbody tr th:only-of-type {\n",
              "        vertical-align: middle;\n",
              "    }\n",
              "\n",
              "    .dataframe tbody tr th {\n",
              "        vertical-align: top;\n",
              "    }\n",
              "\n",
              "    .dataframe thead th {\n",
              "        text-align: right;\n",
              "    }\n",
              "</style>\n",
              "<table border=\"1\" class=\"dataframe\">\n",
              "  <thead>\n",
              "    <tr style=\"text-align: right;\">\n",
              "      <th></th>\n",
              "      <th>Brand1</th>\n",
              "      <th>Brand2</th>\n",
              "    </tr>\n",
              "  </thead>\n",
              "  <tbody>\n",
              "    <tr>\n",
              "      <th>0</th>\n",
              "      <td>bmw</td>\n",
              "      <td>bmw</td>\n",
              "    </tr>\n",
              "    <tr>\n",
              "      <th>1</th>\n",
              "      <td>bmw</td>\n",
              "      <td>acura</td>\n",
              "    </tr>\n",
              "    <tr>\n",
              "      <th>2</th>\n",
              "      <td>bmw</td>\n",
              "      <td>infiniti</td>\n",
              "    </tr>\n",
              "    <tr>\n",
              "      <th>3</th>\n",
              "      <td>bmw</td>\n",
              "      <td>audi</td>\n",
              "    </tr>\n",
              "    <tr>\n",
              "      <th>4</th>\n",
              "      <td>bmw</td>\n",
              "      <td>toyota</td>\n",
              "    </tr>\n",
              "  </tbody>\n",
              "</table>\n",
              "</div>"
            ],
            "text/plain": [
              "  Brand1    Brand2\n",
              "0    bmw       bmw\n",
              "1    bmw     acura\n",
              "2    bmw  infiniti\n",
              "3    bmw      audi\n",
              "4    bmw    toyota"
            ]
          },
          "metadata": {
            "tags": []
          },
          "execution_count": 284
        }
      ]
    },
    {
      "cell_type": "code",
      "metadata": {
        "id": "PO988CW1qUXm",
        "colab_type": "code",
        "outputId": "1e569e4e-3443-44d1-f166-022888661ec8",
        "colab": {
          "base_uri": "https://localhost:8080/",
          "height": 196
        }
      },
      "source": [
        "## Getting the individual Brand Occurences\n",
        "\n",
        "def getcounts(s):\n",
        "  counts = brandcounts[s]\n",
        "  return counts\n",
        "\n",
        "\n",
        "combinations['Brand1_occurence'] = combinations['Brand1'].map(getcounts)\n",
        "combinations['Brand2_occurence'] = combinations['Brand2'].map(getcounts)\n",
        "combinations.head(5)"
      ],
      "execution_count": 0,
      "outputs": [
        {
          "output_type": "execute_result",
          "data": {
            "text/html": [
              "<div>\n",
              "<style scoped>\n",
              "    .dataframe tbody tr th:only-of-type {\n",
              "        vertical-align: middle;\n",
              "    }\n",
              "\n",
              "    .dataframe tbody tr th {\n",
              "        vertical-align: top;\n",
              "    }\n",
              "\n",
              "    .dataframe thead th {\n",
              "        text-align: right;\n",
              "    }\n",
              "</style>\n",
              "<table border=\"1\" class=\"dataframe\">\n",
              "  <thead>\n",
              "    <tr style=\"text-align: right;\">\n",
              "      <th></th>\n",
              "      <th>Brand1</th>\n",
              "      <th>Brand2</th>\n",
              "      <th>Brand1_occurence</th>\n",
              "      <th>Brand2_occurence</th>\n",
              "    </tr>\n",
              "  </thead>\n",
              "  <tbody>\n",
              "    <tr>\n",
              "      <th>0</th>\n",
              "      <td>bmw</td>\n",
              "      <td>bmw</td>\n",
              "      <td>1504</td>\n",
              "      <td>1504</td>\n",
              "    </tr>\n",
              "    <tr>\n",
              "      <th>1</th>\n",
              "      <td>bmw</td>\n",
              "      <td>acura</td>\n",
              "      <td>1504</td>\n",
              "      <td>1253</td>\n",
              "    </tr>\n",
              "    <tr>\n",
              "      <th>2</th>\n",
              "      <td>bmw</td>\n",
              "      <td>infiniti</td>\n",
              "      <td>1504</td>\n",
              "      <td>1022</td>\n",
              "    </tr>\n",
              "    <tr>\n",
              "      <th>3</th>\n",
              "      <td>bmw</td>\n",
              "      <td>audi</td>\n",
              "      <td>1504</td>\n",
              "      <td>783</td>\n",
              "    </tr>\n",
              "    <tr>\n",
              "      <th>4</th>\n",
              "      <td>bmw</td>\n",
              "      <td>toyota</td>\n",
              "      <td>1504</td>\n",
              "      <td>629</td>\n",
              "    </tr>\n",
              "  </tbody>\n",
              "</table>\n",
              "</div>"
            ],
            "text/plain": [
              "  Brand1    Brand2  Brand1_occurence  Brand2_occurence\n",
              "0    bmw       bmw              1504              1504\n",
              "1    bmw     acura              1504              1253\n",
              "2    bmw  infiniti              1504              1022\n",
              "3    bmw      audi              1504               783\n",
              "4    bmw    toyota              1504               629"
            ]
          },
          "metadata": {
            "tags": []
          },
          "execution_count": 285
        }
      ]
    },
    {
      "cell_type": "code",
      "metadata": {
        "id": "--zMN7jDqu3c",
        "colab_type": "code",
        "outputId": "459d6328-04d8-4fca-99a3-778b4f38a077",
        "colab": {
          "base_uri": "https://localhost:8080/",
          "height": 196
        }
      },
      "source": [
        "## Getting the cooccurences\n",
        "\n",
        "def getcooccurence(s):\n",
        "  brands = s.split('&')\n",
        "  cntr = 0\n",
        "  if brands[0] != brands[1]:\n",
        "    for lst in df_scraped['Brandlist'].values.tolist():\n",
        "      if brands[0] in lst and brands[1] in lst:\n",
        "        cntr = cntr+1\n",
        "  return cntr\n",
        "\n",
        "combinations['Brand1&Brand2'] = combinations['Brand1']+'&'+combinations['Brand2']\n",
        "combinations['Cooccurence'] = combinations['Brand1&Brand2'].map(getcooccurence)\n",
        "combinations.head(5)"
      ],
      "execution_count": 0,
      "outputs": [
        {
          "output_type": "execute_result",
          "data": {
            "text/html": [
              "<div>\n",
              "<style scoped>\n",
              "    .dataframe tbody tr th:only-of-type {\n",
              "        vertical-align: middle;\n",
              "    }\n",
              "\n",
              "    .dataframe tbody tr th {\n",
              "        vertical-align: top;\n",
              "    }\n",
              "\n",
              "    .dataframe thead th {\n",
              "        text-align: right;\n",
              "    }\n",
              "</style>\n",
              "<table border=\"1\" class=\"dataframe\">\n",
              "  <thead>\n",
              "    <tr style=\"text-align: right;\">\n",
              "      <th></th>\n",
              "      <th>Brand1</th>\n",
              "      <th>Brand2</th>\n",
              "      <th>Brand1_occurence</th>\n",
              "      <th>Brand2_occurence</th>\n",
              "      <th>Brand1&amp;Brand2</th>\n",
              "      <th>Cooccurence</th>\n",
              "    </tr>\n",
              "  </thead>\n",
              "  <tbody>\n",
              "    <tr>\n",
              "      <th>0</th>\n",
              "      <td>bmw</td>\n",
              "      <td>bmw</td>\n",
              "      <td>1504</td>\n",
              "      <td>1504</td>\n",
              "      <td>bmw&amp;bmw</td>\n",
              "      <td>0</td>\n",
              "    </tr>\n",
              "    <tr>\n",
              "      <th>1</th>\n",
              "      <td>bmw</td>\n",
              "      <td>acura</td>\n",
              "      <td>1504</td>\n",
              "      <td>1253</td>\n",
              "      <td>bmw&amp;acura</td>\n",
              "      <td>479</td>\n",
              "    </tr>\n",
              "    <tr>\n",
              "      <th>2</th>\n",
              "      <td>bmw</td>\n",
              "      <td>infiniti</td>\n",
              "      <td>1504</td>\n",
              "      <td>1022</td>\n",
              "      <td>bmw&amp;infiniti</td>\n",
              "      <td>480</td>\n",
              "    </tr>\n",
              "    <tr>\n",
              "      <th>3</th>\n",
              "      <td>bmw</td>\n",
              "      <td>audi</td>\n",
              "      <td>1504</td>\n",
              "      <td>783</td>\n",
              "      <td>bmw&amp;audi</td>\n",
              "      <td>435</td>\n",
              "    </tr>\n",
              "    <tr>\n",
              "      <th>4</th>\n",
              "      <td>bmw</td>\n",
              "      <td>toyota</td>\n",
              "      <td>1504</td>\n",
              "      <td>629</td>\n",
              "      <td>bmw&amp;toyota</td>\n",
              "      <td>309</td>\n",
              "    </tr>\n",
              "  </tbody>\n",
              "</table>\n",
              "</div>"
            ],
            "text/plain": [
              "  Brand1    Brand2  ...  Brand1&Brand2  Cooccurence\n",
              "0    bmw       bmw  ...        bmw&bmw            0\n",
              "1    bmw     acura  ...      bmw&acura          479\n",
              "2    bmw  infiniti  ...   bmw&infiniti          480\n",
              "3    bmw      audi  ...       bmw&audi          435\n",
              "4    bmw    toyota  ...     bmw&toyota          309\n",
              "\n",
              "[5 rows x 6 columns]"
            ]
          },
          "metadata": {
            "tags": []
          },
          "execution_count": 286
        }
      ]
    },
    {
      "cell_type": "code",
      "metadata": {
        "id": "tt_Kc2o0tSdR",
        "colab_type": "code",
        "outputId": "064ba210-8f99-4bc2-e02a-ba8fec571a55",
        "colab": {
          "base_uri": "https://localhost:8080/",
          "height": 196
        }
      },
      "source": [
        "## Calculating the lift\n",
        "\n",
        "combinations['Lift'] = (5000 * combinations['Cooccurence'])/(combinations['Brand1_occurence']*combinations['Brand2_occurence'])\n",
        "combinations.head(5)\n",
        "\n"
      ],
      "execution_count": 0,
      "outputs": [
        {
          "output_type": "execute_result",
          "data": {
            "text/html": [
              "<div>\n",
              "<style scoped>\n",
              "    .dataframe tbody tr th:only-of-type {\n",
              "        vertical-align: middle;\n",
              "    }\n",
              "\n",
              "    .dataframe tbody tr th {\n",
              "        vertical-align: top;\n",
              "    }\n",
              "\n",
              "    .dataframe thead th {\n",
              "        text-align: right;\n",
              "    }\n",
              "</style>\n",
              "<table border=\"1\" class=\"dataframe\">\n",
              "  <thead>\n",
              "    <tr style=\"text-align: right;\">\n",
              "      <th></th>\n",
              "      <th>Brand1</th>\n",
              "      <th>Brand2</th>\n",
              "      <th>Brand1_occurence</th>\n",
              "      <th>Brand2_occurence</th>\n",
              "      <th>Brand1&amp;Brand2</th>\n",
              "      <th>Cooccurence</th>\n",
              "      <th>Lift</th>\n",
              "    </tr>\n",
              "  </thead>\n",
              "  <tbody>\n",
              "    <tr>\n",
              "      <th>0</th>\n",
              "      <td>bmw</td>\n",
              "      <td>bmw</td>\n",
              "      <td>1504</td>\n",
              "      <td>1504</td>\n",
              "      <td>bmw&amp;bmw</td>\n",
              "      <td>0</td>\n",
              "      <td>0.000000</td>\n",
              "    </tr>\n",
              "    <tr>\n",
              "      <th>1</th>\n",
              "      <td>bmw</td>\n",
              "      <td>acura</td>\n",
              "      <td>1504</td>\n",
              "      <td>1253</td>\n",
              "      <td>bmw&amp;acura</td>\n",
              "      <td>479</td>\n",
              "      <td>1.270886</td>\n",
              "    </tr>\n",
              "    <tr>\n",
              "      <th>2</th>\n",
              "      <td>bmw</td>\n",
              "      <td>infiniti</td>\n",
              "      <td>1504</td>\n",
              "      <td>1022</td>\n",
              "      <td>bmw&amp;infiniti</td>\n",
              "      <td>480</td>\n",
              "      <td>1.561394</td>\n",
              "    </tr>\n",
              "    <tr>\n",
              "      <th>3</th>\n",
              "      <td>bmw</td>\n",
              "      <td>audi</td>\n",
              "      <td>1504</td>\n",
              "      <td>783</td>\n",
              "      <td>bmw&amp;audi</td>\n",
              "      <td>435</td>\n",
              "      <td>1.846927</td>\n",
              "    </tr>\n",
              "    <tr>\n",
              "      <th>4</th>\n",
              "      <td>bmw</td>\n",
              "      <td>toyota</td>\n",
              "      <td>1504</td>\n",
              "      <td>629</td>\n",
              "      <td>bmw&amp;toyota</td>\n",
              "      <td>309</td>\n",
              "      <td>1.633165</td>\n",
              "    </tr>\n",
              "  </tbody>\n",
              "</table>\n",
              "</div>"
            ],
            "text/plain": [
              "  Brand1    Brand2  Brand1_occurence  ...  Brand1&Brand2 Cooccurence      Lift\n",
              "0    bmw       bmw              1504  ...        bmw&bmw           0  0.000000\n",
              "1    bmw     acura              1504  ...      bmw&acura         479  1.270886\n",
              "2    bmw  infiniti              1504  ...   bmw&infiniti         480  1.561394\n",
              "3    bmw      audi              1504  ...       bmw&audi         435  1.846927\n",
              "4    bmw    toyota              1504  ...     bmw&toyota         309  1.633165\n",
              "\n",
              "[5 rows x 7 columns]"
            ]
          },
          "metadata": {
            "tags": []
          },
          "execution_count": 287
        }
      ]
    },
    {
      "cell_type": "code",
      "metadata": {
        "id": "Eq6Vp_qt3cOf",
        "colab_type": "code",
        "outputId": "6f0f7aa1-6969-42f6-cebe-b2fbe54acec8",
        "colab": {
          "base_uri": "https://localhost:8080/",
          "height": 345
        }
      },
      "source": [
        "## Getting in Matrix Format for Lifts\n",
        "\n",
        "brands = list(combinations['Brand1'].unique())\n",
        "df_lifts = pd.DataFrame(index=brands, columns=brands)\n",
        "for i in brands:\n",
        "  for j in brands:\n",
        "    x = combinations[combinations['Brand1'] == i]\n",
        "    value = x[x['Brand2'] == j]['Lift'].values[0]\n",
        "    df_lifts[i].loc[j] = value\n",
        " \n",
        "df_lifts.iloc[:10,:10]"
      ],
      "execution_count": 0,
      "outputs": [
        {
          "output_type": "execute_result",
          "data": {
            "text/html": [
              "<div>\n",
              "<style scoped>\n",
              "    .dataframe tbody tr th:only-of-type {\n",
              "        vertical-align: middle;\n",
              "    }\n",
              "\n",
              "    .dataframe tbody tr th {\n",
              "        vertical-align: top;\n",
              "    }\n",
              "\n",
              "    .dataframe thead th {\n",
              "        text-align: right;\n",
              "    }\n",
              "</style>\n",
              "<table border=\"1\" class=\"dataframe\">\n",
              "  <thead>\n",
              "    <tr style=\"text-align: right;\">\n",
              "      <th></th>\n",
              "      <th>bmw</th>\n",
              "      <th>acura</th>\n",
              "      <th>infiniti</th>\n",
              "      <th>audi</th>\n",
              "      <th>toyota</th>\n",
              "      <th>honda</th>\n",
              "      <th>lexus</th>\n",
              "      <th>nissan</th>\n",
              "      <th>cadillac</th>\n",
              "      <th>mercedes</th>\n",
              "    </tr>\n",
              "  </thead>\n",
              "  <tbody>\n",
              "    <tr>\n",
              "      <th>bmw</th>\n",
              "      <td>0</td>\n",
              "      <td>1.27089</td>\n",
              "      <td>1.56139</td>\n",
              "      <td>1.84693</td>\n",
              "      <td>1.63316</td>\n",
              "      <td>1.36033</td>\n",
              "      <td>2.0519</td>\n",
              "      <td>1.21284</td>\n",
              "      <td>1.64486</td>\n",
              "      <td>1.7519</td>\n",
              "    </tr>\n",
              "    <tr>\n",
              "      <th>acura</th>\n",
              "      <td>1.27089</td>\n",
              "      <td>0</td>\n",
              "      <td>1.90931</td>\n",
              "      <td>1.47793</td>\n",
              "      <td>1.52258</td>\n",
              "      <td>1.83276</td>\n",
              "      <td>1.76431</td>\n",
              "      <td>1.53378</td>\n",
              "      <td>1.55724</td>\n",
              "      <td>1.22528</td>\n",
              "    </tr>\n",
              "    <tr>\n",
              "      <th>infiniti</th>\n",
              "      <td>1.56139</td>\n",
              "      <td>1.90931</td>\n",
              "      <td>0</td>\n",
              "      <td>1.84948</td>\n",
              "      <td>1.65672</td>\n",
              "      <td>1.47077</td>\n",
              "      <td>2.29375</td>\n",
              "      <td>2.02388</td>\n",
              "      <td>2.06264</td>\n",
              "      <td>1.52252</td>\n",
              "    </tr>\n",
              "    <tr>\n",
              "      <th>audi</th>\n",
              "      <td>1.84693</td>\n",
              "      <td>1.47793</td>\n",
              "      <td>1.84948</td>\n",
              "      <td>0</td>\n",
              "      <td>1.76647</td>\n",
              "      <td>1.43978</td>\n",
              "      <td>2.25489</td>\n",
              "      <td>1.47682</td>\n",
              "      <td>2.06923</td>\n",
              "      <td>2.43769</td>\n",
              "    </tr>\n",
              "    <tr>\n",
              "      <th>toyota</th>\n",
              "      <td>1.63316</td>\n",
              "      <td>1.52258</td>\n",
              "      <td>1.65672</td>\n",
              "      <td>1.76647</td>\n",
              "      <td>0</td>\n",
              "      <td>2.4561</td>\n",
              "      <td>3.06643</td>\n",
              "      <td>2.51161</td>\n",
              "      <td>1.88342</td>\n",
              "      <td>1.78113</td>\n",
              "    </tr>\n",
              "    <tr>\n",
              "      <th>honda</th>\n",
              "      <td>1.36033</td>\n",
              "      <td>1.83276</td>\n",
              "      <td>1.47077</td>\n",
              "      <td>1.43978</td>\n",
              "      <td>2.4561</td>\n",
              "      <td>0</td>\n",
              "      <td>1.4558</td>\n",
              "      <td>3.63814</td>\n",
              "      <td>1.09112</td>\n",
              "      <td>1.60258</td>\n",
              "    </tr>\n",
              "    <tr>\n",
              "      <th>lexus</th>\n",
              "      <td>2.0519</td>\n",
              "      <td>1.76431</td>\n",
              "      <td>2.29375</td>\n",
              "      <td>2.25489</td>\n",
              "      <td>3.06643</td>\n",
              "      <td>1.4558</td>\n",
              "      <td>0</td>\n",
              "      <td>1.59483</td>\n",
              "      <td>2.6365</td>\n",
              "      <td>4.18632</td>\n",
              "    </tr>\n",
              "    <tr>\n",
              "      <th>nissan</th>\n",
              "      <td>1.21284</td>\n",
              "      <td>1.53378</td>\n",
              "      <td>2.02388</td>\n",
              "      <td>1.47682</td>\n",
              "      <td>2.51161</td>\n",
              "      <td>3.63814</td>\n",
              "      <td>1.59483</td>\n",
              "      <td>0</td>\n",
              "      <td>1.19171</td>\n",
              "      <td>1.55433</td>\n",
              "    </tr>\n",
              "    <tr>\n",
              "      <th>cadillac</th>\n",
              "      <td>1.64486</td>\n",
              "      <td>1.55724</td>\n",
              "      <td>2.06264</td>\n",
              "      <td>2.06923</td>\n",
              "      <td>1.88342</td>\n",
              "      <td>1.09112</td>\n",
              "      <td>2.6365</td>\n",
              "      <td>1.19171</td>\n",
              "      <td>0</td>\n",
              "      <td>3.253</td>\n",
              "    </tr>\n",
              "    <tr>\n",
              "      <th>mercedes</th>\n",
              "      <td>1.7519</td>\n",
              "      <td>1.22528</td>\n",
              "      <td>1.52252</td>\n",
              "      <td>2.43769</td>\n",
              "      <td>1.78113</td>\n",
              "      <td>1.60258</td>\n",
              "      <td>4.18632</td>\n",
              "      <td>1.55433</td>\n",
              "      <td>3.253</td>\n",
              "      <td>0</td>\n",
              "    </tr>\n",
              "  </tbody>\n",
              "</table>\n",
              "</div>"
            ],
            "text/plain": [
              "              bmw    acura infiniti  ...   nissan cadillac mercedes\n",
              "bmw             0  1.27089  1.56139  ...  1.21284  1.64486   1.7519\n",
              "acura     1.27089        0  1.90931  ...  1.53378  1.55724  1.22528\n",
              "infiniti  1.56139  1.90931        0  ...  2.02388  2.06264  1.52252\n",
              "audi      1.84693  1.47793  1.84948  ...  1.47682  2.06923  2.43769\n",
              "toyota    1.63316  1.52258  1.65672  ...  2.51161  1.88342  1.78113\n",
              "honda     1.36033  1.83276  1.47077  ...  3.63814  1.09112  1.60258\n",
              "lexus      2.0519  1.76431  2.29375  ...  1.59483   2.6365  4.18632\n",
              "nissan    1.21284  1.53378  2.02388  ...        0  1.19171  1.55433\n",
              "cadillac  1.64486  1.55724  2.06264  ...  1.19171        0    3.253\n",
              "mercedes   1.7519  1.22528  1.52252  ...  1.55433    3.253        0\n",
              "\n",
              "[10 rows x 10 columns]"
            ]
          },
          "metadata": {
            "tags": []
          },
          "execution_count": 288
        }
      ]
    },
    {
      "cell_type": "code",
      "metadata": {
        "id": "teflFya9797M",
        "colab_type": "code",
        "outputId": "a95188fa-fc46-4b79-fcad-9879d34e8e48",
        "colab": {
          "base_uri": "https://localhost:8080/",
          "height": 345
        }
      },
      "source": [
        "## Getting in Matrix Format for MDS\n",
        "\n",
        "brands = list(combinations['Brand1'].unique())\n",
        "df = pd.DataFrame(index=brands, columns=brands)\n",
        "for i in brands:\n",
        "  for j in brands:\n",
        "    x = combinations[combinations['Brand1'] == i]\n",
        "    value = 1/(x[x['Brand2'] == j]['Lift'].values[0])\n",
        "    if value == float(\"inf\"):\n",
        "      value = 0\n",
        "    elif isnan(value):\n",
        "      value = 0\n",
        "    df[i].loc[j] = value\n",
        " \n",
        "df.iloc[:10,:10]"
      ],
      "execution_count": 0,
      "outputs": [
        {
          "output_type": "execute_result",
          "data": {
            "text/html": [
              "<div>\n",
              "<style scoped>\n",
              "    .dataframe tbody tr th:only-of-type {\n",
              "        vertical-align: middle;\n",
              "    }\n",
              "\n",
              "    .dataframe tbody tr th {\n",
              "        vertical-align: top;\n",
              "    }\n",
              "\n",
              "    .dataframe thead th {\n",
              "        text-align: right;\n",
              "    }\n",
              "</style>\n",
              "<table border=\"1\" class=\"dataframe\">\n",
              "  <thead>\n",
              "    <tr style=\"text-align: right;\">\n",
              "      <th></th>\n",
              "      <th>bmw</th>\n",
              "      <th>acura</th>\n",
              "      <th>infiniti</th>\n",
              "      <th>audi</th>\n",
              "      <th>toyota</th>\n",
              "      <th>honda</th>\n",
              "      <th>lexus</th>\n",
              "      <th>nissan</th>\n",
              "      <th>cadillac</th>\n",
              "      <th>mercedes</th>\n",
              "    </tr>\n",
              "  </thead>\n",
              "  <tbody>\n",
              "    <tr>\n",
              "      <th>bmw</th>\n",
              "      <td>0</td>\n",
              "      <td>0.786853</td>\n",
              "      <td>0.640453</td>\n",
              "      <td>0.54144</td>\n",
              "      <td>0.612308</td>\n",
              "      <td>0.735118</td>\n",
              "      <td>0.487354</td>\n",
              "      <td>0.824514</td>\n",
              "      <td>0.607955</td>\n",
              "      <td>0.570809</td>\n",
              "    </tr>\n",
              "    <tr>\n",
              "      <th>acura</th>\n",
              "      <td>0.786853</td>\n",
              "      <td>0</td>\n",
              "      <td>0.523749</td>\n",
              "      <td>0.67662</td>\n",
              "      <td>0.656781</td>\n",
              "      <td>0.545625</td>\n",
              "      <td>0.566793</td>\n",
              "      <td>0.651985</td>\n",
              "      <td>0.642162</td>\n",
              "      <td>0.816143</td>\n",
              "    </tr>\n",
              "    <tr>\n",
              "      <th>infiniti</th>\n",
              "      <td>0.640453</td>\n",
              "      <td>0.523749</td>\n",
              "      <td>0</td>\n",
              "      <td>0.540693</td>\n",
              "      <td>0.603604</td>\n",
              "      <td>0.679914</td>\n",
              "      <td>0.435967</td>\n",
              "      <td>0.494101</td>\n",
              "      <td>0.484817</td>\n",
              "      <td>0.656805</td>\n",
              "    </tr>\n",
              "    <tr>\n",
              "      <th>audi</th>\n",
              "      <td>0.54144</td>\n",
              "      <td>0.67662</td>\n",
              "      <td>0.540693</td>\n",
              "      <td>0</td>\n",
              "      <td>0.5661</td>\n",
              "      <td>0.69455</td>\n",
              "      <td>0.443481</td>\n",
              "      <td>0.67713</td>\n",
              "      <td>0.483271</td>\n",
              "      <td>0.410224</td>\n",
              "    </tr>\n",
              "    <tr>\n",
              "      <th>toyota</th>\n",
              "      <td>0.612308</td>\n",
              "      <td>0.656781</td>\n",
              "      <td>0.603604</td>\n",
              "      <td>0.5661</td>\n",
              "      <td>0</td>\n",
              "      <td>0.40715</td>\n",
              "      <td>0.326112</td>\n",
              "      <td>0.398151</td>\n",
              "      <td>0.53095</td>\n",
              "      <td>0.561441</td>\n",
              "    </tr>\n",
              "    <tr>\n",
              "      <th>honda</th>\n",
              "      <td>0.735118</td>\n",
              "      <td>0.545625</td>\n",
              "      <td>0.679914</td>\n",
              "      <td>0.69455</td>\n",
              "      <td>0.40715</td>\n",
              "      <td>0</td>\n",
              "      <td>0.686906</td>\n",
              "      <td>0.274865</td>\n",
              "      <td>0.916487</td>\n",
              "      <td>0.623995</td>\n",
              "    </tr>\n",
              "    <tr>\n",
              "      <th>lexus</th>\n",
              "      <td>0.487354</td>\n",
              "      <td>0.566793</td>\n",
              "      <td>0.435967</td>\n",
              "      <td>0.443481</td>\n",
              "      <td>0.326112</td>\n",
              "      <td>0.686906</td>\n",
              "      <td>0</td>\n",
              "      <td>0.627024</td>\n",
              "      <td>0.37929</td>\n",
              "      <td>0.238874</td>\n",
              "    </tr>\n",
              "    <tr>\n",
              "      <th>nissan</th>\n",
              "      <td>0.824514</td>\n",
              "      <td>0.651985</td>\n",
              "      <td>0.494101</td>\n",
              "      <td>0.67713</td>\n",
              "      <td>0.398151</td>\n",
              "      <td>0.274865</td>\n",
              "      <td>0.627024</td>\n",
              "      <td>0</td>\n",
              "      <td>0.839133</td>\n",
              "      <td>0.643365</td>\n",
              "    </tr>\n",
              "    <tr>\n",
              "      <th>cadillac</th>\n",
              "      <td>0.607955</td>\n",
              "      <td>0.642162</td>\n",
              "      <td>0.484817</td>\n",
              "      <td>0.483271</td>\n",
              "      <td>0.53095</td>\n",
              "      <td>0.916487</td>\n",
              "      <td>0.37929</td>\n",
              "      <td>0.839133</td>\n",
              "      <td>0</td>\n",
              "      <td>0.307409</td>\n",
              "    </tr>\n",
              "    <tr>\n",
              "      <th>mercedes</th>\n",
              "      <td>0.570809</td>\n",
              "      <td>0.816143</td>\n",
              "      <td>0.656805</td>\n",
              "      <td>0.410224</td>\n",
              "      <td>0.561441</td>\n",
              "      <td>0.623995</td>\n",
              "      <td>0.238874</td>\n",
              "      <td>0.643365</td>\n",
              "      <td>0.307409</td>\n",
              "      <td>0</td>\n",
              "    </tr>\n",
              "  </tbody>\n",
              "</table>\n",
              "</div>"
            ],
            "text/plain": [
              "               bmw     acura  infiniti  ...    nissan  cadillac  mercedes\n",
              "bmw              0  0.786853  0.640453  ...  0.824514  0.607955  0.570809\n",
              "acura     0.786853         0  0.523749  ...  0.651985  0.642162  0.816143\n",
              "infiniti  0.640453  0.523749         0  ...  0.494101  0.484817  0.656805\n",
              "audi       0.54144   0.67662  0.540693  ...   0.67713  0.483271  0.410224\n",
              "toyota    0.612308  0.656781  0.603604  ...  0.398151   0.53095  0.561441\n",
              "honda     0.735118  0.545625  0.679914  ...  0.274865  0.916487  0.623995\n",
              "lexus     0.487354  0.566793  0.435967  ...  0.627024   0.37929  0.238874\n",
              "nissan    0.824514  0.651985  0.494101  ...         0  0.839133  0.643365\n",
              "cadillac  0.607955  0.642162  0.484817  ...  0.839133         0  0.307409\n",
              "mercedes  0.570809  0.816143  0.656805  ...  0.643365  0.307409         0\n",
              "\n",
              "[10 rows x 10 columns]"
            ]
          },
          "metadata": {
            "tags": []
          },
          "execution_count": 289
        }
      ]
    },
    {
      "cell_type": "code",
      "metadata": {
        "id": "Zg4UgB8m5csD",
        "colab_type": "code",
        "outputId": "e9ad470c-7c31-4c2a-9283-cf00c7e52529",
        "colab": {
          "base_uri": "https://localhost:8080/",
          "height": 341
        }
      },
      "source": [
        "#https://datascience.stackexchange.com/questions/49316/multidimensional-scaling-producing-different-results-for-different-seeds\n",
        "\n",
        "from sklearn import manifold\n",
        "\n",
        "df_new = df.iloc[:10,:10]\n",
        "\n",
        "#df_new = df\n",
        "mds = manifold.MDS(n_components=2, dissimilarity=\"precomputed\", random_state=6)\n",
        "results = mds.fit(df_new.values)\n",
        "\n",
        "brands = df_new.columns\n",
        "coords = results.embedding_\n",
        "\n",
        "fig = plt.figure(figsize=(5,5))\n",
        "\n",
        "plt.subplots_adjust(bottom = 0.1)\n",
        "plt.scatter(coords[:, 0], coords[:, 1])\n",
        "\n",
        "for label, x, y in zip(brands, coords[:, 0], coords[:, 1]):\n",
        "    plt.annotate(\n",
        "        label,\n",
        "        xy = (x, y), \n",
        "        xytext = (-20, 20),\n",
        "        textcoords = 'offset points'\n",
        "    )\n",
        "plt.show()"
      ],
      "execution_count": 0,
      "outputs": [
        {
          "output_type": "display_data",
          "data": {
            "image/png": "[encoded data removed]",
            "text/plain": [
              "<Figure size 360x360 with 1 Axes>"
            ]
          },
          "metadata": {
            "tags": []
          }
        }
      ]
    },
    {
      "cell_type": "markdown",
      "metadata": {
        "id": "fAOqXVX11hs8",
        "colab_type": "text"
      },
      "source": [
        "Points to notice from the MDS above:\n",
        "\n",
        "  1) Nissan, Honda and Toyota are comparable brands\n",
        "  \n",
        "  2) Mercedes, Audi and Lexus are comparable brands\n",
        "\n",
        "  3) Cadillac is close to Mercedes and no other brands\n",
        "\n",
        "  4) BMW isn't talked with any of the other brands. It suggests that people who own a BMW tend to stick with a BMW\n",
        "\n",
        "  5) Infiniti and Acura are in a cluster of their own "
      ]
    },
    {
      "cell_type": "code",
      "metadata": {
        "id": "djFgAi6qBLdt",
        "colab_type": "code",
        "colab": {}
      },
      "source": [
        "#combinations.to_csv('/content/gdrive/My Drive/Colab Notebooks/Text Analytics/Combinations.csv')"
      ],
      "execution_count": 0,
      "outputs": []
    },
    {
      "cell_type": "markdown",
      "metadata": {
        "id": "3rUWjdq05gEz",
        "colab_type": "text"
      },
      "source": [
        "##  **Looking at the attributes**"
      ]
    },
    {
      "cell_type": "code",
      "metadata": {
        "id": "N1luU4MMD4KZ",
        "colab_type": "code",
        "outputId": "ac1c6a79-77c4-419b-f790-41e442c3fe65",
        "colab": {
          "base_uri": "https://localhost:8080/",
          "height": 297
        }
      },
      "source": [
        "df_scraped.head(5)"
      ],
      "execution_count": 0,
      "outputs": [
        {
          "output_type": "execute_result",
          "data": {
            "text/html": [
              "<div>\n",
              "<style scoped>\n",
              "    .dataframe tbody tr th:only-of-type {\n",
              "        vertical-align: middle;\n",
              "    }\n",
              "\n",
              "    .dataframe tbody tr th {\n",
              "        vertical-align: top;\n",
              "    }\n",
              "\n",
              "    .dataframe thead th {\n",
              "        text-align: right;\n",
              "    }\n",
              "</style>\n",
              "<table border=\"1\" class=\"dataframe\">\n",
              "  <thead>\n",
              "    <tr style=\"text-align: right;\">\n",
              "      <th></th>\n",
              "      <th>Unnamed: 0</th>\n",
              "      <th>Username</th>\n",
              "      <th>Time</th>\n",
              "      <th>Subject</th>\n",
              "      <th>Cleaned</th>\n",
              "      <th>Brandlist</th>\n",
              "    </tr>\n",
              "  </thead>\n",
              "  <tbody>\n",
              "    <tr>\n",
              "      <th>0</th>\n",
              "      <td>0</td>\n",
              "      <td>merc1</td>\n",
              "      <td>March 25, 2002 5:54AM</td>\n",
              "      <td>I personally think that with a few tweaks the ...</td>\n",
              "      <td>[personally, think, tweaks, c320, could, also,...</td>\n",
              "      <td>[cadillac, infiniti, buick, chrysler, lexus, f...</td>\n",
              "    </tr>\n",
              "    <tr>\n",
              "      <th>1</th>\n",
              "      <td>1</td>\n",
              "      <td>fredvh</td>\n",
              "      <td>March 25, 2002 7:06AM</td>\n",
              "      <td>I am debating a new purchase and these two are...</td>\n",
              "      <td>[debating, new, purchase, two, top, list, pric...</td>\n",
              "      <td>[lexus, acura, honda]</td>\n",
              "    </tr>\n",
              "    <tr>\n",
              "      <th>2</th>\n",
              "      <td>2</td>\n",
              "      <td>blueguydotcom</td>\n",
              "      <td>March 25, 2002 5:02PM</td>\n",
              "      <td>Great handling, RWD, excellent engine and the ...</td>\n",
              "      <td>[great, handling, rwd, excellent, engine, best...</td>\n",
              "      <td>[]</td>\n",
              "    </tr>\n",
              "    <tr>\n",
              "      <th>3</th>\n",
              "      <td>3</td>\n",
              "      <td>hungrywhale</td>\n",
              "      <td>March 25, 2002 11:04PM</td>\n",
              "      <td>And no manual tranny. That may not matter to y...</td>\n",
              "      <td>[manual, tranny, may, matter, certainly, matte...</td>\n",
              "      <td>[]</td>\n",
              "    </tr>\n",
              "    <tr>\n",
              "      <th>4</th>\n",
              "      <td>4</td>\n",
              "      <td>riez</td>\n",
              "      <td>March 26, 2002 12:44AM</td>\n",
              "      <td>One beauty of BMW 3 Series is that there are s...</td>\n",
              "      <td>[one, beauty, bmw, series, many, models, choos...</td>\n",
              "      <td>[bmw]</td>\n",
              "    </tr>\n",
              "  </tbody>\n",
              "</table>\n",
              "</div>"
            ],
            "text/plain": [
              "   Unnamed: 0  ...                                          Brandlist\n",
              "0           0  ...  [cadillac, infiniti, buick, chrysler, lexus, f...\n",
              "1           1  ...                              [lexus, acura, honda]\n",
              "2           2  ...                                                 []\n",
              "3           3  ...                                                 []\n",
              "4           4  ...                                              [bmw]\n",
              "\n",
              "[5 rows x 6 columns]"
            ]
          },
          "metadata": {
            "tags": []
          },
          "execution_count": 292
        }
      ]
    },
    {
      "cell_type": "code",
      "metadata": {
        "id": "AHktStOq5nSo",
        "colab_type": "code",
        "outputId": "78431514-baba-450b-aa46-ad0997ae5d7f",
        "colab": {
          "base_uri": "https://localhost:8080/",
          "height": 196
        }
      },
      "source": [
        "## Getting the top most frequent words\n",
        "\n",
        "wordcounts = pd.Series(df_scraped['Cleaned'].sum()).value_counts()\n",
        "wordfrequency = pd.DataFrame(wordcounts)\n",
        "wordfrequency.reset_index(inplace= True)\n",
        "wordfrequency.columns = [\"Words\",\"Count\"]\n",
        "wordfrequency.head(5)\n"
      ],
      "execution_count": 0,
      "outputs": [
        {
          "output_type": "execute_result",
          "data": {
            "text/html": [
              "<div>\n",
              "<style scoped>\n",
              "    .dataframe tbody tr th:only-of-type {\n",
              "        vertical-align: middle;\n",
              "    }\n",
              "\n",
              "    .dataframe tbody tr th {\n",
              "        vertical-align: top;\n",
              "    }\n",
              "\n",
              "    .dataframe thead th {\n",
              "        text-align: right;\n",
              "    }\n",
              "</style>\n",
              "<table border=\"1\" class=\"dataframe\">\n",
              "  <thead>\n",
              "    <tr style=\"text-align: right;\">\n",
              "      <th></th>\n",
              "      <th>Words</th>\n",
              "      <th>Count</th>\n",
              "    </tr>\n",
              "  </thead>\n",
              "  <tbody>\n",
              "    <tr>\n",
              "      <th>0</th>\n",
              "      <td></td>\n",
              "      <td>7574</td>\n",
              "    </tr>\n",
              "    <tr>\n",
              "      <th>1</th>\n",
              "      <td>car</td>\n",
              "      <td>3938</td>\n",
              "    </tr>\n",
              "    <tr>\n",
              "      <th>2</th>\n",
              "      <td>s</td>\n",
              "      <td>3902</td>\n",
              "    </tr>\n",
              "    <tr>\n",
              "      <th>3</th>\n",
              "      <td>nt</td>\n",
              "      <td>3395</td>\n",
              "    </tr>\n",
              "    <tr>\n",
              "      <th>4</th>\n",
              "      <td>cars</td>\n",
              "      <td>1960</td>\n",
              "    </tr>\n",
              "  </tbody>\n",
              "</table>\n",
              "</div>"
            ],
            "text/plain": [
              "  Words  Count\n",
              "0         7574\n",
              "1   car   3938\n",
              "2     s   3902\n",
              "3    nt   3395\n",
              "4  cars   1960"
            ]
          },
          "metadata": {
            "tags": []
          },
          "execution_count": 293
        }
      ]
    },
    {
      "cell_type": "code",
      "metadata": {
        "id": "olweI9yNHFut",
        "colab_type": "code",
        "colab": {}
      },
      "source": [
        "#wordfrequency.to_csv('/content/gdrive/My Drive/Colab Notebooks/Text Analytics/WordFrequencies.csv')"
      ],
      "execution_count": 0,
      "outputs": []
    },
    {
      "cell_type": "markdown",
      "metadata": {
        "id": "0U354-FqaVIz",
        "colab_type": "text"
      },
      "source": [
        "Looked at the frequenct words in the comments of users and grouped these words into five major attributes.\n",
        "\n",
        "1) **Performance**: If the user talks about the performance of the car. We grouped words like: Engine, Power, Torque, RPM, HorsePower etc\n",
        "\n",
        "2) **Features and Styling**: If the user is talking about the internal or external features about the car then they are grouped together. It contains words like: Leather, Design, Interior, Looks, Sporty etc\n",
        "\n",
        "3) **Feel and Comfort**: If the user describes how he feels while driving the car we group them under this category. It has words like Luxury, Handling, Fun, Reliable, Quality, Experience etc\n",
        "\n",
        "4) **Economic**: If the user talks about the price or mileage details of the cars they come under this category. It has words like Value, Money, Deal, Mileage, MPG etc\n",
        "\n",
        "5) **Dealership Services**: If the user talks about thier experience with the dealership or the sales representatives we include them here. It has words like Dealer, Service, Warranty, Support, Salesman etc"
      ]
    },
    {
      "cell_type": "code",
      "metadata": {
        "id": "6LXe2yG-HZC-",
        "colab_type": "code",
        "outputId": "f67b6cb7-bc1c-43c2-b49d-282917dbd40d",
        "colab": {
          "base_uri": "https://localhost:8080/",
          "height": 117
        }
      },
      "source": [
        "## Importing the Words - Attributes file\n",
        "\n",
        "df_attributes = pd.read_csv('/content/gdrive/My Drive/Colab Notebooks/Text Analytics/Attributes Lookup.csv')\n",
        "print(df_attributes.head(5))\n"
      ],
      "execution_count": 0,
      "outputs": [
        {
          "output_type": "stream",
          "text": [
            "         Words        Attributes\n",
            "0  performance       Performance\n",
            "1       luxury  Feel and Comfort\n",
            "2       engine       Performance\n",
            "3        price          Economic\n",
            "4          buy          Economic\n"
          ],
          "name": "stdout"
        }
      ]
    },
    {
      "cell_type": "code",
      "metadata": {
        "id": "8OrBYSTzmPEG",
        "colab_type": "code",
        "outputId": "58fee945-62d7-48aa-d46e-0c827e1d8629",
        "colab": {
          "base_uri": "https://localhost:8080/",
          "height": 297
        }
      },
      "source": [
        "### Getting the list of attributes and features discussed in each comment\n",
        "\n",
        "words_list = list(df_attributes['Words'].values)\n",
        "\n",
        "def getwordlist(l):\n",
        "  words = []\n",
        "  for w in l:\n",
        "    if w in words_list:\n",
        "      words.append(w)\n",
        "  return list(set(words))\n",
        "\n",
        "\n",
        "\n",
        "df_scraped['WordsList'] = df_scraped['Cleaned'].map(getwordlist)\n",
        "\n",
        "df_scraped.head(5)"
      ],
      "execution_count": 0,
      "outputs": [
        {
          "output_type": "execute_result",
          "data": {
            "text/html": [
              "<div>\n",
              "<style scoped>\n",
              "    .dataframe tbody tr th:only-of-type {\n",
              "        vertical-align: middle;\n",
              "    }\n",
              "\n",
              "    .dataframe tbody tr th {\n",
              "        vertical-align: top;\n",
              "    }\n",
              "\n",
              "    .dataframe thead th {\n",
              "        text-align: right;\n",
              "    }\n",
              "</style>\n",
              "<table border=\"1\" class=\"dataframe\">\n",
              "  <thead>\n",
              "    <tr style=\"text-align: right;\">\n",
              "      <th></th>\n",
              "      <th>Unnamed: 0</th>\n",
              "      <th>Username</th>\n",
              "      <th>Time</th>\n",
              "      <th>Subject</th>\n",
              "      <th>Cleaned</th>\n",
              "      <th>Brandlist</th>\n",
              "      <th>WordsList</th>\n",
              "    </tr>\n",
              "  </thead>\n",
              "  <tbody>\n",
              "    <tr>\n",
              "      <th>0</th>\n",
              "      <td>0</td>\n",
              "      <td>merc1</td>\n",
              "      <td>March 25, 2002 5:54AM</td>\n",
              "      <td>I personally think that with a few tweaks the ...</td>\n",
              "      <td>[personally, think, tweaks, c320, could, also,...</td>\n",
              "      <td>[cadillac, infiniti, buick, chrysler, lexus, f...</td>\n",
              "      <td>[look, body, transmission, power, engine, look...</td>\n",
              "    </tr>\n",
              "    <tr>\n",
              "      <th>1</th>\n",
              "      <td>1</td>\n",
              "      <td>fredvh</td>\n",
              "      <td>March 25, 2002 7:06AM</td>\n",
              "      <td>I am debating a new purchase and these two are...</td>\n",
              "      <td>[debating, new, purchase, two, top, list, pric...</td>\n",
              "      <td>[lexus, acura, honda]</td>\n",
              "      <td>[worth, price, quality, service, prices]</td>\n",
              "    </tr>\n",
              "    <tr>\n",
              "      <th>2</th>\n",
              "      <td>2</td>\n",
              "      <td>blueguydotcom</td>\n",
              "      <td>March 25, 2002 5:02PM</td>\n",
              "      <td>Great handling, RWD, excellent engine and the ...</td>\n",
              "      <td>[great, handling, rwd, excellent, engine, best...</td>\n",
              "      <td>[]</td>\n",
              "      <td>[warranty, engine, handling]</td>\n",
              "    </tr>\n",
              "    <tr>\n",
              "      <th>3</th>\n",
              "      <td>3</td>\n",
              "      <td>hungrywhale</td>\n",
              "      <td>March 25, 2002 11:04PM</td>\n",
              "      <td>And no manual tranny. That may not matter to y...</td>\n",
              "      <td>[manual, tranny, may, matter, certainly, matte...</td>\n",
              "      <td>[]</td>\n",
              "      <td>[manual]</td>\n",
              "    </tr>\n",
              "    <tr>\n",
              "      <th>4</th>\n",
              "      <td>4</td>\n",
              "      <td>riez</td>\n",
              "      <td>March 26, 2002 12:44AM</td>\n",
              "      <td>One beauty of BMW 3 Series is that there are s...</td>\n",
              "      <td>[one, beauty, bmw, series, many, models, choos...</td>\n",
              "      <td>[bmw]</td>\n",
              "      <td>[manual, engine, transmission, performance]</td>\n",
              "    </tr>\n",
              "  </tbody>\n",
              "</table>\n",
              "</div>"
            ],
            "text/plain": [
              "   Unnamed: 0  ...                                          WordsList\n",
              "0           0  ...  [look, body, transmission, power, engine, look...\n",
              "1           1  ...           [worth, price, quality, service, prices]\n",
              "2           2  ...                       [warranty, engine, handling]\n",
              "3           3  ...                                           [manual]\n",
              "4           4  ...        [manual, engine, transmission, performance]\n",
              "\n",
              "[5 rows x 7 columns]"
            ]
          },
          "metadata": {
            "tags": []
          },
          "execution_count": 296
        }
      ]
    },
    {
      "cell_type": "code",
      "metadata": {
        "id": "Hxa1GNYlpgKr",
        "colab_type": "code",
        "outputId": "ffb6b063-9078-4b76-e7ed-84be27ac60ac",
        "colab": {
          "base_uri": "https://localhost:8080/",
          "height": 217
        }
      },
      "source": [
        "## Getting the number of times the features were mentioned throughout\n",
        "featurecounts = pd.Series(pd.Series(df_scraped['WordsList'].sum()).value_counts())\n",
        "featurecounts"
      ],
      "execution_count": 0,
      "outputs": [
        {
          "output_type": "execute_result",
          "data": {
            "text/plain": [
              "performance    663\n",
              "luxury         446\n",
              "engine         435\n",
              "price          428\n",
              "buy            424\n",
              "              ... \n",
              "dealerships     12\n",
              "salesperson      8\n",
              "showroom         8\n",
              "salesguy         4\n",
              "salesmen         3\n",
              "Length: 148, dtype: int64"
            ]
          },
          "metadata": {
            "tags": []
          },
          "execution_count": 297
        }
      ]
    },
    {
      "cell_type": "code",
      "metadata": {
        "id": "fhuHPlQXoZom",
        "colab_type": "code",
        "outputId": "fd014da9-96bf-4f3a-d6a5-6d291213af9d",
        "colab": {
          "base_uri": "https://localhost:8080/",
          "height": 196
        }
      },
      "source": [
        "## Getting combinations of brands and Features. Only the TOP 5 brands are considered here\n",
        "\n",
        "import itertools\n",
        "from itertools import product\n",
        "\n",
        "a = brandcounts[:5].index.tolist()\n",
        "b = df_attributes['Words'].unique().tolist()\n",
        "brand_feature_comb = pd.DataFrame(itertools.product(a, b))\n",
        "brand_feature_comb.columns = [\"Brand\",\"Words\"]\n",
        "brand_feature_comb.head(5)"
      ],
      "execution_count": 0,
      "outputs": [
        {
          "output_type": "execute_result",
          "data": {
            "text/html": [
              "<div>\n",
              "<style scoped>\n",
              "    .dataframe tbody tr th:only-of-type {\n",
              "        vertical-align: middle;\n",
              "    }\n",
              "\n",
              "    .dataframe tbody tr th {\n",
              "        vertical-align: top;\n",
              "    }\n",
              "\n",
              "    .dataframe thead th {\n",
              "        text-align: right;\n",
              "    }\n",
              "</style>\n",
              "<table border=\"1\" class=\"dataframe\">\n",
              "  <thead>\n",
              "    <tr style=\"text-align: right;\">\n",
              "      <th></th>\n",
              "      <th>Brand</th>\n",
              "      <th>Words</th>\n",
              "    </tr>\n",
              "  </thead>\n",
              "  <tbody>\n",
              "    <tr>\n",
              "      <th>0</th>\n",
              "      <td>bmw</td>\n",
              "      <td>performance</td>\n",
              "    </tr>\n",
              "    <tr>\n",
              "      <th>1</th>\n",
              "      <td>bmw</td>\n",
              "      <td>luxury</td>\n",
              "    </tr>\n",
              "    <tr>\n",
              "      <th>2</th>\n",
              "      <td>bmw</td>\n",
              "      <td>engine</td>\n",
              "    </tr>\n",
              "    <tr>\n",
              "      <th>3</th>\n",
              "      <td>bmw</td>\n",
              "      <td>price</td>\n",
              "    </tr>\n",
              "    <tr>\n",
              "      <th>4</th>\n",
              "      <td>bmw</td>\n",
              "      <td>buy</td>\n",
              "    </tr>\n",
              "  </tbody>\n",
              "</table>\n",
              "</div>"
            ],
            "text/plain": [
              "  Brand        Words\n",
              "0   bmw  performance\n",
              "1   bmw       luxury\n",
              "2   bmw       engine\n",
              "3   bmw        price\n",
              "4   bmw          buy"
            ]
          },
          "metadata": {
            "tags": []
          },
          "execution_count": 298
        }
      ]
    },
    {
      "cell_type": "code",
      "metadata": {
        "id": "7Qsfu4SCo_tB",
        "colab_type": "code",
        "outputId": "b0f132ca-2033-4936-db04-a713fd7b1bb8",
        "colab": {
          "base_uri": "https://localhost:8080/",
          "height": 196
        }
      },
      "source": [
        "## Getting the Brand and Feature occurences\n",
        "\n",
        "def brandcounter(s):\n",
        "  counts = brandcounts[s]\n",
        "  return counts\n",
        "\n",
        "def featcounter(s):\n",
        "  counts = featurecounts[s]\n",
        "  return counts\n",
        "\n",
        "brand_feature_comb['Brand_occurence'] = brand_feature_comb['Brand'].map(brandcounter)\n",
        "brand_feature_comb['Feature_occurence'] = brand_feature_comb['Words'].map(featcounter)\n",
        "brand_feature_comb.head(5)"
      ],
      "execution_count": 0,
      "outputs": [
        {
          "output_type": "execute_result",
          "data": {
            "text/html": [
              "<div>\n",
              "<style scoped>\n",
              "    .dataframe tbody tr th:only-of-type {\n",
              "        vertical-align: middle;\n",
              "    }\n",
              "\n",
              "    .dataframe tbody tr th {\n",
              "        vertical-align: top;\n",
              "    }\n",
              "\n",
              "    .dataframe thead th {\n",
              "        text-align: right;\n",
              "    }\n",
              "</style>\n",
              "<table border=\"1\" class=\"dataframe\">\n",
              "  <thead>\n",
              "    <tr style=\"text-align: right;\">\n",
              "      <th></th>\n",
              "      <th>Brand</th>\n",
              "      <th>Words</th>\n",
              "      <th>Brand_occurence</th>\n",
              "      <th>Feature_occurence</th>\n",
              "    </tr>\n",
              "  </thead>\n",
              "  <tbody>\n",
              "    <tr>\n",
              "      <th>0</th>\n",
              "      <td>bmw</td>\n",
              "      <td>performance</td>\n",
              "      <td>1504</td>\n",
              "      <td>663</td>\n",
              "    </tr>\n",
              "    <tr>\n",
              "      <th>1</th>\n",
              "      <td>bmw</td>\n",
              "      <td>luxury</td>\n",
              "      <td>1504</td>\n",
              "      <td>446</td>\n",
              "    </tr>\n",
              "    <tr>\n",
              "      <th>2</th>\n",
              "      <td>bmw</td>\n",
              "      <td>engine</td>\n",
              "      <td>1504</td>\n",
              "      <td>435</td>\n",
              "    </tr>\n",
              "    <tr>\n",
              "      <th>3</th>\n",
              "      <td>bmw</td>\n",
              "      <td>price</td>\n",
              "      <td>1504</td>\n",
              "      <td>428</td>\n",
              "    </tr>\n",
              "    <tr>\n",
              "      <th>4</th>\n",
              "      <td>bmw</td>\n",
              "      <td>buy</td>\n",
              "      <td>1504</td>\n",
              "      <td>424</td>\n",
              "    </tr>\n",
              "  </tbody>\n",
              "</table>\n",
              "</div>"
            ],
            "text/plain": [
              "  Brand        Words  Brand_occurence  Feature_occurence\n",
              "0   bmw  performance             1504                663\n",
              "1   bmw       luxury             1504                446\n",
              "2   bmw       engine             1504                435\n",
              "3   bmw        price             1504                428\n",
              "4   bmw          buy             1504                424"
            ]
          },
          "metadata": {
            "tags": []
          },
          "execution_count": 299
        }
      ]
    },
    {
      "cell_type": "code",
      "metadata": {
        "id": "GWPe-6HoqJ_7",
        "colab_type": "code",
        "outputId": "c633d1d8-b8a0-468e-dac7-46bd5718343d",
        "colab": {
          "base_uri": "https://localhost:8080/",
          "height": 196
        }
      },
      "source": [
        "## Getting the brand and feature cooccurences\n",
        "brand_byuser = df_scraped['Brandlist'].values.tolist()\n",
        "feat_byuser = df_scraped['WordsList'].values.tolist()\n",
        "\n",
        "def getcooccurence(s):\n",
        "  brand = s.split('&')[0]\n",
        "  feature = s.split('&')[1]\n",
        "  cntr = 0\n",
        "  for i in range(5000):\n",
        "    if brand in brand_byuser[i] and feature in feat_byuser[i]:\n",
        "      cntr+=1\n",
        "  return cntr\n",
        "\n",
        "brand_feature_comb['Brand&Feat'] = brand_feature_comb['Brand']+'&'+brand_feature_comb['Words']\n",
        "brand_feature_comb['Cooccurence'] = brand_feature_comb['Brand&Feat'].map(getcooccurence)\n",
        "brand_feature_comb.head(5)"
      ],
      "execution_count": 0,
      "outputs": [
        {
          "output_type": "execute_result",
          "data": {
            "text/html": [
              "<div>\n",
              "<style scoped>\n",
              "    .dataframe tbody tr th:only-of-type {\n",
              "        vertical-align: middle;\n",
              "    }\n",
              "\n",
              "    .dataframe tbody tr th {\n",
              "        vertical-align: top;\n",
              "    }\n",
              "\n",
              "    .dataframe thead th {\n",
              "        text-align: right;\n",
              "    }\n",
              "</style>\n",
              "<table border=\"1\" class=\"dataframe\">\n",
              "  <thead>\n",
              "    <tr style=\"text-align: right;\">\n",
              "      <th></th>\n",
              "      <th>Brand</th>\n",
              "      <th>Words</th>\n",
              "      <th>Brand_occurence</th>\n",
              "      <th>Feature_occurence</th>\n",
              "      <th>Brand&amp;Feat</th>\n",
              "      <th>Cooccurence</th>\n",
              "    </tr>\n",
              "  </thead>\n",
              "  <tbody>\n",
              "    <tr>\n",
              "      <th>0</th>\n",
              "      <td>bmw</td>\n",
              "      <td>performance</td>\n",
              "      <td>1504</td>\n",
              "      <td>663</td>\n",
              "      <td>bmw&amp;performance</td>\n",
              "      <td>291</td>\n",
              "    </tr>\n",
              "    <tr>\n",
              "      <th>1</th>\n",
              "      <td>bmw</td>\n",
              "      <td>luxury</td>\n",
              "      <td>1504</td>\n",
              "      <td>446</td>\n",
              "      <td>bmw&amp;luxury</td>\n",
              "      <td>179</td>\n",
              "    </tr>\n",
              "    <tr>\n",
              "      <th>2</th>\n",
              "      <td>bmw</td>\n",
              "      <td>engine</td>\n",
              "      <td>1504</td>\n",
              "      <td>435</td>\n",
              "      <td>bmw&amp;engine</td>\n",
              "      <td>198</td>\n",
              "    </tr>\n",
              "    <tr>\n",
              "      <th>3</th>\n",
              "      <td>bmw</td>\n",
              "      <td>price</td>\n",
              "      <td>1504</td>\n",
              "      <td>428</td>\n",
              "      <td>bmw&amp;price</td>\n",
              "      <td>208</td>\n",
              "    </tr>\n",
              "    <tr>\n",
              "      <th>4</th>\n",
              "      <td>bmw</td>\n",
              "      <td>buy</td>\n",
              "      <td>1504</td>\n",
              "      <td>424</td>\n",
              "      <td>bmw&amp;buy</td>\n",
              "      <td>189</td>\n",
              "    </tr>\n",
              "  </tbody>\n",
              "</table>\n",
              "</div>"
            ],
            "text/plain": [
              "  Brand        Words  ...       Brand&Feat  Cooccurence\n",
              "0   bmw  performance  ...  bmw&performance          291\n",
              "1   bmw       luxury  ...       bmw&luxury          179\n",
              "2   bmw       engine  ...       bmw&engine          198\n",
              "3   bmw        price  ...        bmw&price          208\n",
              "4   bmw          buy  ...          bmw&buy          189\n",
              "\n",
              "[5 rows x 6 columns]"
            ]
          },
          "metadata": {
            "tags": []
          },
          "execution_count": 300
        }
      ]
    },
    {
      "cell_type": "code",
      "metadata": {
        "id": "szQmsDbjrXoj",
        "colab_type": "code",
        "outputId": "8e9ed634-0809-4cf1-b72c-759e5a76820f",
        "colab": {
          "base_uri": "https://localhost:8080/",
          "height": 196
        }
      },
      "source": [
        "## Calculating the lift\n",
        "\n",
        "brand_feature_comb['Lift'] = (5000 * brand_feature_comb['Cooccurence'])/(brand_feature_comb['Brand_occurence']*brand_feature_comb['Feature_occurence'])\n",
        "brand_feature_comb.head(5)\n",
        "\n"
      ],
      "execution_count": 0,
      "outputs": [
        {
          "output_type": "execute_result",
          "data": {
            "text/html": [
              "<div>\n",
              "<style scoped>\n",
              "    .dataframe tbody tr th:only-of-type {\n",
              "        vertical-align: middle;\n",
              "    }\n",
              "\n",
              "    .dataframe tbody tr th {\n",
              "        vertical-align: top;\n",
              "    }\n",
              "\n",
              "    .dataframe thead th {\n",
              "        text-align: right;\n",
              "    }\n",
              "</style>\n",
              "<table border=\"1\" class=\"dataframe\">\n",
              "  <thead>\n",
              "    <tr style=\"text-align: right;\">\n",
              "      <th></th>\n",
              "      <th>Brand</th>\n",
              "      <th>Words</th>\n",
              "      <th>Brand_occurence</th>\n",
              "      <th>Feature_occurence</th>\n",
              "      <th>Brand&amp;Feat</th>\n",
              "      <th>Cooccurence</th>\n",
              "      <th>Lift</th>\n",
              "    </tr>\n",
              "  </thead>\n",
              "  <tbody>\n",
              "    <tr>\n",
              "      <th>0</th>\n",
              "      <td>bmw</td>\n",
              "      <td>performance</td>\n",
              "      <td>1504</td>\n",
              "      <td>663</td>\n",
              "      <td>bmw&amp;performance</td>\n",
              "      <td>291</td>\n",
              "      <td>1.459156</td>\n",
              "    </tr>\n",
              "    <tr>\n",
              "      <th>1</th>\n",
              "      <td>bmw</td>\n",
              "      <td>luxury</td>\n",
              "      <td>1504</td>\n",
              "      <td>446</td>\n",
              "      <td>bmw&amp;luxury</td>\n",
              "      <td>179</td>\n",
              "      <td>1.334260</td>\n",
              "    </tr>\n",
              "    <tr>\n",
              "      <th>2</th>\n",
              "      <td>bmw</td>\n",
              "      <td>engine</td>\n",
              "      <td>1504</td>\n",
              "      <td>435</td>\n",
              "      <td>bmw&amp;engine</td>\n",
              "      <td>198</td>\n",
              "      <td>1.513206</td>\n",
              "    </tr>\n",
              "    <tr>\n",
              "      <th>3</th>\n",
              "      <td>bmw</td>\n",
              "      <td>price</td>\n",
              "      <td>1504</td>\n",
              "      <td>428</td>\n",
              "      <td>bmw&amp;price</td>\n",
              "      <td>208</td>\n",
              "      <td>1.615629</td>\n",
              "    </tr>\n",
              "    <tr>\n",
              "      <th>4</th>\n",
              "      <td>bmw</td>\n",
              "      <td>buy</td>\n",
              "      <td>1504</td>\n",
              "      <td>424</td>\n",
              "      <td>bmw&amp;buy</td>\n",
              "      <td>189</td>\n",
              "      <td>1.481897</td>\n",
              "    </tr>\n",
              "  </tbody>\n",
              "</table>\n",
              "</div>"
            ],
            "text/plain": [
              "  Brand        Words  Brand_occurence  ...       Brand&Feat Cooccurence      Lift\n",
              "0   bmw  performance             1504  ...  bmw&performance         291  1.459156\n",
              "1   bmw       luxury             1504  ...       bmw&luxury         179  1.334260\n",
              "2   bmw       engine             1504  ...       bmw&engine         198  1.513206\n",
              "3   bmw        price             1504  ...        bmw&price         208  1.615629\n",
              "4   bmw          buy             1504  ...          bmw&buy         189  1.481897\n",
              "\n",
              "[5 rows x 7 columns]"
            ]
          },
          "metadata": {
            "tags": []
          },
          "execution_count": 301
        }
      ]
    },
    {
      "cell_type": "code",
      "metadata": {
        "id": "xmDqG2uB_XYV",
        "colab_type": "code",
        "outputId": "69a137af-cd51-4f6b-ab1b-a90a3aa3ca0f",
        "colab": {
          "base_uri": "https://localhost:8080/",
          "height": 33
        }
      },
      "source": [
        "## We need to shortlist the features which has lift > 1 for all of the top 5 brands\n",
        "\n",
        "## Here we are getting all combinations of brand and feature which has lift > 1 and seeing for each feature how many brands it has a lift > 1\n",
        "feat_brand_good_lifts = brand_feature_comb[brand_feature_comb['Lift'] > 1]['Words'].value_counts()\n",
        "\n",
        "## Shortlisting the features which has lift > 1 for all 5 brands\n",
        "\n",
        "shortlisted_features = list(feat_brand_good_lifts[feat_brand_good_lifts == 5].index)\n",
        "len(shortlisted_features)"
      ],
      "execution_count": 0,
      "outputs": [
        {
          "output_type": "execute_result",
          "data": {
            "text/plain": [
              "102"
            ]
          },
          "metadata": {
            "tags": []
          },
          "execution_count": 302
        }
      ]
    },
    {
      "cell_type": "markdown",
      "metadata": {
        "id": "L_MiIPAKD9RL",
        "colab_type": "text"
      },
      "source": [
        "### **Grouping these shortlisted features into 5 attributes and looking at assosciations by brand**"
      ]
    },
    {
      "cell_type": "code",
      "metadata": {
        "id": "JrCaEO8P_Aol",
        "colab_type": "code",
        "outputId": "f39ffd82-504d-4737-dd49-e03e39418963",
        "colab": {
          "base_uri": "https://localhost:8080/",
          "height": 228
        }
      },
      "source": [
        "shortlisted_features.remove('like')\n",
        "shortlisted_features.remove('drive')\n",
        "shortlisted_features.remove('driving')\n",
        "shortlisted_features.remove('make')\n",
        "shortlisted_features.remove('good')\n",
        "shortlisted_features.remove('great')\n",
        "shortlisted_features.remove('love')\n",
        "shortlisted_features.remove('brand')\n",
        "shortlisted_features.remove('looked')\n",
        "shortlisted_features.remove('rwd')\n",
        "shortlisted_features.remove('fwd')\n",
        "shortlisted_features.remove('awd')\n"
      ],
      "execution_count": 0,
      "outputs": [
        {
          "output_type": "error",
          "ename": "ValueError",
          "evalue": "ignored",
          "traceback": [
            "\u001b[0;31m---------------------------------------------------------------------------\u001b[0m",
            "\u001b[0;31mValueError\u001b[0m                                Traceback (most recent call last)",
            "\u001b[0;32m<ipython-input-303-fc564281b0ba>\u001b[0m in \u001b[0;36m<module>\u001b[0;34m()\u001b[0m\n\u001b[0;32m----> 1\u001b[0;31m \u001b[0mshortlisted_features\u001b[0m\u001b[0;34m.\u001b[0m\u001b[0mremove\u001b[0m\u001b[0;34m(\u001b[0m\u001b[0;34m'like'\u001b[0m\u001b[0;34m)\u001b[0m\u001b[0;34m\u001b[0m\u001b[0;34m\u001b[0m\u001b[0m\n\u001b[0m\u001b[1;32m      2\u001b[0m \u001b[0mshortlisted_features\u001b[0m\u001b[0;34m.\u001b[0m\u001b[0mremove\u001b[0m\u001b[0;34m(\u001b[0m\u001b[0;34m'drive'\u001b[0m\u001b[0;34m)\u001b[0m\u001b[0;34m\u001b[0m\u001b[0;34m\u001b[0m\u001b[0m\n\u001b[1;32m      3\u001b[0m \u001b[0mshortlisted_features\u001b[0m\u001b[0;34m.\u001b[0m\u001b[0mremove\u001b[0m\u001b[0;34m(\u001b[0m\u001b[0;34m'driving'\u001b[0m\u001b[0;34m)\u001b[0m\u001b[0;34m\u001b[0m\u001b[0;34m\u001b[0m\u001b[0m\n\u001b[1;32m      4\u001b[0m \u001b[0mshortlisted_features\u001b[0m\u001b[0;34m.\u001b[0m\u001b[0mremove\u001b[0m\u001b[0;34m(\u001b[0m\u001b[0;34m'make'\u001b[0m\u001b[0;34m)\u001b[0m\u001b[0;34m\u001b[0m\u001b[0;34m\u001b[0m\u001b[0m\n\u001b[1;32m      5\u001b[0m \u001b[0mshortlisted_features\u001b[0m\u001b[0;34m.\u001b[0m\u001b[0mremove\u001b[0m\u001b[0;34m(\u001b[0m\u001b[0;34m'good'\u001b[0m\u001b[0;34m)\u001b[0m\u001b[0;34m\u001b[0m\u001b[0;34m\u001b[0m\u001b[0m\n",
            "\u001b[0;31mValueError\u001b[0m: list.remove(x): x not in list"
          ]
        }
      ]
    },
    {
      "cell_type": "code",
      "metadata": {
        "id": "cYzk2s5g_UC1",
        "colab_type": "code",
        "outputId": "a2af1c89-5e33-4c48-aa62-fadbc99896e1",
        "colab": {
          "base_uri": "https://localhost:8080/",
          "height": 33
        }
      },
      "source": [
        "len(shortlisted_features)"
      ],
      "execution_count": 0,
      "outputs": [
        {
          "output_type": "execute_result",
          "data": {
            "text/plain": [
              "102"
            ]
          },
          "metadata": {
            "tags": []
          },
          "execution_count": 305
        }
      ]
    },
    {
      "cell_type": "code",
      "metadata": {
        "id": "SwwOdp_AEKxa",
        "colab_type": "code",
        "outputId": "41005822-7d7c-449a-ed0a-88fa47963406",
        "colab": {
          "base_uri": "https://localhost:8080/",
          "height": 313
        }
      },
      "source": [
        "### Getting the list of attributes from the shortlisted features\n",
        "\n",
        "words_list = shortlisted_features\n",
        "\n",
        "def getlist(l):\n",
        "  attributes = []\n",
        "  for w in l:\n",
        "    if w in words_list:\n",
        "      att = df_attributes[df_attributes['Words'] == w]['Attributes'].values[0]\n",
        "      attributes.append(att)\n",
        "  return list(set(attributes))\n",
        "\n",
        "\n",
        "df_scraped['AttributesList'] = df_scraped['Cleaned'].map(getlist)\n",
        "\n",
        "df_scraped.head(5)"
      ],
      "execution_count": 0,
      "outputs": [
        {
          "output_type": "execute_result",
          "data": {
            "text/html": [
              "<div>\n",
              "<style scoped>\n",
              "    .dataframe tbody tr th:only-of-type {\n",
              "        vertical-align: middle;\n",
              "    }\n",
              "\n",
              "    .dataframe tbody tr th {\n",
              "        vertical-align: top;\n",
              "    }\n",
              "\n",
              "    .dataframe thead th {\n",
              "        text-align: right;\n",
              "    }\n",
              "</style>\n",
              "<table border=\"1\" class=\"dataframe\">\n",
              "  <thead>\n",
              "    <tr style=\"text-align: right;\">\n",
              "      <th></th>\n",
              "      <th>Unnamed: 0</th>\n",
              "      <th>Username</th>\n",
              "      <th>Time</th>\n",
              "      <th>Subject</th>\n",
              "      <th>Cleaned</th>\n",
              "      <th>Brandlist</th>\n",
              "      <th>WordsList</th>\n",
              "      <th>AttributesList</th>\n",
              "    </tr>\n",
              "  </thead>\n",
              "  <tbody>\n",
              "    <tr>\n",
              "      <th>0</th>\n",
              "      <td>0</td>\n",
              "      <td>merc1</td>\n",
              "      <td>March 25, 2002 5:54AM</td>\n",
              "      <td>I personally think that with a few tweaks the ...</td>\n",
              "      <td>[personally, think, tweaks, c320, could, also,...</td>\n",
              "      <td>[cadillac, infiniti, buick, chrysler, lexus, f...</td>\n",
              "      <td>[look, body, transmission, power, engine, look...</td>\n",
              "      <td>[Economic, Feel and Comfort, Features and Styl...</td>\n",
              "    </tr>\n",
              "    <tr>\n",
              "      <th>1</th>\n",
              "      <td>1</td>\n",
              "      <td>fredvh</td>\n",
              "      <td>March 25, 2002 7:06AM</td>\n",
              "      <td>I am debating a new purchase and these two are...</td>\n",
              "      <td>[debating, new, purchase, two, top, list, pric...</td>\n",
              "      <td>[lexus, acura, honda]</td>\n",
              "      <td>[worth, price, quality, service, prices]</td>\n",
              "      <td>[Economic, Feel and Comfort]</td>\n",
              "    </tr>\n",
              "    <tr>\n",
              "      <th>2</th>\n",
              "      <td>2</td>\n",
              "      <td>blueguydotcom</td>\n",
              "      <td>March 25, 2002 5:02PM</td>\n",
              "      <td>Great handling, RWD, excellent engine and the ...</td>\n",
              "      <td>[great, handling, rwd, excellent, engine, best...</td>\n",
              "      <td>[]</td>\n",
              "      <td>[warranty, engine, handling]</td>\n",
              "      <td>[Performance, Feel and Comfort]</td>\n",
              "    </tr>\n",
              "    <tr>\n",
              "      <th>3</th>\n",
              "      <td>3</td>\n",
              "      <td>hungrywhale</td>\n",
              "      <td>March 25, 2002 11:04PM</td>\n",
              "      <td>And no manual tranny. That may not matter to y...</td>\n",
              "      <td>[manual, tranny, may, matter, certainly, matte...</td>\n",
              "      <td>[]</td>\n",
              "      <td>[manual]</td>\n",
              "      <td>[]</td>\n",
              "    </tr>\n",
              "    <tr>\n",
              "      <th>4</th>\n",
              "      <td>4</td>\n",
              "      <td>riez</td>\n",
              "      <td>March 26, 2002 12:44AM</td>\n",
              "      <td>One beauty of BMW 3 Series is that there are s...</td>\n",
              "      <td>[one, beauty, bmw, series, many, models, choos...</td>\n",
              "      <td>[bmw]</td>\n",
              "      <td>[manual, engine, transmission, performance]</td>\n",
              "      <td>[Performance]</td>\n",
              "    </tr>\n",
              "  </tbody>\n",
              "</table>\n",
              "</div>"
            ],
            "text/plain": [
              "   Unnamed: 0  ...                                     AttributesList\n",
              "0           0  ...  [Economic, Feel and Comfort, Features and Styl...\n",
              "1           1  ...                       [Economic, Feel and Comfort]\n",
              "2           2  ...                    [Performance, Feel and Comfort]\n",
              "3           3  ...                                                 []\n",
              "4           4  ...                                      [Performance]\n",
              "\n",
              "[5 rows x 8 columns]"
            ]
          },
          "metadata": {
            "tags": []
          },
          "execution_count": 306
        }
      ]
    },
    {
      "cell_type": "code",
      "metadata": {
        "id": "MSB2zIic8grn",
        "colab_type": "code",
        "outputId": "11bc03ab-a479-4069-c7cd-38eaabd493b8",
        "colab": {
          "base_uri": "https://localhost:8080/",
          "height": 117
        }
      },
      "source": [
        "## Getting the number of times the attributes were mentioned throughout\n",
        "attcounts = pd.Series(pd.Series(df_scraped['AttributesList'].sum()).value_counts())\n",
        "attcounts"
      ],
      "execution_count": 0,
      "outputs": [
        {
          "output_type": "execute_result",
          "data": {
            "text/plain": [
              "Feel and Comfort        2422\n",
              "Features and Styling    1913\n",
              "Performance             1901\n",
              "Economic                1855\n",
              "Dealership Services      859\n",
              "dtype: int64"
            ]
          },
          "metadata": {
            "tags": []
          },
          "execution_count": 307
        }
      ]
    },
    {
      "cell_type": "code",
      "metadata": {
        "id": "oGQa_YOl8mdJ",
        "colab_type": "code",
        "outputId": "f149ea01-0c78-44b3-871a-11f612a2da98",
        "colab": {
          "base_uri": "https://localhost:8080/",
          "height": 196
        }
      },
      "source": [
        "## Getting combinations of brands and attributes\n",
        "\n",
        "import itertools\n",
        "from itertools import product\n",
        "\n",
        "a = brandcounts[:5].index.tolist()\n",
        "b = df_attributes['Attributes'].unique().tolist()\n",
        "brand_att_comb = pd.DataFrame(itertools.product(a, b))\n",
        "brand_att_comb.columns = [\"Brand\",\"Attributes\"]\n",
        "brand_att_comb.head(5)"
      ],
      "execution_count": 0,
      "outputs": [
        {
          "output_type": "execute_result",
          "data": {
            "text/html": [
              "<div>\n",
              "<style scoped>\n",
              "    .dataframe tbody tr th:only-of-type {\n",
              "        vertical-align: middle;\n",
              "    }\n",
              "\n",
              "    .dataframe tbody tr th {\n",
              "        vertical-align: top;\n",
              "    }\n",
              "\n",
              "    .dataframe thead th {\n",
              "        text-align: right;\n",
              "    }\n",
              "</style>\n",
              "<table border=\"1\" class=\"dataframe\">\n",
              "  <thead>\n",
              "    <tr style=\"text-align: right;\">\n",
              "      <th></th>\n",
              "      <th>Brand</th>\n",
              "      <th>Attributes</th>\n",
              "    </tr>\n",
              "  </thead>\n",
              "  <tbody>\n",
              "    <tr>\n",
              "      <th>0</th>\n",
              "      <td>bmw</td>\n",
              "      <td>Performance</td>\n",
              "    </tr>\n",
              "    <tr>\n",
              "      <th>1</th>\n",
              "      <td>bmw</td>\n",
              "      <td>Feel and Comfort</td>\n",
              "    </tr>\n",
              "    <tr>\n",
              "      <th>2</th>\n",
              "      <td>bmw</td>\n",
              "      <td>Economic</td>\n",
              "    </tr>\n",
              "    <tr>\n",
              "      <th>3</th>\n",
              "      <td>bmw</td>\n",
              "      <td>Features and Styling</td>\n",
              "    </tr>\n",
              "    <tr>\n",
              "      <th>4</th>\n",
              "      <td>bmw</td>\n",
              "      <td>Dealership Services</td>\n",
              "    </tr>\n",
              "  </tbody>\n",
              "</table>\n",
              "</div>"
            ],
            "text/plain": [
              "  Brand            Attributes\n",
              "0   bmw           Performance\n",
              "1   bmw      Feel and Comfort\n",
              "2   bmw              Economic\n",
              "3   bmw  Features and Styling\n",
              "4   bmw   Dealership Services"
            ]
          },
          "metadata": {
            "tags": []
          },
          "execution_count": 308
        }
      ]
    },
    {
      "cell_type": "code",
      "metadata": {
        "id": "cZtFpsAW8nos",
        "colab_type": "code",
        "outputId": "7d28c55e-5129-492d-9729-9490430f9e14",
        "colab": {
          "base_uri": "https://localhost:8080/",
          "height": 196
        }
      },
      "source": [
        "## Getting the Brand and Attribute occurences\n",
        "\n",
        "def brandcounter(s):\n",
        "  counts = brandcounts[s]\n",
        "  return counts\n",
        "\n",
        "def attcounter(s):\n",
        "  counts = attcounts[s]\n",
        "  return counts\n",
        "\n",
        "brand_att_comb['Brand_occurence'] = brand_att_comb['Brand'].map(brandcounter)\n",
        "brand_att_comb['Attribute_occurence'] = brand_att_comb['Attributes'].map(attcounter)\n",
        "brand_att_comb.head(5)"
      ],
      "execution_count": 0,
      "outputs": [
        {
          "output_type": "execute_result",
          "data": {
            "text/html": [
              "<div>\n",
              "<style scoped>\n",
              "    .dataframe tbody tr th:only-of-type {\n",
              "        vertical-align: middle;\n",
              "    }\n",
              "\n",
              "    .dataframe tbody tr th {\n",
              "        vertical-align: top;\n",
              "    }\n",
              "\n",
              "    .dataframe thead th {\n",
              "        text-align: right;\n",
              "    }\n",
              "</style>\n",
              "<table border=\"1\" class=\"dataframe\">\n",
              "  <thead>\n",
              "    <tr style=\"text-align: right;\">\n",
              "      <th></th>\n",
              "      <th>Brand</th>\n",
              "      <th>Attributes</th>\n",
              "      <th>Brand_occurence</th>\n",
              "      <th>Attribute_occurence</th>\n",
              "    </tr>\n",
              "  </thead>\n",
              "  <tbody>\n",
              "    <tr>\n",
              "      <th>0</th>\n",
              "      <td>bmw</td>\n",
              "      <td>Performance</td>\n",
              "      <td>1504</td>\n",
              "      <td>1901</td>\n",
              "    </tr>\n",
              "    <tr>\n",
              "      <th>1</th>\n",
              "      <td>bmw</td>\n",
              "      <td>Feel and Comfort</td>\n",
              "      <td>1504</td>\n",
              "      <td>2422</td>\n",
              "    </tr>\n",
              "    <tr>\n",
              "      <th>2</th>\n",
              "      <td>bmw</td>\n",
              "      <td>Economic</td>\n",
              "      <td>1504</td>\n",
              "      <td>1855</td>\n",
              "    </tr>\n",
              "    <tr>\n",
              "      <th>3</th>\n",
              "      <td>bmw</td>\n",
              "      <td>Features and Styling</td>\n",
              "      <td>1504</td>\n",
              "      <td>1913</td>\n",
              "    </tr>\n",
              "    <tr>\n",
              "      <th>4</th>\n",
              "      <td>bmw</td>\n",
              "      <td>Dealership Services</td>\n",
              "      <td>1504</td>\n",
              "      <td>859</td>\n",
              "    </tr>\n",
              "  </tbody>\n",
              "</table>\n",
              "</div>"
            ],
            "text/plain": [
              "  Brand            Attributes  Brand_occurence  Attribute_occurence\n",
              "0   bmw           Performance             1504                 1901\n",
              "1   bmw      Feel and Comfort             1504                 2422\n",
              "2   bmw              Economic             1504                 1855\n",
              "3   bmw  Features and Styling             1504                 1913\n",
              "4   bmw   Dealership Services             1504                  859"
            ]
          },
          "metadata": {
            "tags": []
          },
          "execution_count": 309
        }
      ]
    },
    {
      "cell_type": "code",
      "metadata": {
        "id": "82d2O73_8qEX",
        "colab_type": "code",
        "outputId": "f33b29e1-76c0-45f5-ba50-8429fb565817",
        "colab": {
          "base_uri": "https://localhost:8080/",
          "height": 196
        }
      },
      "source": [
        "## Getting the brand and attribute cooccurences\n",
        "brand_byuser = df_scraped['Brandlist'].values.tolist()\n",
        "att_byuser = df_scraped['AttributesList'].values.tolist()\n",
        "\n",
        "def getcooccurence(s):\n",
        "  brand = s.split('&')[0]\n",
        "  attribute = s.split('&')[1]\n",
        "  cntr = 0\n",
        "  for i in range(5000):\n",
        "    if brand in brand_byuser[i] and attribute in att_byuser[i]:\n",
        "      cntr+=1\n",
        "  return cntr\n",
        "\n",
        "brand_att_comb['Brand&Att'] = brand_att_comb['Brand']+'&'+brand_att_comb['Attributes']\n",
        "brand_att_comb['Cooccurence'] = brand_att_comb['Brand&Att'].map(getcooccurence)\n",
        "brand_att_comb.head(5)"
      ],
      "execution_count": 0,
      "outputs": [
        {
          "output_type": "execute_result",
          "data": {
            "text/html": [
              "<div>\n",
              "<style scoped>\n",
              "    .dataframe tbody tr th:only-of-type {\n",
              "        vertical-align: middle;\n",
              "    }\n",
              "\n",
              "    .dataframe tbody tr th {\n",
              "        vertical-align: top;\n",
              "    }\n",
              "\n",
              "    .dataframe thead th {\n",
              "        text-align: right;\n",
              "    }\n",
              "</style>\n",
              "<table border=\"1\" class=\"dataframe\">\n",
              "  <thead>\n",
              "    <tr style=\"text-align: right;\">\n",
              "      <th></th>\n",
              "      <th>Brand</th>\n",
              "      <th>Attributes</th>\n",
              "      <th>Brand_occurence</th>\n",
              "      <th>Attribute_occurence</th>\n",
              "      <th>Brand&amp;Att</th>\n",
              "      <th>Cooccurence</th>\n",
              "    </tr>\n",
              "  </thead>\n",
              "  <tbody>\n",
              "    <tr>\n",
              "      <th>0</th>\n",
              "      <td>bmw</td>\n",
              "      <td>Performance</td>\n",
              "      <td>1504</td>\n",
              "      <td>1901</td>\n",
              "      <td>bmw&amp;Performance</td>\n",
              "      <td>757</td>\n",
              "    </tr>\n",
              "    <tr>\n",
              "      <th>1</th>\n",
              "      <td>bmw</td>\n",
              "      <td>Feel and Comfort</td>\n",
              "      <td>1504</td>\n",
              "      <td>2422</td>\n",
              "      <td>bmw&amp;Feel and Comfort</td>\n",
              "      <td>932</td>\n",
              "    </tr>\n",
              "    <tr>\n",
              "      <th>2</th>\n",
              "      <td>bmw</td>\n",
              "      <td>Economic</td>\n",
              "      <td>1504</td>\n",
              "      <td>1855</td>\n",
              "      <td>bmw&amp;Economic</td>\n",
              "      <td>796</td>\n",
              "    </tr>\n",
              "    <tr>\n",
              "      <th>3</th>\n",
              "      <td>bmw</td>\n",
              "      <td>Features and Styling</td>\n",
              "      <td>1504</td>\n",
              "      <td>1913</td>\n",
              "      <td>bmw&amp;Features and Styling</td>\n",
              "      <td>685</td>\n",
              "    </tr>\n",
              "    <tr>\n",
              "      <th>4</th>\n",
              "      <td>bmw</td>\n",
              "      <td>Dealership Services</td>\n",
              "      <td>1504</td>\n",
              "      <td>859</td>\n",
              "      <td>bmw&amp;Dealership Services</td>\n",
              "      <td>350</td>\n",
              "    </tr>\n",
              "  </tbody>\n",
              "</table>\n",
              "</div>"
            ],
            "text/plain": [
              "  Brand            Attributes  ...                 Brand&Att  Cooccurence\n",
              "0   bmw           Performance  ...           bmw&Performance          757\n",
              "1   bmw      Feel and Comfort  ...      bmw&Feel and Comfort          932\n",
              "2   bmw              Economic  ...              bmw&Economic          796\n",
              "3   bmw  Features and Styling  ...  bmw&Features and Styling          685\n",
              "4   bmw   Dealership Services  ...   bmw&Dealership Services          350\n",
              "\n",
              "[5 rows x 6 columns]"
            ]
          },
          "metadata": {
            "tags": []
          },
          "execution_count": 310
        }
      ]
    },
    {
      "cell_type": "code",
      "metadata": {
        "id": "wji_XX3Z8x2p",
        "colab_type": "code",
        "outputId": "3c486d0e-54ed-4749-a96d-482075e6648d",
        "colab": {
          "base_uri": "https://localhost:8080/",
          "height": 196
        }
      },
      "source": [
        "## Calculating the lift\n",
        "\n",
        "brand_att_comb['Lift'] = (5000 * brand_att_comb['Cooccurence'])/(brand_att_comb['Brand_occurence']*brand_att_comb['Attribute_occurence'])\n",
        "brand_att_comb.head(5)\n",
        "\n"
      ],
      "execution_count": 0,
      "outputs": [
        {
          "output_type": "execute_result",
          "data": {
            "text/html": [
              "<div>\n",
              "<style scoped>\n",
              "    .dataframe tbody tr th:only-of-type {\n",
              "        vertical-align: middle;\n",
              "    }\n",
              "\n",
              "    .dataframe tbody tr th {\n",
              "        vertical-align: top;\n",
              "    }\n",
              "\n",
              "    .dataframe thead th {\n",
              "        text-align: right;\n",
              "    }\n",
              "</style>\n",
              "<table border=\"1\" class=\"dataframe\">\n",
              "  <thead>\n",
              "    <tr style=\"text-align: right;\">\n",
              "      <th></th>\n",
              "      <th>Brand</th>\n",
              "      <th>Attributes</th>\n",
              "      <th>Brand_occurence</th>\n",
              "      <th>Attribute_occurence</th>\n",
              "      <th>Brand&amp;Att</th>\n",
              "      <th>Cooccurence</th>\n",
              "      <th>Lift</th>\n",
              "    </tr>\n",
              "  </thead>\n",
              "  <tbody>\n",
              "    <tr>\n",
              "      <th>0</th>\n",
              "      <td>bmw</td>\n",
              "      <td>Performance</td>\n",
              "      <td>1504</td>\n",
              "      <td>1901</td>\n",
              "      <td>bmw&amp;Performance</td>\n",
              "      <td>757</td>\n",
              "      <td>1.323841</td>\n",
              "    </tr>\n",
              "    <tr>\n",
              "      <th>1</th>\n",
              "      <td>bmw</td>\n",
              "      <td>Feel and Comfort</td>\n",
              "      <td>1504</td>\n",
              "      <td>2422</td>\n",
              "      <td>bmw&amp;Feel and Comfort</td>\n",
              "      <td>932</td>\n",
              "      <td>1.279275</td>\n",
              "    </tr>\n",
              "    <tr>\n",
              "      <th>2</th>\n",
              "      <td>bmw</td>\n",
              "      <td>Economic</td>\n",
              "      <td>1504</td>\n",
              "      <td>1855</td>\n",
              "      <td>bmw&amp;Economic</td>\n",
              "      <td>796</td>\n",
              "      <td>1.426564</td>\n",
              "    </tr>\n",
              "    <tr>\n",
              "      <th>3</th>\n",
              "      <td>bmw</td>\n",
              "      <td>Features and Styling</td>\n",
              "      <td>1504</td>\n",
              "      <td>1913</td>\n",
              "      <td>bmw&amp;Features and Styling</td>\n",
              "      <td>685</td>\n",
              "      <td>1.190413</td>\n",
              "    </tr>\n",
              "    <tr>\n",
              "      <th>4</th>\n",
              "      <td>bmw</td>\n",
              "      <td>Dealership Services</td>\n",
              "      <td>1504</td>\n",
              "      <td>859</td>\n",
              "      <td>bmw&amp;Dealership Services</td>\n",
              "      <td>350</td>\n",
              "      <td>1.354556</td>\n",
              "    </tr>\n",
              "  </tbody>\n",
              "</table>\n",
              "</div>"
            ],
            "text/plain": [
              "  Brand            Attributes  ...  Cooccurence      Lift\n",
              "0   bmw           Performance  ...          757  1.323841\n",
              "1   bmw      Feel and Comfort  ...          932  1.279275\n",
              "2   bmw              Economic  ...          796  1.426564\n",
              "3   bmw  Features and Styling  ...          685  1.190413\n",
              "4   bmw   Dealership Services  ...          350  1.354556\n",
              "\n",
              "[5 rows x 7 columns]"
            ]
          },
          "metadata": {
            "tags": []
          },
          "execution_count": 311
        }
      ]
    },
    {
      "cell_type": "code",
      "metadata": {
        "id": "qUi-EoyIs33T",
        "colab_type": "code",
        "outputId": "24aa6bf0-8f7f-459b-9f7e-fef4e5870432",
        "colab": {
          "base_uri": "https://localhost:8080/",
          "height": 196
        }
      },
      "source": [
        "## Getting in Matrix Format for Lifts\n",
        "\n",
        "brands = list(brand_att_comb['Brand'].unique())\n",
        "atts = list(brand_att_comb['Attributes'].unique())\n",
        "\n",
        "df_associations = pd.DataFrame(index=brands, columns=atts)\n",
        "for i in brands:\n",
        "  for j in atts:\n",
        "    x = brand_att_comb[brand_att_comb['Brand'] == i]\n",
        "    value = x[x['Attributes'] == j]['Lift'].values[0]\n",
        "    df_associations[j].loc[i] = value\n",
        " \n",
        "df_associations"
      ],
      "execution_count": 0,
      "outputs": [
        {
          "output_type": "execute_result",
          "data": {
            "text/html": [
              "<div>\n",
              "<style scoped>\n",
              "    .dataframe tbody tr th:only-of-type {\n",
              "        vertical-align: middle;\n",
              "    }\n",
              "\n",
              "    .dataframe tbody tr th {\n",
              "        vertical-align: top;\n",
              "    }\n",
              "\n",
              "    .dataframe thead th {\n",
              "        text-align: right;\n",
              "    }\n",
              "</style>\n",
              "<table border=\"1\" class=\"dataframe\">\n",
              "  <thead>\n",
              "    <tr style=\"text-align: right;\">\n",
              "      <th></th>\n",
              "      <th>Performance</th>\n",
              "      <th>Feel and Comfort</th>\n",
              "      <th>Economic</th>\n",
              "      <th>Features and Styling</th>\n",
              "      <th>Dealership Services</th>\n",
              "    </tr>\n",
              "  </thead>\n",
              "  <tbody>\n",
              "    <tr>\n",
              "      <th>bmw</th>\n",
              "      <td>1.32384</td>\n",
              "      <td>1.27928</td>\n",
              "      <td>1.42656</td>\n",
              "      <td>1.19041</td>\n",
              "      <td>1.35456</td>\n",
              "    </tr>\n",
              "    <tr>\n",
              "      <th>acura</th>\n",
              "      <td>1.30145</td>\n",
              "      <td>1.2571</td>\n",
              "      <td>1.36169</td>\n",
              "      <td>1.28495</td>\n",
              "      <td>1.32395</td>\n",
              "    </tr>\n",
              "    <tr>\n",
              "      <th>infiniti</th>\n",
              "      <td>1.33569</td>\n",
              "      <td>1.30692</td>\n",
              "      <td>1.43738</td>\n",
              "      <td>1.37846</td>\n",
              "      <td>1.4979</td>\n",
              "    </tr>\n",
              "    <tr>\n",
              "      <th>audi</th>\n",
              "      <td>1.40075</td>\n",
              "      <td>1.36309</td>\n",
              "      <td>1.53532</td>\n",
              "      <td>1.39531</td>\n",
              "      <td>1.3158</td>\n",
              "    </tr>\n",
              "    <tr>\n",
              "      <th>toyota</th>\n",
              "      <td>1.46354</td>\n",
              "      <td>1.45395</td>\n",
              "      <td>1.5684</td>\n",
              "      <td>1.38372</td>\n",
              "      <td>1.32331</td>\n",
              "    </tr>\n",
              "  </tbody>\n",
              "</table>\n",
              "</div>"
            ],
            "text/plain": [
              "         Performance Feel and Comfort  ... Features and Styling Dealership Services\n",
              "bmw          1.32384          1.27928  ...              1.19041             1.35456\n",
              "acura        1.30145           1.2571  ...              1.28495             1.32395\n",
              "infiniti     1.33569          1.30692  ...              1.37846              1.4979\n",
              "audi         1.40075          1.36309  ...              1.39531              1.3158\n",
              "toyota       1.46354          1.45395  ...              1.38372             1.32331\n",
              "\n",
              "[5 rows x 5 columns]"
            ]
          },
          "metadata": {
            "tags": []
          },
          "execution_count": 312
        }
      ]
    },
    {
      "cell_type": "code",
      "metadata": {
        "id": "8oy947kjv8um",
        "colab_type": "code",
        "outputId": "df623555-825d-4fb3-c852-6f5584a90574",
        "colab": {
          "base_uri": "https://localhost:8080/",
          "height": 380
        }
      },
      "source": [
        "## Getting the heatmaps\n",
        "\n",
        "df_heatmap = df_associations\n",
        "df_heatmap = df_heatmap.apply(pd.to_numeric, errors='coerce')\n",
        "sns.heatmap(df_heatmap, cmap='Blues',linewidths=1, linecolor='white')\n"
      ],
      "execution_count": 0,
      "outputs": [
        {
          "output_type": "execute_result",
          "data": {
            "text/plain": [
              "<matplotlib.axes._subplots.AxesSubplot at 0x7fb0f7fd4128>"
            ]
          },
          "metadata": {
            "tags": []
          },
          "execution_count": 313
        },
        {
          "output_type": "display_data",
          "data": {
            "image/png": "[encoded data removed]",
            "text/plain": [
              "<Figure size 432x288 with 2 Axes>"
            ]
          },
          "metadata": {
            "tags": []
          }
        }
      ]
    },
    {
      "cell_type": "markdown",
      "metadata": {
        "id": "n_-iERLcxMY5",
        "colab_type": "text"
      },
      "source": [
        "### Observations from Heatmap\n",
        "\n",
        "Nissan,Mercedes and Lexus have good dealerships\n",
        "\n",
        "Audi, Honda, Toyota and Lexus are considered economic\n",
        "\n",
        "Toyota is considered to have better performance than others\n",
        "\n",
        "It's ironic that this being a luxury forum, the assosciations with 'Feel and Comfort' are low."
      ]
    },
    {
      "cell_type": "markdown",
      "metadata": {
        "id": "XQVSr-U8y6nV",
        "colab_type": "text"
      },
      "source": [
        "## Most Aspirational Brand"
      ]
    },
    {
      "cell_type": "code",
      "metadata": {
        "id": "-VQblFABwJhQ",
        "colab_type": "code",
        "colab": {}
      },
      "source": [
        "aspirational_words = ['would','want','buy','next','buying','wanted','hope','willing','wants','hopefully','buys']"
      ],
      "execution_count": 0,
      "outputs": []
    },
    {
      "cell_type": "code",
      "metadata": {
        "id": "BmmE5peTy824",
        "colab_type": "code",
        "outputId": "2fa3cc14-6297-4f07-e40e-649703e55a15",
        "colab": {
          "base_uri": "https://localhost:8080/",
          "height": 380
        }
      },
      "source": [
        "## Checking if any aspirational word is present in that comment\n",
        "\n",
        "def aspriational(l):\n",
        "  for w in l:\n",
        "    if w in aspirational_words:\n",
        "      return 1\n",
        "  return 0\n",
        "\n",
        "\n",
        "df_scraped['AspirationalFlag'] = df_scraped['Cleaned'].map(aspriational)\n",
        "df_scraped.head(5)"
      ],
      "execution_count": 0,
      "outputs": [
        {
          "output_type": "execute_result",
          "data": {
            "text/html": [
              "<div>\n",
              "<style scoped>\n",
              "    .dataframe tbody tr th:only-of-type {\n",
              "        vertical-align: middle;\n",
              "    }\n",
              "\n",
              "    .dataframe tbody tr th {\n",
              "        vertical-align: top;\n",
              "    }\n",
              "\n",
              "    .dataframe thead th {\n",
              "        text-align: right;\n",
              "    }\n",
              "</style>\n",
              "<table border=\"1\" class=\"dataframe\">\n",
              "  <thead>\n",
              "    <tr style=\"text-align: right;\">\n",
              "      <th></th>\n",
              "      <th>Unnamed: 0</th>\n",
              "      <th>Username</th>\n",
              "      <th>Time</th>\n",
              "      <th>Subject</th>\n",
              "      <th>Cleaned</th>\n",
              "      <th>Brandlist</th>\n",
              "      <th>WordsList</th>\n",
              "      <th>AttributesList</th>\n",
              "      <th>AspirationalFlag</th>\n",
              "    </tr>\n",
              "  </thead>\n",
              "  <tbody>\n",
              "    <tr>\n",
              "      <th>0</th>\n",
              "      <td>0</td>\n",
              "      <td>merc1</td>\n",
              "      <td>March 25, 2002 5:54AM</td>\n",
              "      <td>I personally think that with a few tweaks the ...</td>\n",
              "      <td>[personally, think, tweaks, c320, could, also,...</td>\n",
              "      <td>[cadillac, infiniti, buick, chrysler, lexus, f...</td>\n",
              "      <td>[look, body, transmission, power, engine, look...</td>\n",
              "      <td>[Economic, Feel and Comfort, Features and Styl...</td>\n",
              "      <td>1</td>\n",
              "    </tr>\n",
              "    <tr>\n",
              "      <th>1</th>\n",
              "      <td>1</td>\n",
              "      <td>fredvh</td>\n",
              "      <td>March 25, 2002 7:06AM</td>\n",
              "      <td>I am debating a new purchase and these two are...</td>\n",
              "      <td>[debating, new, purchase, two, top, list, pric...</td>\n",
              "      <td>[lexus, acura, honda]</td>\n",
              "      <td>[worth, price, quality, service, prices]</td>\n",
              "      <td>[Economic, Feel and Comfort]</td>\n",
              "      <td>1</td>\n",
              "    </tr>\n",
              "    <tr>\n",
              "      <th>2</th>\n",
              "      <td>2</td>\n",
              "      <td>blueguydotcom</td>\n",
              "      <td>March 25, 2002 5:02PM</td>\n",
              "      <td>Great handling, RWD, excellent engine and the ...</td>\n",
              "      <td>[great, handling, rwd, excellent, engine, best...</td>\n",
              "      <td>[]</td>\n",
              "      <td>[warranty, engine, handling]</td>\n",
              "      <td>[Performance, Feel and Comfort]</td>\n",
              "      <td>0</td>\n",
              "    </tr>\n",
              "    <tr>\n",
              "      <th>3</th>\n",
              "      <td>3</td>\n",
              "      <td>hungrywhale</td>\n",
              "      <td>March 25, 2002 11:04PM</td>\n",
              "      <td>And no manual tranny. That may not matter to y...</td>\n",
              "      <td>[manual, tranny, may, matter, certainly, matte...</td>\n",
              "      <td>[]</td>\n",
              "      <td>[manual]</td>\n",
              "      <td>[]</td>\n",
              "      <td>0</td>\n",
              "    </tr>\n",
              "    <tr>\n",
              "      <th>4</th>\n",
              "      <td>4</td>\n",
              "      <td>riez</td>\n",
              "      <td>March 26, 2002 12:44AM</td>\n",
              "      <td>One beauty of BMW 3 Series is that there are s...</td>\n",
              "      <td>[one, beauty, bmw, series, many, models, choos...</td>\n",
              "      <td>[bmw]</td>\n",
              "      <td>[manual, engine, transmission, performance]</td>\n",
              "      <td>[Performance]</td>\n",
              "      <td>0</td>\n",
              "    </tr>\n",
              "  </tbody>\n",
              "</table>\n",
              "</div>"
            ],
            "text/plain": [
              "   Unnamed: 0  ... AspirationalFlag\n",
              "0           0  ...                1\n",
              "1           1  ...                1\n",
              "2           2  ...                0\n",
              "3           3  ...                0\n",
              "4           4  ...                0\n",
              "\n",
              "[5 rows x 9 columns]"
            ]
          },
          "metadata": {
            "tags": []
          },
          "execution_count": 318
        }
      ]
    },
    {
      "cell_type": "code",
      "metadata": {
        "id": "rALoiFN61Q9z",
        "colab_type": "code",
        "outputId": "6ec7015e-1708-44eb-8aba-6280a60f4e8e",
        "colab": {
          "base_uri": "https://localhost:8080/",
          "height": 345
        }
      },
      "source": [
        "\n",
        "def aspcount(b):\n",
        "  cntr = 0\n",
        "  for i in range(5000):\n",
        "    if (b in df_scraped['Brandlist'][i]) and (df_scraped['AspirationalFlag'][i]==1):\n",
        "      cntr = cntr+1\n",
        "  return cntr\n",
        "\n",
        "\n",
        "\n",
        "\n",
        "top_brands = pd.DataFrame(brandcounts[:10])\n",
        "top_brands = top_brands.reset_index()\n",
        "top_brands.rename(columns = {'index': \"Brand\",0:\"Counts\"},inplace= True) \n",
        "top_brands['AspirationalCounts'] = top_brands['Brand'].map(aspcount)\n",
        "top_brands['% of times mentioned'] = top_brands['AspirationalCounts']*100.0/top_brands['Counts']\n",
        "top_brands\n"
      ],
      "execution_count": 0,
      "outputs": [
        {
          "output_type": "execute_result",
          "data": {
            "text/html": [
              "<div>\n",
              "<style scoped>\n",
              "    .dataframe tbody tr th:only-of-type {\n",
              "        vertical-align: middle;\n",
              "    }\n",
              "\n",
              "    .dataframe tbody tr th {\n",
              "        vertical-align: top;\n",
              "    }\n",
              "\n",
              "    .dataframe thead th {\n",
              "        text-align: right;\n",
              "    }\n",
              "</style>\n",
              "<table border=\"1\" class=\"dataframe\">\n",
              "  <thead>\n",
              "    <tr style=\"text-align: right;\">\n",
              "      <th></th>\n",
              "      <th>Brand</th>\n",
              "      <th>Counts</th>\n",
              "      <th>AspirationalCounts</th>\n",
              "      <th>% of times mentioned</th>\n",
              "    </tr>\n",
              "  </thead>\n",
              "  <tbody>\n",
              "    <tr>\n",
              "      <th>0</th>\n",
              "      <td>bmw</td>\n",
              "      <td>1504</td>\n",
              "      <td>777</td>\n",
              "      <td>51.662234</td>\n",
              "    </tr>\n",
              "    <tr>\n",
              "      <th>1</th>\n",
              "      <td>acura</td>\n",
              "      <td>1253</td>\n",
              "      <td>598</td>\n",
              "      <td>47.725459</td>\n",
              "    </tr>\n",
              "    <tr>\n",
              "      <th>2</th>\n",
              "      <td>infiniti</td>\n",
              "      <td>1022</td>\n",
              "      <td>540</td>\n",
              "      <td>52.837573</td>\n",
              "    </tr>\n",
              "    <tr>\n",
              "      <th>3</th>\n",
              "      <td>audi</td>\n",
              "      <td>783</td>\n",
              "      <td>417</td>\n",
              "      <td>53.256705</td>\n",
              "    </tr>\n",
              "    <tr>\n",
              "      <th>4</th>\n",
              "      <td>toyota</td>\n",
              "      <td>629</td>\n",
              "      <td>319</td>\n",
              "      <td>50.715421</td>\n",
              "    </tr>\n",
              "    <tr>\n",
              "      <th>5</th>\n",
              "      <td>honda</td>\n",
              "      <td>479</td>\n",
              "      <td>260</td>\n",
              "      <td>54.279749</td>\n",
              "    </tr>\n",
              "    <tr>\n",
              "      <th>6</th>\n",
              "      <td>lexus</td>\n",
              "      <td>337</td>\n",
              "      <td>188</td>\n",
              "      <td>55.786350</td>\n",
              "    </tr>\n",
              "    <tr>\n",
              "      <th>7</th>\n",
              "      <td>nissan</td>\n",
              "      <td>307</td>\n",
              "      <td>160</td>\n",
              "      <td>52.117264</td>\n",
              "    </tr>\n",
              "    <tr>\n",
              "      <th>8</th>\n",
              "      <td>cadillac</td>\n",
              "      <td>287</td>\n",
              "      <td>152</td>\n",
              "      <td>52.961672</td>\n",
              "    </tr>\n",
              "    <tr>\n",
              "      <th>9</th>\n",
              "      <td>mercedes</td>\n",
              "      <td>241</td>\n",
              "      <td>129</td>\n",
              "      <td>53.526971</td>\n",
              "    </tr>\n",
              "  </tbody>\n",
              "</table>\n",
              "</div>"
            ],
            "text/plain": [
              "      Brand  Counts  AspirationalCounts  % of times mentioned\n",
              "0       bmw    1504                 777             51.662234\n",
              "1     acura    1253                 598             47.725459\n",
              "2  infiniti    1022                 540             52.837573\n",
              "3      audi     783                 417             53.256705\n",
              "4    toyota     629                 319             50.715421\n",
              "5     honda     479                 260             54.279749\n",
              "6     lexus     337                 188             55.786350\n",
              "7    nissan     307                 160             52.117264\n",
              "8  cadillac     287                 152             52.961672\n",
              "9  mercedes     241                 129             53.526971"
            ]
          },
          "metadata": {
            "tags": []
          },
          "execution_count": 320
        }
      ]
    },
    {
      "cell_type": "markdown",
      "metadata": {
        "id": "IBzk3YBV5OlN",
        "colab_type": "text"
      },
      "source": [
        "We see that more people are looking to buy lexus\n"
      ]
    },
    {
      "cell_type": "code",
      "metadata": {
        "id": "MOm2ziDXPxp1",
        "colab_type": "code",
        "colab": {}
      },
      "source": [
        ""
      ],
      "execution_count": 0,
      "outputs": []
    }
  ]
}