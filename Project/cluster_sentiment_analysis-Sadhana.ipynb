{
  "nbformat": 4,
  "nbformat_minor": 0,
  "metadata": {
    "colab": {
      "name": "twitter_sentiment_analysis.ipynb",
      "provenance": [],
      "collapsed_sections": []
    },
    "kernelspec": {
      "name": "python3",
      "display_name": "Python 3"
    }
  },
  "cells": [
    {
      "cell_type": "code",
      "metadata": {
        "id": "wrieukmSvVkY",
        "colab_type": "code",
        "outputId": "a799fcff-de85-4ed6-f041-c9df1d3fb445",
        "colab": {
          "base_uri": "https://localhost:8080/",
          "height": 120
        }
      },
      "source": [
        "from google.colab import drive\n",
        "drive.mount('/content/gdrive',force_remount= True)"
      ],
      "execution_count": 1,
      "outputs": [
        {
          "output_type": "stream",
          "text": [
            "Go to this URL in a browser: https://accounts.google.com/o/oauth2/auth?client_id=947318989803-6bn6qk8qdgf4n4g3pfee6491hc0brc4i.apps.googleusercontent.com&redirect_uri=urn%3aietf%3awg%3aoauth%3a2.0%3aoob&response_type=code&scope=email%20https%3a%2f%2fwww.googleapis.com%2fauth%2fdocs.test%20https%3a%2f%2fwww.googleapis.com%2fauth%2fdrive%20https%3a%2f%2fwww.googleapis.com%2fauth%2fdrive.photos.readonly%20https%3a%2f%2fwww.googleapis.com%2fauth%2fpeopleapi.readonly\n",
            "\n",
            "Enter your authorization code:\n",
            "··········\n",
            "Mounted at /content/gdrive\n"
          ],
          "name": "stdout"
        }
      ]
    },
    {
      "cell_type": "code",
      "metadata": {
        "id": "OuSwKdpTvVhA",
        "colab_type": "code",
        "colab": {}
      },
      "source": [
        "import pandas as pd   "
      ],
      "execution_count": 0,
      "outputs": []
    },
    {
      "cell_type": "code",
      "metadata": {
        "id": "MGzRQ6OZwHAr",
        "colab_type": "code",
        "colab": {}
      },
      "source": [
        "import os\n",
        "os.getcwd()\n",
        "os.chdir('/content/gdrive/My Drive/Colab Notebooks')"
      ],
      "execution_count": 0,
      "outputs": []
    },
    {
      "cell_type": "code",
      "metadata": {
        "id": "4eXYMB_lmsTU",
        "colab_type": "code",
        "colab": {
          "base_uri": "https://localhost:8080/",
          "height": 33
        },
        "outputId": "b2ffa4f5-23ef-4a2b-ac6d-caaac987979f"
      },
      "source": [
        "type(df_tweets['date'].iloc[0])"
      ],
      "execution_count": 68,
      "outputs": [
        {
          "output_type": "execute_result",
          "data": {
            "text/plain": [
              "str"
            ]
          },
          "metadata": {
            "tags": []
          },
          "execution_count": 68
        }
      ]
    },
    {
      "cell_type": "code",
      "metadata": {
        "id": "2JHTNL4fxPpr",
        "colab_type": "code",
        "outputId": "f273c87e-b28f-47f1-b06e-fa86b8703339",
        "colab": {
          "base_uri": "https://localhost:8080/",
          "height": 50
        }
      },
      "source": [
        "import pandas as pd\n",
        "from datetime import datetime\n",
        "\n",
        "df_tweets = pd.read_csv('all_tweets_data.csv')\n",
        "df_tweets = df_tweets[df_tweets['date'].notnull()]\n",
        "df_tweets['date'] = df_tweets['date'].map(lambda x: datetime.strptime(str(x), '%Y-%m-%d'))"
      ],
      "execution_count": 72,
      "outputs": [
        {
          "output_type": "stream",
          "text": [
            "/usr/local/lib/python3.6/dist-packages/IPython/core/interactiveshell.py:2718: DtypeWarning: Columns (0,1,4,5,9) have mixed types. Specify dtype option on import or set low_memory=False.\n",
            "  interactivity=interactivity, compiler=compiler, result=result)\n"
          ],
          "name": "stderr"
        }
      ]
    },
    {
      "cell_type": "code",
      "metadata": {
        "id": "IfEgLkAwlls4",
        "colab_type": "code",
        "colab": {}
      },
      "source": [
        "df_after_news = df_tweets[df_tweets['date']>'2019-10-27']"
      ],
      "execution_count": 0,
      "outputs": []
    },
    {
      "cell_type": "code",
      "metadata": {
        "id": "1iMsQ4keldDx",
        "colab_type": "code",
        "colab": {
          "base_uri": "https://localhost:8080/",
          "height": 417
        },
        "outputId": "a1d2fe8f-0f2b-4bd5-8bb1-71599d3ca086"
      },
      "source": [
        "df_after_news.isnull().sum()"
      ],
      "execution_count": 76,
      "outputs": [
        {
          "output_type": "execute_result",
          "data": {
            "text/plain": [
              "Unnamed: 0              0\n",
              "has_media               0\n",
              "hashtags                0\n",
              "img_urls                0\n",
              "is_replied              0\n",
              "is_reply_to             0\n",
              "likes                   0\n",
              "links                   0\n",
              "parent_tweet_id     57747\n",
              "replies                 0\n",
              "reply_to_users          0\n",
              "retweets                0\n",
              "screen_name             0\n",
              "text                   96\n",
              "text_html               0\n",
              "timestamp               0\n",
              "timestamp_epochs        0\n",
              "tweet_id                0\n",
              "tweet_url               0\n",
              "user_id                 0\n",
              "username                4\n",
              "video_url           71893\n",
              "date                    0\n",
              "dtype: int64"
            ]
          },
          "metadata": {
            "tags": []
          },
          "execution_count": 76
        }
      ]
    },
    {
      "cell_type": "code",
      "metadata": {
        "id": "Lq8f_HbuzTnL",
        "colab_type": "code",
        "colab": {
          "base_uri": "https://localhost:8080/",
          "height": 517
        },
        "outputId": "128b099b-0d1f-4c70-8c9a-56625dcb5875"
      },
      "source": [
        "df_after_news.head()"
      ],
      "execution_count": 78,
      "outputs": [
        {
          "output_type": "execute_result",
          "data": {
            "text/html": [
              "<div>\n",
              "<style scoped>\n",
              "    .dataframe tbody tr th:only-of-type {\n",
              "        vertical-align: middle;\n",
              "    }\n",
              "\n",
              "    .dataframe tbody tr th {\n",
              "        vertical-align: top;\n",
              "    }\n",
              "\n",
              "    .dataframe thead th {\n",
              "        text-align: right;\n",
              "    }\n",
              "</style>\n",
              "<table border=\"1\" class=\"dataframe\">\n",
              "  <thead>\n",
              "    <tr style=\"text-align: right;\">\n",
              "      <th></th>\n",
              "      <th>Unnamed: 0</th>\n",
              "      <th>has_media</th>\n",
              "      <th>hashtags</th>\n",
              "      <th>img_urls</th>\n",
              "      <th>is_replied</th>\n",
              "      <th>is_reply_to</th>\n",
              "      <th>likes</th>\n",
              "      <th>links</th>\n",
              "      <th>parent_tweet_id</th>\n",
              "      <th>replies</th>\n",
              "      <th>reply_to_users</th>\n",
              "      <th>retweets</th>\n",
              "      <th>screen_name</th>\n",
              "      <th>text</th>\n",
              "      <th>text_html</th>\n",
              "      <th>timestamp</th>\n",
              "      <th>timestamp_epochs</th>\n",
              "      <th>tweet_id</th>\n",
              "      <th>tweet_url</th>\n",
              "      <th>user_id</th>\n",
              "      <th>username</th>\n",
              "      <th>video_url</th>\n",
              "      <th>date</th>\n",
              "    </tr>\n",
              "  </thead>\n",
              "  <tbody>\n",
              "    <tr>\n",
              "      <th>5365</th>\n",
              "      <td>5365</td>\n",
              "      <td>False</td>\n",
              "      <td>[]</td>\n",
              "      <td>[]</td>\n",
              "      <td>False</td>\n",
              "      <td>True</td>\n",
              "      <td>0.0</td>\n",
              "      <td>[]</td>\n",
              "      <td>1.193668e+18</td>\n",
              "      <td>0</td>\n",
              "      <td>[{'screen_name': 'SimonJo10756658', 'user_id':...</td>\n",
              "      <td>0.0</td>\n",
              "      <td>FitbitSupport</td>\n",
              "      <td>1/2 Hello there, thanks for reaching out and w...</td>\n",
              "      <td>&lt;p class=\"TweetTextSize js-tweet-text tweet-te...</td>\n",
              "      <td>2019-11-10 23:59:56</td>\n",
              "      <td>2019-11-10 23:59:56</td>\n",
              "      <td>1.193680e+18</td>\n",
              "      <td>/FitbitSupport/status/1193679716156243969</td>\n",
              "      <td>476258341.0</td>\n",
              "      <td>Fitbit Support</td>\n",
              "      <td>NaN</td>\n",
              "      <td>2019-11-10</td>\n",
              "    </tr>\n",
              "    <tr>\n",
              "      <th>5366</th>\n",
              "      <td>5366</td>\n",
              "      <td>False</td>\n",
              "      <td>[]</td>\n",
              "      <td>[]</td>\n",
              "      <td>False</td>\n",
              "      <td>False</td>\n",
              "      <td>1.0</td>\n",
              "      <td>[]</td>\n",
              "      <td>NaN</td>\n",
              "      <td>0</td>\n",
              "      <td>[]</td>\n",
              "      <td>0.0</td>\n",
              "      <td>l_b__</td>\n",
              "      <td>昨日横浜線でがっつり寝落ちていた時間がfitbitによって睡眠時間にカウントされていない。</td>\n",
              "      <td>&lt;p class=\"TweetTextSize js-tweet-text tweet-te...</td>\n",
              "      <td>2019-11-10 23:59:02</td>\n",
              "      <td>2019-11-10 23:59:02</td>\n",
              "      <td>1.193679e+18</td>\n",
              "      <td>/l_b__/status/1193679487986061315</td>\n",
              "      <td>45313531.0</td>\n",
              "      <td>l.b.</td>\n",
              "      <td>NaN</td>\n",
              "      <td>2019-11-10</td>\n",
              "    </tr>\n",
              "    <tr>\n",
              "      <th>5367</th>\n",
              "      <td>5367</td>\n",
              "      <td>False</td>\n",
              "      <td>[]</td>\n",
              "      <td>[]</td>\n",
              "      <td>False</td>\n",
              "      <td>True</td>\n",
              "      <td>2.0</td>\n",
              "      <td>[]</td>\n",
              "      <td>1.193650e+18</td>\n",
              "      <td>0</td>\n",
              "      <td>[{'screen_name': 'smoxr1', 'user_id': '4831139...</td>\n",
              "      <td>0.0</td>\n",
              "      <td>I_5iial</td>\n",
              "      <td>fitbit charge 2</td>\n",
              "      <td>&lt;p class=\"TweetTextSize js-tweet-text tweet-te...</td>\n",
              "      <td>2019-11-10 23:57:36</td>\n",
              "      <td>2019-11-10 23:57:36</td>\n",
              "      <td>1.193679e+18</td>\n",
              "      <td>/I_5iial/status/1193679130832842754</td>\n",
              "      <td>714773499.0</td>\n",
              "      <td>خيال🕊</td>\n",
              "      <td>NaN</td>\n",
              "      <td>2019-11-10</td>\n",
              "    </tr>\n",
              "    <tr>\n",
              "      <th>5368</th>\n",
              "      <td>5368</td>\n",
              "      <td>False</td>\n",
              "      <td>[]</td>\n",
              "      <td>[]</td>\n",
              "      <td>True</td>\n",
              "      <td>True</td>\n",
              "      <td>0.0</td>\n",
              "      <td>[]</td>\n",
              "      <td>1.193592e+18</td>\n",
              "      <td>1</td>\n",
              "      <td>[{'screen_name': 'NodeConfEU', 'user_id': '526...</td>\n",
              "      <td>0.0</td>\n",
              "      <td>BillStewart415</td>\n",
              "      <td>It's cool, but one of the purposes of a badge ...</td>\n",
              "      <td>&lt;p class=\"TweetTextSize js-tweet-text tweet-te...</td>\n",
              "      <td>2019-11-10 23:57:25</td>\n",
              "      <td>2019-11-10 23:57:25</td>\n",
              "      <td>1.193679e+18</td>\n",
              "      <td>/BillStewart415/status/1193679083697139713</td>\n",
              "      <td>330433609.0</td>\n",
              "      <td>Bill Stewart</td>\n",
              "      <td>NaN</td>\n",
              "      <td>2019-11-10</td>\n",
              "    </tr>\n",
              "    <tr>\n",
              "      <th>5369</th>\n",
              "      <td>5369</td>\n",
              "      <td>True</td>\n",
              "      <td>['MobTechCast', 'Xperia5', 'GoFlip3', 'MiCC9Pro']</td>\n",
              "      <td>['https://pbs.twimg.com/media/EJDMmvJUEAAiC5n....</td>\n",
              "      <td>False</td>\n",
              "      <td>False</td>\n",
              "      <td>5.0</td>\n",
              "      <td>['https://worldpodcasts.com/sony-xperia-5-alca...</td>\n",
              "      <td>NaN</td>\n",
              "      <td>0</td>\n",
              "      <td>[]</td>\n",
              "      <td>0.0</td>\n",
              "      <td>tnkgrl</td>\n",
              "      <td>The lovely @techiesupreme was my guest (again)...</td>\n",
              "      <td>&lt;p class=\"TweetTextSize js-tweet-text tweet-te...</td>\n",
              "      <td>2019-11-10 23:57:12</td>\n",
              "      <td>2019-11-10 23:57:12</td>\n",
              "      <td>1.193679e+18</td>\n",
              "      <td>/tnkgrl/status/1193679029158592513</td>\n",
              "      <td>2806761.0</td>\n",
              "      <td>Myriam Joire</td>\n",
              "      <td>NaN</td>\n",
              "      <td>2019-11-10</td>\n",
              "    </tr>\n",
              "  </tbody>\n",
              "</table>\n",
              "</div>"
            ],
            "text/plain": [
              "     Unnamed: 0 has_media  ... video_url       date\n",
              "5365       5365     False  ...       NaN 2019-11-10\n",
              "5366       5366     False  ...       NaN 2019-11-10\n",
              "5367       5367     False  ...       NaN 2019-11-10\n",
              "5368       5368     False  ...       NaN 2019-11-10\n",
              "5369       5369      True  ...       NaN 2019-11-10\n",
              "\n",
              "[5 rows x 23 columns]"
            ]
          },
          "metadata": {
            "tags": []
          },
          "execution_count": 78
        }
      ]
    },
    {
      "cell_type": "code",
      "metadata": {
        "id": "sHKF85r9bO30",
        "colab_type": "code",
        "colab": {}
      },
      "source": [
        "import numpy as np\n",
        "from matplotlib import pyplot as plt\n",
        "from sklearn.cluster import KMeans"
      ],
      "execution_count": 0,
      "outputs": []
    },
    {
      "cell_type": "code",
      "metadata": {
        "id": "Kf-IB_Vybi-H",
        "colab_type": "code",
        "colab": {
          "base_uri": "https://localhost:8080/",
          "height": 300
        },
        "outputId": "d183938f-42c4-46cc-fd0e-8ac8d0a245e9"
      },
      "source": [
        "df_after_news.columns.values\n",
        "df_after_news.dtypes\n",
        "df_after_news['likes'].fillna(0,inplace=True)\n",
        "df_after_news['retweets'].fillna(0,inplace=True)\n",
        "df_after_news['likes_pre'] = df_after_news['likes'].map(lambda x: (x-df_after_news.likes.min())/df_after_news.likes.max() )\n",
        "df_after_news['retweets_pre'] = df_after_news['retweets'].map(lambda x: (x-df_after_news.retweets.min())/df_after_news.retweets.max() )"
      ],
      "execution_count": 81,
      "outputs": [
        {
          "output_type": "stream",
          "text": [
            "/usr/local/lib/python3.6/dist-packages/pandas/core/generic.py:6287: SettingWithCopyWarning: \n",
            "A value is trying to be set on a copy of a slice from a DataFrame\n",
            "\n",
            "See the caveats in the documentation: http://pandas.pydata.org/pandas-docs/stable/user_guide/indexing.html#returning-a-view-versus-a-copy\n",
            "  self._update_inplace(new_data)\n",
            "/usr/local/lib/python3.6/dist-packages/ipykernel_launcher.py:5: SettingWithCopyWarning: \n",
            "A value is trying to be set on a copy of a slice from a DataFrame.\n",
            "Try using .loc[row_indexer,col_indexer] = value instead\n",
            "\n",
            "See the caveats in the documentation: http://pandas.pydata.org/pandas-docs/stable/user_guide/indexing.html#returning-a-view-versus-a-copy\n",
            "  \"\"\"\n",
            "/usr/local/lib/python3.6/dist-packages/ipykernel_launcher.py:6: SettingWithCopyWarning: \n",
            "A value is trying to be set on a copy of a slice from a DataFrame.\n",
            "Try using .loc[row_indexer,col_indexer] = value instead\n",
            "\n",
            "See the caveats in the documentation: http://pandas.pydata.org/pandas-docs/stable/user_guide/indexing.html#returning-a-view-versus-a-copy\n",
            "  \n"
          ],
          "name": "stderr"
        }
      ]
    },
    {
      "cell_type": "code",
      "metadata": {
        "id": "C_4BEKWXdOJX",
        "colab_type": "code",
        "colab": {
          "base_uri": "https://localhost:8080/",
          "height": 295
        },
        "outputId": "bc6a6ebf-e663-4718-80fa-94d36f9abc7f"
      },
      "source": [
        "wcss = []\n",
        "for i in range(1, 11):\n",
        "    kmeans = KMeans(n_clusters=i, init='k-means++', max_iter=300, n_init=10, random_state=0)\n",
        "    kmeans.fit(df_after_news[['likes_pre','retweets_pre']])\n",
        "    wcss.append(kmeans.inertia_)\n",
        "plt.plot(range(1, 11), wcss)\n",
        "plt.title('Elbow Method')\n",
        "plt.xlabel('Number of clusters')\n",
        "plt.ylabel('WCSS')\n",
        "plt.show()"
      ],
      "execution_count": 82,
      "outputs": [
        {
          "output_type": "display_data",
          "data": {
            "image/png": "[encoded data removed]",
            "text/plain": [
              "<Figure size 432x288 with 1 Axes>"
            ]
          },
          "metadata": {
            "tags": []
          }
        }
      ]
    },
    {
      "cell_type": "code",
      "metadata": {
        "id": "nPnjxpyEdP0J",
        "colab_type": "code",
        "colab": {
          "base_uri": "https://localhost:8080/",
          "height": 117
        },
        "outputId": "0296b7b4-850f-411e-83a9-255105a3d095"
      },
      "source": [
        "kmeans = KMeans(n_clusters=4, init='k-means++', max_iter=300, n_init=10, random_state=0)\n",
        "df_after_news['cluster'] = kmeans.fit_predict(df_after_news[['likes_pre','retweets_pre']])\n"
      ],
      "execution_count": 123,
      "outputs": [
        {
          "output_type": "stream",
          "text": [
            "/usr/local/lib/python3.6/dist-packages/ipykernel_launcher.py:2: SettingWithCopyWarning: \n",
            "A value is trying to be set on a copy of a slice from a DataFrame.\n",
            "Try using .loc[row_indexer,col_indexer] = value instead\n",
            "\n",
            "See the caveats in the documentation: http://pandas.pydata.org/pandas-docs/stable/user_guide/indexing.html#returning-a-view-versus-a-copy\n",
            "  \n"
          ],
          "name": "stderr"
        }
      ]
    },
    {
      "cell_type": "code",
      "metadata": {
        "id": "X17Q4UQ4iYNm",
        "colab_type": "code",
        "colab": {
          "base_uri": "https://localhost:8080/",
          "height": 33
        },
        "outputId": "82e77f98-8cc6-4b84-a23c-6d18ce0dfc84"
      },
      "source": [
        "df_after_news['cluster'].unique()"
      ],
      "execution_count": 124,
      "outputs": [
        {
          "output_type": "execute_result",
          "data": {
            "text/plain": [
              "array([0, 3, 1, 2])"
            ]
          },
          "metadata": {
            "tags": []
          },
          "execution_count": 124
        }
      ]
    },
    {
      "cell_type": "code",
      "metadata": {
        "id": "wGI-dpBei142",
        "colab_type": "code",
        "colab": {
          "base_uri": "https://localhost:8080/",
          "height": 197
        },
        "outputId": "37dcab9d-fc23-43fa-954b-06c54c323e00"
      },
      "source": [
        "df_after_news.groupby('cluster')[['likes','retweets']].mean()"
      ],
      "execution_count": 125,
      "outputs": [
        {
          "output_type": "execute_result",
          "data": {
            "text/html": [
              "<div>\n",
              "<style scoped>\n",
              "    .dataframe tbody tr th:only-of-type {\n",
              "        vertical-align: middle;\n",
              "    }\n",
              "\n",
              "    .dataframe tbody tr th {\n",
              "        vertical-align: top;\n",
              "    }\n",
              "\n",
              "    .dataframe thead th {\n",
              "        text-align: right;\n",
              "    }\n",
              "</style>\n",
              "<table border=\"1\" class=\"dataframe\">\n",
              "  <thead>\n",
              "    <tr style=\"text-align: right;\">\n",
              "      <th></th>\n",
              "      <th>likes</th>\n",
              "      <th>retweets</th>\n",
              "    </tr>\n",
              "    <tr>\n",
              "      <th>cluster</th>\n",
              "      <th></th>\n",
              "      <th></th>\n",
              "    </tr>\n",
              "  </thead>\n",
              "  <tbody>\n",
              "    <tr>\n",
              "      <th>0</th>\n",
              "      <td>1.947772</td>\n",
              "      <td>0.569401</td>\n",
              "    </tr>\n",
              "    <tr>\n",
              "      <th>1</th>\n",
              "      <td>9514.000000</td>\n",
              "      <td>2312.000000</td>\n",
              "    </tr>\n",
              "    <tr>\n",
              "      <th>2</th>\n",
              "      <td>3347.500000</td>\n",
              "      <td>5007.000000</td>\n",
              "    </tr>\n",
              "    <tr>\n",
              "      <th>3</th>\n",
              "      <td>1777.300000</td>\n",
              "      <td>507.133333</td>\n",
              "    </tr>\n",
              "  </tbody>\n",
              "</table>\n",
              "</div>"
            ],
            "text/plain": [
              "               likes     retweets\n",
              "cluster                          \n",
              "0           1.947772     0.569401\n",
              "1        9514.000000  2312.000000\n",
              "2        3347.500000  5007.000000\n",
              "3        1777.300000   507.133333"
            ]
          },
          "metadata": {
            "tags": []
          },
          "execution_count": 125
        }
      ]
    },
    {
      "cell_type": "markdown",
      "metadata": {
        "id": "DEPYh9jyqADv",
        "colab_type": "text"
      },
      "source": [
        "# Sentiment Analysis by Cluster"
      ]
    },
    {
      "cell_type": "code",
      "metadata": {
        "id": "S9V3UbT8qKw1",
        "colab_type": "code",
        "colab": {
          "base_uri": "https://localhost:8080/",
          "height": 33
        },
        "outputId": "c676008e-7d17-42a8-9185-f97ec47dbf21"
      },
      "source": [
        "pip install vaderSentiment"
      ],
      "execution_count": 126,
      "outputs": [
        {
          "output_type": "stream",
          "text": [
            "Requirement already satisfied: vaderSentiment in /usr/local/lib/python3.6/dist-packages (3.2.1)\n"
          ],
          "name": "stdout"
        }
      ]
    },
    {
      "cell_type": "code",
      "metadata": {
        "id": "KISF-KhijNLl",
        "colab_type": "code",
        "colab": {}
      },
      "source": [
        "from vaderSentiment.vaderSentiment import SentimentIntensityAnalyzer\n",
        "analyser = SentimentIntensityAnalyzer()"
      ],
      "execution_count": 0,
      "outputs": []
    },
    {
      "cell_type": "code",
      "metadata": {
        "id": "K3VJ7ZHYqG01",
        "colab_type": "code",
        "colab": {}
      },
      "source": [
        "def sentiment_analyzer_scores(sentence):\n",
        "    score = analyser.polarity_scores(sentence)\n",
        "    print(\"{:-<40} {}\".format(sentence, str(score)))"
      ],
      "execution_count": 0,
      "outputs": []
    },
    {
      "cell_type": "code",
      "metadata": {
        "id": "MPG2OxIvqdpU",
        "colab_type": "code",
        "colab": {
          "base_uri": "https://localhost:8080/",
          "height": 133
        },
        "outputId": "b87d3bfc-063e-4f2c-8504-6a356a06df78"
      },
      "source": [
        "## Getting the compounded sentiment score\n",
        "\n",
        "def getsentimentscore(s):\n",
        "  try:\n",
        "    score = analyser.polarity_scores(s)\n",
        "    return score['compound']   \n",
        "  except:\n",
        "    return 0\n",
        "\n",
        "df_after_news['sentiment_compounded'] = df_after_news['text'].map(getsentimentscore)\n",
        "df_after_news.shape"
      ],
      "execution_count": 129,
      "outputs": [
        {
          "output_type": "stream",
          "text": [
            "/usr/local/lib/python3.6/dist-packages/ipykernel_launcher.py:9: SettingWithCopyWarning: \n",
            "A value is trying to be set on a copy of a slice from a DataFrame.\n",
            "Try using .loc[row_indexer,col_indexer] = value instead\n",
            "\n",
            "See the caveats in the documentation: http://pandas.pydata.org/pandas-docs/stable/user_guide/indexing.html#returning-a-view-versus-a-copy\n",
            "  if __name__ == '__main__':\n"
          ],
          "name": "stderr"
        },
        {
          "output_type": "execute_result",
          "data": {
            "text/plain": [
              "(71893, 27)"
            ]
          },
          "metadata": {
            "tags": []
          },
          "execution_count": 129
        }
      ]
    },
    {
      "cell_type": "code",
      "metadata": {
        "id": "Kb9cTvvlqkdB",
        "colab_type": "code",
        "colab": {
          "base_uri": "https://localhost:8080/",
          "height": 282
        },
        "outputId": "c65a8bdb-4aad-429d-c49f-afcb4bb1ceb8"
      },
      "source": [
        "df_after_news.groupby('cluster')['sentiment_compounded'].agg('mean').plot(kind='barh')"
      ],
      "execution_count": 131,
      "outputs": [
        {
          "output_type": "execute_result",
          "data": {
            "text/plain": [
              "<matplotlib.axes._subplots.AxesSubplot at 0x7f22312ec438>"
            ]
          },
          "metadata": {
            "tags": []
          },
          "execution_count": 131
        },
        {
          "output_type": "display_data",
          "data": {
            "image/png": "[encoded data removed]",
            "text/plain": [
              "<Figure size 432x288 with 1 Axes>"
            ]
          },
          "metadata": {
            "tags": []
          }
        }
      ]
    },
    {
      "cell_type": "code",
      "metadata": {
        "id": "YTL-38yjrFAQ",
        "colab_type": "code",
        "colab": {}
      },
      "source": [
        ""
      ],
      "execution_count": 0,
      "outputs": []
    }
  ]
}