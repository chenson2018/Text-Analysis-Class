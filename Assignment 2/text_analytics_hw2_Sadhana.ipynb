{
  "nbformat": 4,
  "nbformat_minor": 0,
  "metadata": {
    "colab": {
      "name": "text_analytics_hw2.ipynb",
      "provenance": [],
      "collapsed_sections": []
    },
    "kernelspec": {
      "name": "python3",
      "display_name": "Python 3"
    }
  },
  "cells": [
    {
      "cell_type": "code",
      "metadata": {
        "id": "5O43DPbpAPrf",
        "colab_type": "code",
        "outputId": "83b69bac-9774-4a49-8458-9df87b0be9a0",
        "colab": {
          "base_uri": "https://localhost:8080/",
          "height": 124
        }
      },
      "source": [
        "from google.colab import drive\n",
        "drive.mount('/content/gdrive')"
      ],
      "execution_count": 1,
      "outputs": [
        {
          "output_type": "stream",
          "text": [
            "Go to this URL in a browser: https://accounts.google.com/o/oauth2/auth?client_id=947318989803-6bn6qk8qdgf4n4g3pfee6491hc0brc4i.apps.googleusercontent.com&redirect_uri=urn%3aietf%3awg%3aoauth%3a2.0%3aoob&response_type=code&scope=email%20https%3a%2f%2fwww.googleapis.com%2fauth%2fdocs.test%20https%3a%2f%2fwww.googleapis.com%2fauth%2fdrive%20https%3a%2f%2fwww.googleapis.com%2fauth%2fdrive.photos.readonly%20https%3a%2f%2fwww.googleapis.com%2fauth%2fpeopleapi.readonly\n",
            "\n",
            "Enter your authorization code:\n",
            "··········\n",
            "Mounted at /content/gdrive\n"
          ],
          "name": "stdout"
        }
      ]
    },
    {
      "cell_type": "code",
      "metadata": {
        "id": "5mndbekzuKlh",
        "colab_type": "code",
        "colab": {}
      },
      "source": [
        "import warnings\n",
        "warnings.filterwarnings(\"ignore\")"
      ],
      "execution_count": 0,
      "outputs": []
    },
    {
      "cell_type": "code",
      "metadata": {
        "id": "6ZmZdlo-Ai4r",
        "colab_type": "code",
        "colab": {}
      },
      "source": [
        "import pickle\n",
        "import pandas as pd\n",
        "import numpy as np\n",
        "\n",
        "post_df = pickle.load( open( \"/content/gdrive/My Drive/Colab Notebooks/labels_instagram_posts_13Nov.p\", \"rb\" ) )"
      ],
      "execution_count": 0,
      "outputs": []
    },
    {
      "cell_type": "code",
      "metadata": {
        "id": "WEUIob8eBXkG",
        "colab_type": "code",
        "outputId": "5a22e2f5-90b5-46b0-bd3c-271d9c5df67f",
        "colab": {
          "base_uri": "https://localhost:8080/",
          "height": 35
        }
      },
      "source": [
        "post_df.shape"
      ],
      "execution_count": 0,
      "outputs": [
        {
          "output_type": "execute_result",
          "data": {
            "text/plain": [
              "(472, 6)"
            ]
          },
          "metadata": {
            "tags": []
          },
          "execution_count": 5
        }
      ]
    },
    {
      "cell_type": "code",
      "metadata": {
        "id": "PB_l-xIMB_au",
        "colab_type": "code",
        "outputId": "6cc4482a-3e60-46c6-ddb7-4890b0bdedc7",
        "colab": {
          "base_uri": "https://localhost:8080/",
          "height": 306
        }
      },
      "source": [
        "post_df.head()"
      ],
      "execution_count": 0,
      "outputs": [
        {
          "output_type": "execute_result",
          "data": {
            "text/html": [
              "<div>\n",
              "<style scoped>\n",
              "    .dataframe tbody tr th:only-of-type {\n",
              "        vertical-align: middle;\n",
              "    }\n",
              "\n",
              "    .dataframe tbody tr th {\n",
              "        vertical-align: top;\n",
              "    }\n",
              "\n",
              "    .dataframe thead th {\n",
              "        text-align: right;\n",
              "    }\n",
              "</style>\n",
              "<table border=\"1\" class=\"dataframe\">\n",
              "  <thead>\n",
              "    <tr style=\"text-align: right;\">\n",
              "      <th></th>\n",
              "      <th>Unnamed: 0</th>\n",
              "      <th>post_url</th>\n",
              "      <th>num_likes</th>\n",
              "      <th>num_comments</th>\n",
              "      <th>caption</th>\n",
              "      <th>labels</th>\n",
              "    </tr>\n",
              "  </thead>\n",
              "  <tbody>\n",
              "    <tr>\n",
              "      <th>0</th>\n",
              "      <td>0</td>\n",
              "      <td>https://scontent-sea1-1.cdninstagram.com/vp/8e...</td>\n",
              "      <td>455787</td>\n",
              "      <td>1234</td>\n",
              "      <td>Photo by Jimmy Chin @jimmychin | Half Dome aft...</td>\n",
              "      <td>[Mountainous landforms, Mountain, White, Black...</td>\n",
              "    </tr>\n",
              "    <tr>\n",
              "      <th>1</th>\n",
              "      <td>1</td>\n",
              "      <td>https://scontent-sea1-1.cdninstagram.com/vp/51...</td>\n",
              "      <td>246999</td>\n",
              "      <td>941</td>\n",
              "      <td>Photos by Ian Teh @iantehphotography | I’m on ...</td>\n",
              "      <td>[Motor vehicle, Vehicle, Mode of transport, Au...</td>\n",
              "    </tr>\n",
              "    <tr>\n",
              "      <th>2</th>\n",
              "      <td>2</td>\n",
              "      <td>https://scontent-sea1-1.cdninstagram.com/vp/21...</td>\n",
              "      <td>610340</td>\n",
              "      <td>3481</td>\n",
              "      <td>Photo by Thomas Peschak @thomaspeschak | The m...</td>\n",
              "      <td>[Green sea turtle, Turtle, Sea turtle, Reptile...</td>\n",
              "    </tr>\n",
              "    <tr>\n",
              "      <th>3</th>\n",
              "      <td>3</td>\n",
              "      <td>https://scontent-sea1-1.cdninstagram.com/vp/78...</td>\n",
              "      <td>160973</td>\n",
              "      <td>492</td>\n",
              "      <td>Photo by Katie Orlinsky @katieorlinsky | Olga ...</td>\n",
              "      <td>[Temple, Cuisine]</td>\n",
              "    </tr>\n",
              "    <tr>\n",
              "      <th>4</th>\n",
              "      <td>4</td>\n",
              "      <td>https://scontent-sea1-1.cdninstagram.com/vp/03...</td>\n",
              "      <td>185601</td>\n",
              "      <td>730</td>\n",
              "      <td>Photo by Tasneem Alsultan @TasneemAlsultan | \"...</td>\n",
              "      <td>[Tree, Palm tree, Arecales, Woody plant, Plant...</td>\n",
              "    </tr>\n",
              "  </tbody>\n",
              "</table>\n",
              "</div>"
            ],
            "text/plain": [
              "   Unnamed: 0  ...                                             labels\n",
              "0           0  ...  [Mountainous landforms, Mountain, White, Black...\n",
              "1           1  ...  [Motor vehicle, Vehicle, Mode of transport, Au...\n",
              "2           2  ...  [Green sea turtle, Turtle, Sea turtle, Reptile...\n",
              "3           3  ...                                  [Temple, Cuisine]\n",
              "4           4  ...  [Tree, Palm tree, Arecales, Woody plant, Plant...\n",
              "\n",
              "[5 rows x 6 columns]"
            ]
          },
          "metadata": {
            "tags": []
          },
          "execution_count": 6
        }
      ]
    },
    {
      "cell_type": "code",
      "metadata": {
        "id": "lTufhvdACDyd",
        "colab_type": "code",
        "colab": {}
      },
      "source": [
        "post_df['num_likes'] = post_df.num_likes.map(lambda x: float(x)/post_df.num_likes.max())\n",
        "post_df['num_comments'] = post_df.num_comments.map(lambda x: float(x)/post_df.num_comments.max())"
      ],
      "execution_count": 0,
      "outputs": []
    },
    {
      "cell_type": "code",
      "metadata": {
        "id": "F4IRgZQcCX6v",
        "colab_type": "code",
        "colab": {}
      },
      "source": [
        "post_df['engagement'] = 0.4*post_df['num_likes']+0.6*post_df['num_comments']"
      ],
      "execution_count": 0,
      "outputs": []
    },
    {
      "cell_type": "code",
      "metadata": {
        "id": "Jo_jAaQzHYag",
        "colab_type": "code",
        "colab": {}
      },
      "source": [
        "post_df['e_lev'] = post_df.engagement.map(lambda x: 1 if x > post_df.engagement.median() else 0)"
      ],
      "execution_count": 0,
      "outputs": []
    },
    {
      "cell_type": "code",
      "metadata": {
        "id": "M1m_UHHZH3rf",
        "colab_type": "code",
        "colab": {}
      },
      "source": [
        "post_df['caption'] = post_df.caption.map(lambda x: x.lower())"
      ],
      "execution_count": 0,
      "outputs": []
    },
    {
      "cell_type": "code",
      "metadata": {
        "id": "2V9AcPH_wmLI",
        "colab_type": "code",
        "colab": {}
      },
      "source": [
        "post_df['labels'] = post_df.labels.map(lambda x: [i.lower() for i in x])"
      ],
      "execution_count": 0,
      "outputs": []
    },
    {
      "cell_type": "markdown",
      "metadata": {
        "id": "xYsGNlfgvbJl",
        "colab_type": "text"
      },
      "source": [
        "# Labels"
      ]
    },
    {
      "cell_type": "code",
      "metadata": {
        "id": "UbcYd7LUJrdj",
        "colab_type": "code",
        "colab": {}
      },
      "source": [
        "reg_df = post_df[['labels','e_lev']]"
      ],
      "execution_count": 0,
      "outputs": []
    },
    {
      "cell_type": "code",
      "metadata": {
        "id": "VHbt4ajKux5V",
        "colab_type": "code",
        "outputId": "08e14ccc-9df6-4026-c450-40a0c19169e4",
        "colab": {
          "base_uri": "https://localhost:8080/",
          "height": 202
        }
      },
      "source": [
        "reg_df.head()"
      ],
      "execution_count": 0,
      "outputs": [
        {
          "output_type": "execute_result",
          "data": {
            "text/html": [
              "<div>\n",
              "<style scoped>\n",
              "    .dataframe tbody tr th:only-of-type {\n",
              "        vertical-align: middle;\n",
              "    }\n",
              "\n",
              "    .dataframe tbody tr th {\n",
              "        vertical-align: top;\n",
              "    }\n",
              "\n",
              "    .dataframe thead th {\n",
              "        text-align: right;\n",
              "    }\n",
              "</style>\n",
              "<table border=\"1\" class=\"dataframe\">\n",
              "  <thead>\n",
              "    <tr style=\"text-align: right;\">\n",
              "      <th></th>\n",
              "      <th>labels</th>\n",
              "      <th>e_lev</th>\n",
              "    </tr>\n",
              "  </thead>\n",
              "  <tbody>\n",
              "    <tr>\n",
              "      <th>0</th>\n",
              "      <td>[mountainous landforms, mountain, white, black...</td>\n",
              "      <td>1</td>\n",
              "    </tr>\n",
              "    <tr>\n",
              "      <th>1</th>\n",
              "      <td>[motor vehicle, vehicle, mode of transport, au...</td>\n",
              "      <td>0</td>\n",
              "    </tr>\n",
              "    <tr>\n",
              "      <th>2</th>\n",
              "      <td>[green sea turtle, turtle, sea turtle, reptile...</td>\n",
              "      <td>1</td>\n",
              "    </tr>\n",
              "    <tr>\n",
              "      <th>3</th>\n",
              "      <td>[temple, cuisine]</td>\n",
              "      <td>0</td>\n",
              "    </tr>\n",
              "    <tr>\n",
              "      <th>4</th>\n",
              "      <td>[tree, palm tree, arecales, woody plant, plant...</td>\n",
              "      <td>0</td>\n",
              "    </tr>\n",
              "  </tbody>\n",
              "</table>\n",
              "</div>"
            ],
            "text/plain": [
              "                                              labels  e_lev\n",
              "0  [mountainous landforms, mountain, white, black...      1\n",
              "1  [motor vehicle, vehicle, mode of transport, au...      0\n",
              "2  [green sea turtle, turtle, sea turtle, reptile...      1\n",
              "3                                  [temple, cuisine]      0\n",
              "4  [tree, palm tree, arecales, woody plant, plant...      0"
            ]
          },
          "metadata": {
            "tags": []
          },
          "execution_count": 13
        }
      ]
    },
    {
      "cell_type": "code",
      "metadata": {
        "id": "twmSud-6TG8_",
        "colab_type": "code",
        "colab": {}
      },
      "source": [
        "labels = list(set([i for l in post_df.labels for i in l]))"
      ],
      "execution_count": 0,
      "outputs": []
    },
    {
      "cell_type": "code",
      "metadata": {
        "id": "KQLJSFltp4bZ",
        "colab_type": "code",
        "colab": {}
      },
      "source": [
        "for l in labels:\n",
        "  reg_df[l] = reg_df.labels.map(lambda x: 1 if l in x else 0) "
      ],
      "execution_count": 0,
      "outputs": []
    },
    {
      "cell_type": "code",
      "metadata": {
        "id": "6wPU-diIq8UK",
        "colab_type": "code",
        "outputId": "7f28b052-c86a-4bdb-9df8-e3712b431ed4",
        "colab": {
          "base_uri": "https://localhost:8080/",
          "height": 35
        }
      },
      "source": [
        "from sklearn.model_selection import train_test_split\n",
        "from sklearn.metrics import roc_curve, roc_auc_score, f1_score, accuracy_score\n",
        "from sklearn.linear_model import LogisticRegression\n",
        "\n",
        "X = reg_df.drop(columns=['e_lev','labels'])\n",
        "Y = reg_df['e_lev']\n",
        "\n",
        "X_train, X_test, y_train, y_test = train_test_split(X,Y,test_size = 0.20, random_state=11)\n",
        "log_reg = LogisticRegression(random_state = 20,class_weight = 'balanced')\n",
        "log_reg.fit(X_train, y_train)\n",
        "y_pred = log_reg.predict(X_test)\n",
        "accuracy_score(y_test, y_pred)"
      ],
      "execution_count": 0,
      "outputs": [
        {
          "output_type": "execute_result",
          "data": {
            "text/plain": [
              "0.7157894736842105"
            ]
          },
          "metadata": {
            "tags": []
          },
          "execution_count": 16
        }
      ]
    },
    {
      "cell_type": "markdown",
      "metadata": {
        "id": "0CpUcypswHhx",
        "colab_type": "text"
      },
      "source": [
        "# Labels tf-idf"
      ]
    },
    {
      "cell_type": "code",
      "metadata": {
        "id": "dYPmaoFhpWzz",
        "colab_type": "code",
        "outputId": "8bbe7210-6a67-4d5f-e685-6c405ff740aa",
        "colab": {
          "base_uri": "https://localhost:8080/",
          "height": 87
        }
      },
      "source": [
        "from sklearn.feature_extraction.text import TfidfTransformer\n",
        "from sklearn.feature_extraction.text import CountVectorizer,TfidfVectorizer\n",
        "import nltk\n",
        "from nltk import word_tokenize\n",
        "from nltk.stem import WordNetLemmatizer\n",
        "nltk.download('wordnet')\n",
        "nltk.download('punkt')\n",
        "\n",
        "\n",
        "import scipy\n",
        "from scipy import sparse"
      ],
      "execution_count": 0,
      "outputs": [
        {
          "output_type": "stream",
          "text": [
            "[nltk_data] Downloading package wordnet to /root/nltk_data...\n",
            "[nltk_data]   Package wordnet is already up-to-date!\n",
            "[nltk_data] Downloading package punkt to /root/nltk_data...\n",
            "[nltk_data]   Package punkt is already up-to-date!\n"
          ],
          "name": "stdout"
        }
      ]
    },
    {
      "cell_type": "code",
      "metadata": {
        "id": "4DitQe4VwG-s",
        "colab_type": "code",
        "colab": {}
      },
      "source": [
        "reg_tfidf = post_df[['labels','e_lev']]\n",
        "\n",
        "reg_tfidf['labels_join'] = reg_tfidf.labels.map(lambda x: ' '.join(x))"
      ],
      "execution_count": 0,
      "outputs": []
    },
    {
      "cell_type": "code",
      "metadata": {
        "id": "5nzsNb7NsCXz",
        "colab_type": "code",
        "colab": {}
      },
      "source": [
        "X = reg_tfidf.drop(columns=['e_lev'])\n",
        "Y = reg_tfidf['e_lev']\n",
        "\n",
        "X_train, X_test, y_train, y_test = train_test_split(X,Y,test_size = 0.20, random_state=11)\n",
        "log_reg = LogisticRegression(random_state = 20,class_weight = 'balanced')\n"
      ],
      "execution_count": 0,
      "outputs": []
    },
    {
      "cell_type": "code",
      "metadata": {
        "id": "ZPUbp4bVqs0r",
        "colab_type": "code",
        "colab": {}
      },
      "source": [
        "tf_idf = TfidfVectorizer(max_features=300, analyzer='word', stop_words='english', dtype=np.float32, ngram_range=(1,3))\n",
        "\n",
        "# lemmatized_tr_l = X_train.labels_join.map(lambda x: ' '.join([token.lemma_ for token in nlp(x)]))\n",
        "# lemmatized_ts_l = X_test.labels_join.map(lambda x: ' '.join([token.lemma_ for token in nlp(x)]))\n",
        "\n",
        "# tr = tf_idf_l.fit_transform(lemmatized_tr_l)#X_train['labels_join'])\n",
        "# ts = tf_idf_l.transform(lemmatized_ts_l)\n",
        "\n",
        "tr = tf_idf.fit_transform(X_train['labels_join'])\n",
        "ts = tf_idf.transform(X_test['labels_join'])"
      ],
      "execution_count": 0,
      "outputs": []
    },
    {
      "cell_type": "code",
      "metadata": {
        "id": "ZaK4u1DbvZON",
        "colab_type": "code",
        "outputId": "439fe0ff-b454-4105-9fc3-a682aceaee8e",
        "colab": {
          "base_uri": "https://localhost:8080/",
          "height": 35
        }
      },
      "source": [
        "log_reg.fit(tr, y_train)\n",
        "y_pred = log_reg.predict(ts)\n",
        "accuracy_score(y_test, y_pred)"
      ],
      "execution_count": 0,
      "outputs": [
        {
          "output_type": "execute_result",
          "data": {
            "text/plain": [
              "0.7263157894736842"
            ]
          },
          "metadata": {
            "tags": []
          },
          "execution_count": 115
        }
      ]
    },
    {
      "cell_type": "markdown",
      "metadata": {
        "id": "mMcpa5x9vk2J",
        "colab_type": "text"
      },
      "source": [
        "# Captions tf-idf"
      ]
    },
    {
      "cell_type": "code",
      "metadata": {
        "id": "YVKJLN-2ucWm",
        "colab_type": "code",
        "colab": {}
      },
      "source": [
        "reg_cap_tfidf = post_df[['caption','e_lev']]\n",
        "\n",
        "X = reg_cap_tfidf.drop(columns=['e_lev'])\n",
        "Y = reg_cap_tfidf['e_lev']\n",
        "\n",
        "X_train, X_test, y_train, y_test = train_test_split(X,Y,test_size = 0.20, random_state=11)\n",
        "log_reg = LogisticRegression(random_state = 20,class_weight = 'balanced')"
      ],
      "execution_count": 0,
      "outputs": []
    },
    {
      "cell_type": "code",
      "metadata": {
        "id": "YGMmafKnucUc",
        "colab_type": "code",
        "colab": {}
      },
      "source": [
        "tf_idf = TfidfVectorizer(max_features=3000, analyzer='word', stop_words= 'english', ngram_range=(1,3), dtype=np.float32)\n",
        "\n",
        "tr = tf_idf.fit_transform(X_train['caption'])\n",
        "ts = tf_idf.transform(X_test['caption'])"
      ],
      "execution_count": 0,
      "outputs": []
    },
    {
      "cell_type": "code",
      "metadata": {
        "id": "AbDdJwmwucQr",
        "colab_type": "code",
        "outputId": "33771d74-9272-41ea-911b-705bc974eaa0",
        "colab": {
          "base_uri": "https://localhost:8080/",
          "height": 35
        }
      },
      "source": [
        "log_reg.fit(tr, y_train)\n",
        "y_pred = log_reg.predict(ts)\n",
        "accuracy_score(y_test, y_pred)"
      ],
      "execution_count": 0,
      "outputs": [
        {
          "output_type": "execute_result",
          "data": {
            "text/plain": [
              "0.7684210526315789"
            ]
          },
          "metadata": {
            "tags": []
          },
          "execution_count": 27
        }
      ]
    },
    {
      "cell_type": "markdown",
      "metadata": {
        "id": "oMceT1xa0PYB",
        "colab_type": "text"
      },
      "source": [
        "# Captions lemmatize tf-idf"
      ]
    },
    {
      "cell_type": "code",
      "metadata": {
        "id": "4AgYKmn6IfN_",
        "colab_type": "code",
        "colab": {}
      },
      "source": [
        "# https://www.machinelearningplus.com/nlp/lemmatization-examples-python/\n",
        "import spacy\n",
        "\n",
        "# Initialize spacy 'en' model, keeping only tagger component needed for lemmatization\n",
        "nlp = spacy.load('en', disable=['parser', 'ner'])\n"
      ],
      "execution_count": 0,
      "outputs": []
    },
    {
      "cell_type": "code",
      "metadata": {
        "id": "V0wu6G_-z7Uz",
        "colab_type": "code",
        "colab": {}
      },
      "source": [
        "reg_cap_tfidf = post_df[['caption','e_lev']]\n",
        "\n",
        "X = reg_cap_tfidf.drop(columns=['e_lev'])\n",
        "Y = reg_cap_tfidf['e_lev']\n",
        "\n",
        "X_train, X_test, y_train, y_test = train_test_split(X,Y,test_size = 0.20, random_state=11)\n",
        "log_reg = LogisticRegression(random_state = 20,class_weight = 'balanced')"
      ],
      "execution_count": 0,
      "outputs": []
    },
    {
      "cell_type": "code",
      "metadata": {
        "id": "RLyjcBR0ucIW",
        "colab_type": "code",
        "colab": {}
      },
      "source": [
        "lemmatizer = WordNetLemmatizer()\n",
        "\n",
        "# Tokenize and Lemmatize list of words and join\n",
        "lemmatized_tr = X_train.caption.map(lambda x: ' '.join([token.lemma_ for token in nlp(x)]))\n",
        "lemmatized_ts = X_test.caption.map(lambda x: ' '.join([token.lemma_ for token in nlp(x)]))"
      ],
      "execution_count": 0,
      "outputs": []
    },
    {
      "cell_type": "code",
      "metadata": {
        "id": "2GLI7vzY0rG7",
        "colab_type": "code",
        "colab": {}
      },
      "source": [
        "tf_idf = TfidfVectorizer(max_features=3000, analyzer='word', stop_words= 'english', ngram_range=(1,3), dtype=np.float32)\n",
        "\n",
        "tr = tf_idf.fit_transform(lemmatized_tr)\n",
        "ts = tf_idf.transform(lemmatized_ts)"
      ],
      "execution_count": 0,
      "outputs": []
    },
    {
      "cell_type": "code",
      "metadata": {
        "id": "3lOM-K4V0v6K",
        "colab_type": "code",
        "outputId": "6a7f7f03-c664-4b44-c5a8-5fcb6764581a",
        "colab": {
          "base_uri": "https://localhost:8080/",
          "height": 35
        }
      },
      "source": [
        "log_reg.fit(tr, y_train)\n",
        "y_pred = log_reg.predict(ts)\n",
        "accuracy_score(y_test, y_pred)"
      ],
      "execution_count": 0,
      "outputs": [
        {
          "output_type": "execute_result",
          "data": {
            "text/plain": [
              "0.8105263157894737"
            ]
          },
          "metadata": {
            "tags": []
          },
          "execution_count": 32
        }
      ]
    },
    {
      "cell_type": "markdown",
      "metadata": {
        "id": "QvvXMCd7m1Nh",
        "colab_type": "text"
      },
      "source": [
        "# Captions and Labels tf-idf"
      ]
    },
    {
      "cell_type": "code",
      "metadata": {
        "id": "Po1mAtzem0Lb",
        "colab_type": "code",
        "colab": {}
      },
      "source": [
        "reg_all_tfidf = post_df[['labels', 'caption', 'e_lev']]\n",
        "\n",
        "reg_all_tfidf['labels_join'] = reg_all_tfidf.labels.map(lambda x: ' '.join(x))\n",
        "\n",
        "\n",
        "X = reg_all_tfidf.drop(columns=['e_lev'])\n",
        "Y = reg_all_tfidf['e_lev']\n",
        "\n",
        "X_train, X_test, y_train, y_test = train_test_split(X,Y,test_size = 0.20, random_state=11)\n",
        "log_reg = LogisticRegression(random_state = 20,class_weight = 'balanced')"
      ],
      "execution_count": 0,
      "outputs": []
    },
    {
      "cell_type": "code",
      "metadata": {
        "id": "VnaiSY7TFkiB",
        "colab_type": "code",
        "colab": {}
      },
      "source": [
        "lemmatizer = WordNetLemmatizer()\n",
        "\n",
        "# Tokenize and Lemmatize list of words and join\n",
        "lemmatized_tr = X_train.caption.map(lambda x: ' '.join([token.lemma_ for token in nlp(x)]))\n",
        "lemmatized_ts = X_test.caption.map(lambda x: ' '.join([token.lemma_ for token in nlp(x)]))"
      ],
      "execution_count": 0,
      "outputs": []
    },
    {
      "cell_type": "code",
      "metadata": {
        "id": "ONfZavwrLyWg",
        "colab_type": "code",
        "colab": {}
      },
      "source": [
        "tf_idf = TfidfVectorizer(max_features=3000, analyzer='word', stop_words= 'english', dtype=np.float32,  ngram_range=(1,3))\n",
        "\n",
        "tr = tf_idf.fit_transform(lemmatized_tr)\n",
        "ts = tf_idf.transform(lemmatized_ts)"
      ],
      "execution_count": 0,
      "outputs": []
    },
    {
      "cell_type": "code",
      "metadata": {
        "id": "NJdUb119NVBA",
        "colab_type": "code",
        "colab": {}
      },
      "source": [
        "tf_idf_l = TfidfVectorizer(max_features=300, analyzer='word', stop_words= 'english', dtype=np.float32, ngram_range=(1,3))\n",
        "\n",
        "# lemmatized_tr_l = X_train.labels_join.map(lambda x: ' '.join([token.lemma_ for token in nlp(x)]))\n",
        "# lemmatized_ts_l = X_test.labels_join.map(lambda x: ' '.join([token.lemma_ for token in nlp(x)]))\n",
        "\n",
        "tr_l = tf_idf_l.fit_transform(X_train['labels_join']) #lemmatized_tr_l)#\n",
        "ts_l = tf_idf_l.transform(X_test['labels_join']) #lemmatized_ts_l)"
      ],
      "execution_count": 0,
      "outputs": []
    },
    {
      "cell_type": "code",
      "metadata": {
        "id": "hH2sv8rvNepo",
        "colab_type": "code",
        "colab": {}
      },
      "source": [
        "train = sparse.hstack([tr,tr_l])\n",
        "test = sparse.hstack([ts,ts_l])"
      ],
      "execution_count": 0,
      "outputs": []
    },
    {
      "cell_type": "code",
      "metadata": {
        "id": "F917BRfFL0yc",
        "colab_type": "code",
        "outputId": "0b94c7de-52a7-4b5a-e6ac-62c82b5fde7f",
        "colab": {
          "base_uri": "https://localhost:8080/",
          "height": 35
        }
      },
      "source": [
        "log_reg.fit(train, y_train)\n",
        "y_pred = log_reg.predict(test)\n",
        "accuracy_score(y_test, y_pred)"
      ],
      "execution_count": 0,
      "outputs": [
        {
          "output_type": "execute_result",
          "data": {
            "text/plain": [
              "0.7789473684210526"
            ]
          },
          "metadata": {
            "tags": []
          },
          "execution_count": 104
        }
      ]
    },
    {
      "cell_type": "markdown",
      "metadata": {
        "id": "5MF9RzKZPYfH",
        "colab_type": "text"
      },
      "source": [
        "# Topic Modeling"
      ]
    },
    {
      "cell_type": "code",
      "metadata": {
        "id": "CWc3W80ejT6d",
        "colab_type": "code",
        "outputId": "31590341-c43f-44f5-bc30-1f12520283b8",
        "colab": {
          "base_uri": "https://localhost:8080/",
          "height": 306
        }
      },
      "source": [
        "post_df.head(5)"
      ],
      "execution_count": 0,
      "outputs": [
        {
          "output_type": "execute_result",
          "data": {
            "text/html": [
              "<div>\n",
              "<style scoped>\n",
              "    .dataframe tbody tr th:only-of-type {\n",
              "        vertical-align: middle;\n",
              "    }\n",
              "\n",
              "    .dataframe tbody tr th {\n",
              "        vertical-align: top;\n",
              "    }\n",
              "\n",
              "    .dataframe thead th {\n",
              "        text-align: right;\n",
              "    }\n",
              "</style>\n",
              "<table border=\"1\" class=\"dataframe\">\n",
              "  <thead>\n",
              "    <tr style=\"text-align: right;\">\n",
              "      <th></th>\n",
              "      <th>Unnamed: 0</th>\n",
              "      <th>post_url</th>\n",
              "      <th>num_likes</th>\n",
              "      <th>num_comments</th>\n",
              "      <th>caption</th>\n",
              "      <th>labels</th>\n",
              "      <th>engagement</th>\n",
              "      <th>e_lev</th>\n",
              "    </tr>\n",
              "  </thead>\n",
              "  <tbody>\n",
              "    <tr>\n",
              "      <th>0</th>\n",
              "      <td>0</td>\n",
              "      <td>https://scontent-sea1-1.cdninstagram.com/vp/8e...</td>\n",
              "      <td>0.281916</td>\n",
              "      <td>0.094770</td>\n",
              "      <td>photo by jimmy chin @jimmychin | half dome aft...</td>\n",
              "      <td>[mountainous landforms, mountain, white, black...</td>\n",
              "      <td>0.169628</td>\n",
              "      <td>1</td>\n",
              "    </tr>\n",
              "    <tr>\n",
              "      <th>1</th>\n",
              "      <td>1</td>\n",
              "      <td>https://scontent-sea1-1.cdninstagram.com/vp/51...</td>\n",
              "      <td>0.152775</td>\n",
              "      <td>0.072268</td>\n",
              "      <td>photos by ian teh @iantehphotography | i’m on ...</td>\n",
              "      <td>[motor vehicle, vehicle, mode of transport, au...</td>\n",
              "      <td>0.104471</td>\n",
              "      <td>0</td>\n",
              "    </tr>\n",
              "    <tr>\n",
              "      <th>2</th>\n",
              "      <td>2</td>\n",
              "      <td>https://scontent-sea1-1.cdninstagram.com/vp/21...</td>\n",
              "      <td>0.377510</td>\n",
              "      <td>0.267337</td>\n",
              "      <td>photo by thomas peschak @thomaspeschak | the m...</td>\n",
              "      <td>[green sea turtle, turtle, sea turtle, reptile...</td>\n",
              "      <td>0.311407</td>\n",
              "      <td>1</td>\n",
              "    </tr>\n",
              "    <tr>\n",
              "      <th>3</th>\n",
              "      <td>3</td>\n",
              "      <td>https://scontent-sea1-1.cdninstagram.com/vp/78...</td>\n",
              "      <td>0.099566</td>\n",
              "      <td>0.037785</td>\n",
              "      <td>photo by katie orlinsky @katieorlinsky | olga ...</td>\n",
              "      <td>[temple, cuisine]</td>\n",
              "      <td>0.062497</td>\n",
              "      <td>0</td>\n",
              "    </tr>\n",
              "    <tr>\n",
              "      <th>4</th>\n",
              "      <td>4</td>\n",
              "      <td>https://scontent-sea1-1.cdninstagram.com/vp/03...</td>\n",
              "      <td>0.114799</td>\n",
              "      <td>0.056063</td>\n",
              "      <td>photo by tasneem alsultan @tasneemalsultan | \"...</td>\n",
              "      <td>[tree, palm tree, arecales, woody plant, plant...</td>\n",
              "      <td>0.079557</td>\n",
              "      <td>0</td>\n",
              "    </tr>\n",
              "  </tbody>\n",
              "</table>\n",
              "</div>"
            ],
            "text/plain": [
              "   Unnamed: 0  ... e_lev\n",
              "0           0  ...     1\n",
              "1           1  ...     0\n",
              "2           2  ...     1\n",
              "3           3  ...     0\n",
              "4           4  ...     0\n",
              "\n",
              "[5 rows x 8 columns]"
            ]
          },
          "metadata": {
            "tags": []
          },
          "execution_count": 40
        }
      ]
    },
    {
      "cell_type": "code",
      "metadata": {
        "id": "ma-drgOIiQIF",
        "colab_type": "code",
        "colab": {}
      },
      "source": [
        "import gensim\n",
        "from gensim.utils import simple_preprocess\n",
        "from gensim.test.utils import common_corpus, common_dictionary\n"
      ],
      "execution_count": 0,
      "outputs": []
    },
    {
      "cell_type": "code",
      "metadata": {
        "id": "OrO8hdydjygf",
        "colab_type": "code",
        "colab": {}
      },
      "source": [
        "# https://towardsdatascience.com/topic-modeling-and-latent-dirichlet-allocation-in-python-9bf156893c24\n",
        "dictionary = gensim.corpora.Dictionary(post_df.labels)\n",
        "\n",
        "dictionary.filter_extremes(no_below=1, no_above=0.5) #, keep_n=100000)"
      ],
      "execution_count": 0,
      "outputs": []
    },
    {
      "cell_type": "code",
      "metadata": {
        "id": "oEvIUvIDjAhj",
        "colab_type": "code",
        "colab": {}
      },
      "source": [
        "bow_corpus = [dictionary.doc2bow(label) for label in post_df.labels]"
      ],
      "execution_count": 0,
      "outputs": []
    },
    {
      "cell_type": "code",
      "metadata": {
        "id": "8CCvSM8giP7k",
        "colab_type": "code",
        "colab": {}
      },
      "source": [
        "lda_model = gensim.models.LdaMulticore(bow_corpus, num_topics=5, id2word=dictionary, passes=2, workers=2, chunksize=100, random_state=11)"
      ],
      "execution_count": 0,
      "outputs": []
    },
    {
      "cell_type": "code",
      "metadata": {
        "id": "A1hm9CHolUFH",
        "colab_type": "code",
        "colab": {}
      },
      "source": [
        "import pprint\n",
        "pp = pprint.PrettyPrinter(indent=4)"
      ],
      "execution_count": 0,
      "outputs": []
    },
    {
      "cell_type": "code",
      "metadata": {
        "id": "XdCRKx7dkNiA",
        "colab_type": "code",
        "outputId": "787f3719-6766-4f81-a167-2dd7f96b95e9",
        "colab": {
          "base_uri": "https://localhost:8080/",
          "height": 381
        }
      },
      "source": [
        "pp.pprint(lda_model.print_topics())"
      ],
      "execution_count": 0,
      "outputs": [
        {
          "output_type": "stream",
          "text": [
            "[   (   0,\n",
            "        '0.029*\"tree\" + 0.025*\"plant\" + 0.019*\"grass\" + 0.018*\"sky\" + '\n",
            "        '0.015*\"horse\" + 0.015*\"recreation\" + 0.012*\"photography\" + '\n",
            "        '0.012*\"fun\" + 0.012*\"natural environment\" + 0.010*\"rock\"'),\n",
            "    (   1,\n",
            "        '0.022*\"adaptation\" + 0.022*\"sky\" + 0.017*\"wildlife\" + '\n",
            "        '0.015*\"terrestrial animal\" + 0.014*\"mountain\" + 0.013*\"mammal\" + '\n",
            "        '0.013*\"vertebrate\" + 0.011*\"human\" + 0.011*\"mountainous landforms\" + '\n",
            "        '0.010*\"people\"'),\n",
            "    (   2,\n",
            "        '0.028*\"fish\" + 0.027*\"organism\" + 0.025*\"marine biology\" + '\n",
            "        '0.024*\"underwater\" + 0.020*\"water\" + 0.020*\"vertebrate\" + 0.016*\"sky\" '\n",
            "        '+ 0.013*\"wildlife\" + 0.012*\"blue\" + 0.010*\"cartilaginous fish\"'),\n",
            "    (   3,\n",
            "        '0.044*\"sky\" + 0.031*\"water\" + 0.022*\"photography\" + 0.020*\"landscape\" '\n",
            "        '+ 0.016*\"sea\" + 0.015*\"wildlife\" + 0.014*\"natural landscape\" + '\n",
            "        '0.014*\"nature\" + 0.013*\"cloud\" + 0.012*\"ocean\"'),\n",
            "    (   4,\n",
            "        '0.030*\"sky\" + 0.023*\"photography\" + 0.017*\"atmospheric phenomenon\" + '\n",
            "        '0.015*\"cloud\" + 0.013*\"event\" + 0.012*\"morning\" + 0.012*\"horizon\" + '\n",
            "        '0.012*\"night\" + 0.012*\"sea\" + 0.012*\"tourism\"')]\n"
          ],
          "name": "stdout"
        }
      ]
    },
    {
      "cell_type": "code",
      "metadata": {
        "id": "UV6ggdzzkNXI",
        "colab_type": "code",
        "colab": {}
      },
      "source": [
        "post_topics = post_df.copy(deep=True)\n",
        "\n",
        "post_topics['topic_0'] = 0.0\n",
        "post_topics['topic_1'] = 0.0\n",
        "post_topics['topic_2'] = 0.0\n",
        "post_topics['topic_3'] = 0.0\n",
        "post_topics['topic_4'] = 0.0"
      ],
      "execution_count": 0,
      "outputs": []
    },
    {
      "cell_type": "code",
      "metadata": {
        "id": "0diJk3a9kNM9",
        "colab_type": "code",
        "colab": {}
      },
      "source": [
        "for index, row in post_topics.iterrows():\n",
        "    bow = dictionary.doc2bow(row['labels'])\n",
        "    t = lda_model.get_document_topics(bow)\n",
        "    post_topics['topic_0'].loc[index] = t[0][1]\n",
        "    post_topics['topic_1'].loc[index] = t[1][1]\n",
        "    post_topics['topic_2'].loc[index] = t[2][1]\n",
        "    post_topics['topic_3'].loc[index] = t[3][1]\n",
        "    post_topics['topic_4'].loc[index] = t[4][1]\n"
      ],
      "execution_count": 0,
      "outputs": []
    },
    {
      "cell_type": "code",
      "metadata": {
        "id": "lMzJCTNBkNB9",
        "colab_type": "code",
        "outputId": "d8b6601b-892b-4c60-b286-c1d7ac172cce",
        "colab": {
          "base_uri": "https://localhost:8080/",
          "height": 386
        }
      },
      "source": [
        "post_topics.head(3)"
      ],
      "execution_count": 0,
      "outputs": [
        {
          "output_type": "execute_result",
          "data": {
            "text/html": [
              "<div>\n",
              "<style scoped>\n",
              "    .dataframe tbody tr th:only-of-type {\n",
              "        vertical-align: middle;\n",
              "    }\n",
              "\n",
              "    .dataframe tbody tr th {\n",
              "        vertical-align: top;\n",
              "    }\n",
              "\n",
              "    .dataframe thead th {\n",
              "        text-align: right;\n",
              "    }\n",
              "</style>\n",
              "<table border=\"1\" class=\"dataframe\">\n",
              "  <thead>\n",
              "    <tr style=\"text-align: right;\">\n",
              "      <th></th>\n",
              "      <th>Unnamed: 0</th>\n",
              "      <th>post_url</th>\n",
              "      <th>num_likes</th>\n",
              "      <th>num_comments</th>\n",
              "      <th>caption</th>\n",
              "      <th>labels</th>\n",
              "      <th>engagement</th>\n",
              "      <th>e_lev</th>\n",
              "      <th>topic_0</th>\n",
              "      <th>topic_1</th>\n",
              "      <th>topic_2</th>\n",
              "      <th>topic_3</th>\n",
              "      <th>topic_4</th>\n",
              "    </tr>\n",
              "  </thead>\n",
              "  <tbody>\n",
              "    <tr>\n",
              "      <th>0</th>\n",
              "      <td>0</td>\n",
              "      <td>https://scontent-sea1-1.cdninstagram.com/vp/8e...</td>\n",
              "      <td>0.281916</td>\n",
              "      <td>0.094770</td>\n",
              "      <td>photo by jimmy chin @jimmychin | half dome aft...</td>\n",
              "      <td>[mountainous landforms, mountain, white, black...</td>\n",
              "      <td>0.169628</td>\n",
              "      <td>1</td>\n",
              "      <td>0.018281</td>\n",
              "      <td>0.018656</td>\n",
              "      <td>0.018838</td>\n",
              "      <td>0.925465</td>\n",
              "      <td>0.018760</td>\n",
              "    </tr>\n",
              "    <tr>\n",
              "      <th>1</th>\n",
              "      <td>1</td>\n",
              "      <td>https://scontent-sea1-1.cdninstagram.com/vp/51...</td>\n",
              "      <td>0.152775</td>\n",
              "      <td>0.072268</td>\n",
              "      <td>photos by ian teh @iantehphotography | i’m on ...</td>\n",
              "      <td>[motor vehicle, vehicle, mode of transport, au...</td>\n",
              "      <td>0.104471</td>\n",
              "      <td>0</td>\n",
              "      <td>0.020362</td>\n",
              "      <td>0.919250</td>\n",
              "      <td>0.020041</td>\n",
              "      <td>0.020154</td>\n",
              "      <td>0.020193</td>\n",
              "    </tr>\n",
              "    <tr>\n",
              "      <th>2</th>\n",
              "      <td>2</td>\n",
              "      <td>https://scontent-sea1-1.cdninstagram.com/vp/21...</td>\n",
              "      <td>0.377510</td>\n",
              "      <td>0.267337</td>\n",
              "      <td>photo by thomas peschak @thomaspeschak | the m...</td>\n",
              "      <td>[green sea turtle, turtle, sea turtle, reptile...</td>\n",
              "      <td>0.311407</td>\n",
              "      <td>1</td>\n",
              "      <td>0.357763</td>\n",
              "      <td>0.018350</td>\n",
              "      <td>0.285217</td>\n",
              "      <td>0.320465</td>\n",
              "      <td>0.018204</td>\n",
              "    </tr>\n",
              "  </tbody>\n",
              "</table>\n",
              "</div>"
            ],
            "text/plain": [
              "   Unnamed: 0  ...   topic_4\n",
              "0           0  ...  0.018760\n",
              "1           1  ...  0.020193\n",
              "2           2  ...  0.018204\n",
              "\n",
              "[3 rows x 13 columns]"
            ]
          },
          "metadata": {
            "tags": []
          },
          "execution_count": 147
        }
      ]
    },
    {
      "cell_type": "code",
      "metadata": {
        "id": "142KrZSZq9ut",
        "colab_type": "code",
        "colab": {}
      },
      "source": [
        "labels = list(set([i for l in post_df.labels for i in l]))\n",
        "\n",
        "word_loadings = pd.DataFrame(labels, columns=['word'])\n",
        "word_loadings['topic_0'] = 0.0\n",
        "word_loadings['topic_1'] = 0.0\n",
        "word_loadings['topic_2'] = 0.0\n",
        "word_loadings['topic_3'] = 0.0\n",
        "word_loadings['topic_4'] = 0.0"
      ],
      "execution_count": 0,
      "outputs": []
    },
    {
      "cell_type": "code",
      "metadata": {
        "id": "In0tQ5KW0L0M",
        "colab_type": "code",
        "outputId": "15f6da50-fe18-446b-d692-31897a3199cf",
        "colab": {
          "base_uri": "https://localhost:8080/",
          "height": 79
        }
      },
      "source": [
        "word_loadings.head(1)"
      ],
      "execution_count": 0,
      "outputs": [
        {
          "output_type": "execute_result",
          "data": {
            "text/html": [
              "<div>\n",
              "<style scoped>\n",
              "    .dataframe tbody tr th:only-of-type {\n",
              "        vertical-align: middle;\n",
              "    }\n",
              "\n",
              "    .dataframe tbody tr th {\n",
              "        vertical-align: top;\n",
              "    }\n",
              "\n",
              "    .dataframe thead th {\n",
              "        text-align: right;\n",
              "    }\n",
              "</style>\n",
              "<table border=\"1\" class=\"dataframe\">\n",
              "  <thead>\n",
              "    <tr style=\"text-align: right;\">\n",
              "      <th></th>\n",
              "      <th>word</th>\n",
              "      <th>topic_0</th>\n",
              "      <th>topic_1</th>\n",
              "      <th>topic_2</th>\n",
              "      <th>topic_3</th>\n",
              "      <th>topic_4</th>\n",
              "    </tr>\n",
              "  </thead>\n",
              "  <tbody>\n",
              "    <tr>\n",
              "      <th>0</th>\n",
              "      <td>burmese python</td>\n",
              "      <td>0.0</td>\n",
              "      <td>0.0</td>\n",
              "      <td>0.0</td>\n",
              "      <td>0.0</td>\n",
              "      <td>0.0</td>\n",
              "    </tr>\n",
              "  </tbody>\n",
              "</table>\n",
              "</div>"
            ],
            "text/plain": [
              "             word  topic_0  topic_1  topic_2  topic_3  topic_4\n",
              "0  burmese python      0.0      0.0      0.0      0.0      0.0"
            ]
          },
          "metadata": {
            "tags": []
          },
          "execution_count": 149
        }
      ]
    },
    {
      "cell_type": "code",
      "metadata": {
        "id": "zSacfGaQq-KR",
        "colab_type": "code",
        "colab": {}
      },
      "source": [
        "for index, row in word_loadings.iterrows():\n",
        "  try:\n",
        "    w = lda_model.get_term_topics(row['word'], minimum_probability=0.000001)\n",
        "    word_loadings['topic_0'].loc[index]  = w[0][1]\n",
        "    word_loadings['topic_1'].loc[index]  = w[1][1]\n",
        "    word_loadings['topic_2'].loc[index]  = w[2][1]\n",
        "    word_loadings['topic_3'].loc[index]  = w[3][1]\n",
        "    word_loadings['topic_4'].loc[index]  = w[4][1]\n",
        "  except:\n",
        "    pass"
      ],
      "execution_count": 0,
      "outputs": []
    },
    {
      "cell_type": "code",
      "metadata": {
        "id": "rYlK-5Mlq-eS",
        "colab_type": "code",
        "outputId": "e914da18-0a9d-4706-de1a-e7f0d981e8b8",
        "colab": {
          "base_uri": "https://localhost:8080/",
          "height": 139
        }
      },
      "source": [
        "word_loadings[word_loadings['topic_0']==0.0].count()"
      ],
      "execution_count": 0,
      "outputs": [
        {
          "output_type": "execute_result",
          "data": {
            "text/plain": [
              "word       0\n",
              "topic_0    0\n",
              "topic_1    0\n",
              "topic_2    0\n",
              "topic_3    0\n",
              "topic_4    0\n",
              "dtype: int64"
            ]
          },
          "metadata": {
            "tags": []
          },
          "execution_count": 151
        }
      ]
    },
    {
      "cell_type": "code",
      "metadata": {
        "id": "3J0wZ-V0zJ_J",
        "colab_type": "code",
        "outputId": "22920085-386b-47c5-9328-bb2b2715fe60",
        "colab": {
          "base_uri": "https://localhost:8080/",
          "height": 202
        }
      },
      "source": [
        "word_loadings.head(5)"
      ],
      "execution_count": 0,
      "outputs": [
        {
          "output_type": "execute_result",
          "data": {
            "text/html": [
              "<div>\n",
              "<style scoped>\n",
              "    .dataframe tbody tr th:only-of-type {\n",
              "        vertical-align: middle;\n",
              "    }\n",
              "\n",
              "    .dataframe tbody tr th {\n",
              "        vertical-align: top;\n",
              "    }\n",
              "\n",
              "    .dataframe thead th {\n",
              "        text-align: right;\n",
              "    }\n",
              "</style>\n",
              "<table border=\"1\" class=\"dataframe\">\n",
              "  <thead>\n",
              "    <tr style=\"text-align: right;\">\n",
              "      <th></th>\n",
              "      <th>word</th>\n",
              "      <th>topic_0</th>\n",
              "      <th>topic_1</th>\n",
              "      <th>topic_2</th>\n",
              "      <th>topic_3</th>\n",
              "      <th>topic_4</th>\n",
              "    </tr>\n",
              "  </thead>\n",
              "  <tbody>\n",
              "    <tr>\n",
              "      <th>0</th>\n",
              "      <td>burmese python</td>\n",
              "      <td>0.000128</td>\n",
              "      <td>0.000005</td>\n",
              "      <td>0.000005</td>\n",
              "      <td>0.001291</td>\n",
              "      <td>0.000007</td>\n",
              "    </tr>\n",
              "    <tr>\n",
              "      <th>1</th>\n",
              "      <td>room</td>\n",
              "      <td>0.001197</td>\n",
              "      <td>0.003754</td>\n",
              "      <td>0.000604</td>\n",
              "      <td>0.008210</td>\n",
              "      <td>0.005228</td>\n",
              "    </tr>\n",
              "    <tr>\n",
              "      <th>2</th>\n",
              "      <td>valley</td>\n",
              "      <td>0.000006</td>\n",
              "      <td>0.000639</td>\n",
              "      <td>0.000005</td>\n",
              "      <td>0.000007</td>\n",
              "      <td>0.000007</td>\n",
              "    </tr>\n",
              "    <tr>\n",
              "      <th>3</th>\n",
              "      <td>webbing clothes moth</td>\n",
              "      <td>0.000006</td>\n",
              "      <td>0.000005</td>\n",
              "      <td>0.000005</td>\n",
              "      <td>0.000341</td>\n",
              "      <td>0.000007</td>\n",
              "    </tr>\n",
              "    <tr>\n",
              "      <th>4</th>\n",
              "      <td>pomacentridae</td>\n",
              "      <td>0.000006</td>\n",
              "      <td>0.000005</td>\n",
              "      <td>0.000547</td>\n",
              "      <td>0.000003</td>\n",
              "      <td>0.000007</td>\n",
              "    </tr>\n",
              "  </tbody>\n",
              "</table>\n",
              "</div>"
            ],
            "text/plain": [
              "                   word   topic_0   topic_1   topic_2   topic_3   topic_4\n",
              "0        burmese python  0.000128  0.000005  0.000005  0.001291  0.000007\n",
              "1                  room  0.001197  0.003754  0.000604  0.008210  0.005228\n",
              "2                valley  0.000006  0.000639  0.000005  0.000007  0.000007\n",
              "3  webbing clothes moth  0.000006  0.000005  0.000005  0.000341  0.000007\n",
              "4         pomacentridae  0.000006  0.000005  0.000547  0.000003  0.000007"
            ]
          },
          "metadata": {
            "tags": []
          },
          "execution_count": 152
        }
      ]
    },
    {
      "cell_type": "markdown",
      "metadata": {
        "id": "8bzbvReL4znJ",
        "colab_type": "text"
      },
      "source": [
        "# Quartiles"
      ]
    },
    {
      "cell_type": "code",
      "metadata": {
        "id": "xfv4fef23xTS",
        "colab_type": "code",
        "colab": {}
      },
      "source": [
        "post_topics['quartile'] = pd.qcut(post_topics['engagement'], 4, labels=False)"
      ],
      "execution_count": 0,
      "outputs": []
    },
    {
      "cell_type": "code",
      "metadata": {
        "id": "VJfOz4bK4Ufi",
        "colab_type": "code",
        "outputId": "d901e457-4861-4f8a-9e60-70207b122ea5",
        "colab": {
          "base_uri": "https://localhost:8080/",
          "height": 303
        }
      },
      "source": [
        "post_topics.head(2)"
      ],
      "execution_count": 0,
      "outputs": [
        {
          "output_type": "execute_result",
          "data": {
            "text/html": [
              "<div>\n",
              "<style scoped>\n",
              "    .dataframe tbody tr th:only-of-type {\n",
              "        vertical-align: middle;\n",
              "    }\n",
              "\n",
              "    .dataframe tbody tr th {\n",
              "        vertical-align: top;\n",
              "    }\n",
              "\n",
              "    .dataframe thead th {\n",
              "        text-align: right;\n",
              "    }\n",
              "</style>\n",
              "<table border=\"1\" class=\"dataframe\">\n",
              "  <thead>\n",
              "    <tr style=\"text-align: right;\">\n",
              "      <th></th>\n",
              "      <th>Unnamed: 0</th>\n",
              "      <th>post_url</th>\n",
              "      <th>num_likes</th>\n",
              "      <th>num_comments</th>\n",
              "      <th>caption</th>\n",
              "      <th>labels</th>\n",
              "      <th>engagement</th>\n",
              "      <th>e_lev</th>\n",
              "      <th>topic_0</th>\n",
              "      <th>topic_1</th>\n",
              "      <th>topic_2</th>\n",
              "      <th>topic_3</th>\n",
              "      <th>topic_4</th>\n",
              "      <th>quartile</th>\n",
              "    </tr>\n",
              "  </thead>\n",
              "  <tbody>\n",
              "    <tr>\n",
              "      <th>0</th>\n",
              "      <td>0</td>\n",
              "      <td>https://scontent-sea1-1.cdninstagram.com/vp/8e...</td>\n",
              "      <td>0.281916</td>\n",
              "      <td>0.094770</td>\n",
              "      <td>photo by jimmy chin @jimmychin | half dome aft...</td>\n",
              "      <td>[mountainous landforms, mountain, white, black...</td>\n",
              "      <td>0.169628</td>\n",
              "      <td>1</td>\n",
              "      <td>0.018281</td>\n",
              "      <td>0.018656</td>\n",
              "      <td>0.018838</td>\n",
              "      <td>0.925465</td>\n",
              "      <td>0.018760</td>\n",
              "      <td>2</td>\n",
              "    </tr>\n",
              "    <tr>\n",
              "      <th>1</th>\n",
              "      <td>1</td>\n",
              "      <td>https://scontent-sea1-1.cdninstagram.com/vp/51...</td>\n",
              "      <td>0.152775</td>\n",
              "      <td>0.072268</td>\n",
              "      <td>photos by ian teh @iantehphotography | i’m on ...</td>\n",
              "      <td>[motor vehicle, vehicle, mode of transport, au...</td>\n",
              "      <td>0.104471</td>\n",
              "      <td>0</td>\n",
              "      <td>0.020362</td>\n",
              "      <td>0.919250</td>\n",
              "      <td>0.020041</td>\n",
              "      <td>0.020154</td>\n",
              "      <td>0.020193</td>\n",
              "      <td>1</td>\n",
              "    </tr>\n",
              "  </tbody>\n",
              "</table>\n",
              "</div>"
            ],
            "text/plain": [
              "   Unnamed: 0  ... quartile\n",
              "0           0  ...        2\n",
              "1           1  ...        1\n",
              "\n",
              "[2 rows x 14 columns]"
            ]
          },
          "metadata": {
            "tags": []
          },
          "execution_count": 160
        }
      ]
    },
    {
      "cell_type": "code",
      "metadata": {
        "id": "kdKJnNrT3xQp",
        "colab_type": "code",
        "outputId": "1907b0f9-d2bf-4fd8-f42a-3ead0ffd501a",
        "colab": {
          "base_uri": "https://localhost:8080/",
          "height": 202
        }
      },
      "source": [
        "post_topics.groupby('quartile')[['topic_0','topic_1','topic_2','topic_3','topic_4']].mean()"
      ],
      "execution_count": 0,
      "outputs": [
        {
          "output_type": "execute_result",
          "data": {
            "text/html": [
              "<div>\n",
              "<style scoped>\n",
              "    .dataframe tbody tr th:only-of-type {\n",
              "        vertical-align: middle;\n",
              "    }\n",
              "\n",
              "    .dataframe tbody tr th {\n",
              "        vertical-align: top;\n",
              "    }\n",
              "\n",
              "    .dataframe thead th {\n",
              "        text-align: right;\n",
              "    }\n",
              "</style>\n",
              "<table border=\"1\" class=\"dataframe\">\n",
              "  <thead>\n",
              "    <tr style=\"text-align: right;\">\n",
              "      <th></th>\n",
              "      <th>topic_0</th>\n",
              "      <th>topic_1</th>\n",
              "      <th>topic_2</th>\n",
              "      <th>topic_3</th>\n",
              "      <th>topic_4</th>\n",
              "    </tr>\n",
              "    <tr>\n",
              "      <th>quartile</th>\n",
              "      <th></th>\n",
              "      <th></th>\n",
              "      <th></th>\n",
              "      <th></th>\n",
              "      <th></th>\n",
              "    </tr>\n",
              "  </thead>\n",
              "  <tbody>\n",
              "    <tr>\n",
              "      <th>0</th>\n",
              "      <td>0.227681</td>\n",
              "      <td>0.163748</td>\n",
              "      <td>0.138967</td>\n",
              "      <td>0.262377</td>\n",
              "      <td>0.207228</td>\n",
              "    </tr>\n",
              "    <tr>\n",
              "      <th>1</th>\n",
              "      <td>0.127168</td>\n",
              "      <td>0.256484</td>\n",
              "      <td>0.152151</td>\n",
              "      <td>0.280183</td>\n",
              "      <td>0.184014</td>\n",
              "    </tr>\n",
              "    <tr>\n",
              "      <th>2</th>\n",
              "      <td>0.183308</td>\n",
              "      <td>0.208172</td>\n",
              "      <td>0.142312</td>\n",
              "      <td>0.364503</td>\n",
              "      <td>0.101704</td>\n",
              "    </tr>\n",
              "    <tr>\n",
              "      <th>3</th>\n",
              "      <td>0.114926</td>\n",
              "      <td>0.249348</td>\n",
              "      <td>0.197415</td>\n",
              "      <td>0.344589</td>\n",
              "      <td>0.093721</td>\n",
              "    </tr>\n",
              "  </tbody>\n",
              "</table>\n",
              "</div>"
            ],
            "text/plain": [
              "           topic_0   topic_1   topic_2   topic_3   topic_4\n",
              "quartile                                                  \n",
              "0         0.227681  0.163748  0.138967  0.262377  0.207228\n",
              "1         0.127168  0.256484  0.152151  0.280183  0.184014\n",
              "2         0.183308  0.208172  0.142312  0.364503  0.101704\n",
              "3         0.114926  0.249348  0.197415  0.344589  0.093721"
            ]
          },
          "metadata": {
            "tags": []
          },
          "execution_count": 162
        }
      ]
    },
    {
      "cell_type": "markdown",
      "metadata": {
        "id": "1CtT-ZLm5TZI",
        "colab_type": "text"
      },
      "source": [
        "# Visualization"
      ]
    },
    {
      "cell_type": "code",
      "metadata": {
        "id": "MgUY4EB-qpFZ",
        "colab_type": "code",
        "colab": {}
      },
      "source": [
        "pip install pyLDAvis"
      ],
      "execution_count": 0,
      "outputs": []
    },
    {
      "cell_type": "code",
      "metadata": {
        "id": "HZX1PeHSqfYB",
        "colab_type": "code",
        "outputId": "d6acf49c-32bf-4bbd-e3f0-fe0014b6babf",
        "colab": {
          "base_uri": "https://localhost:8080/",
          "height": 881
        }
      },
      "source": [
        "import pyLDAvis\n",
        "import pyLDAvis.gensim\n",
        "pyLDAvis.enable_notebook()\n",
        "vis = pyLDAvis.gensim.prepare(lda_model, bow_corpus, dictionary)\n",
        "vis"
      ],
      "execution_count": 0,
      "outputs": [
        {
          "output_type": "execute_result",
          "data": {
            "text/html": [
              "\n",
              "<link rel=\"stylesheet\" type=\"text/css\" href=\"https://cdn.rawgit.com/bmabey/pyLDAvis/files/ldavis.v1.0.0.css\">\n",
              "\n",
              "\n",
              "<div id=\"ldavis_el122140528831228928327258771\"></div>\n",
              "<script type=\"text/javascript\">\n",
              "\n",
              "var ldavis_el122140528831228928327258771_data = {\"mdsDat\": {\"x\": [0.013521012461154353, 0.040382803511101795, 0.04762994666910131, -0.16041594858327257, 0.05888218594191511], \"y\": [0.04923229576863098, 0.011363034551298282, -0.1452100843351931, -0.0036913456602983507, 0.08830609967556222], \"topics\": [1, 2, 3, 4, 5], \"cluster\": [1, 1, 1, 1, 1], \"Freq\": [32.73527908325195, 20.83981704711914, 16.201387405395508, 15.904013633728027, 14.319503784179688]}, \"tinfo\": {\"Category\": [\"Default\", \"Default\", \"Default\", \"Default\", \"Default\", \"Default\", \"Default\", \"Default\", \"Default\", \"Default\", \"Default\", \"Default\", \"Default\", \"Default\", \"Default\", \"Default\", \"Default\", \"Default\", \"Default\", \"Default\", \"Default\", \"Default\", \"Default\", \"Default\", \"Default\", \"Default\", \"Default\", \"Default\", \"Default\", \"Default\", \"Topic1\", \"Topic1\", \"Topic1\", \"Topic1\", \"Topic1\", \"Topic1\", \"Topic1\", \"Topic1\", \"Topic1\", \"Topic1\", \"Topic1\", \"Topic1\", \"Topic1\", \"Topic1\", \"Topic1\", \"Topic1\", \"Topic1\", \"Topic1\", \"Topic1\", \"Topic1\", \"Topic1\", \"Topic1\", \"Topic1\", \"Topic1\", \"Topic1\", \"Topic1\", \"Topic1\", \"Topic1\", \"Topic1\", \"Topic1\", \"Topic1\", \"Topic1\", \"Topic1\", \"Topic1\", \"Topic1\", \"Topic1\", \"Topic1\", \"Topic1\", \"Topic1\", \"Topic1\", \"Topic1\", \"Topic1\", \"Topic1\", \"Topic1\", \"Topic1\", \"Topic1\", \"Topic1\", \"Topic1\", \"Topic1\", \"Topic1\", \"Topic1\", \"Topic1\", \"Topic1\", \"Topic1\", \"Topic1\", \"Topic1\", \"Topic1\", \"Topic1\", \"Topic1\", \"Topic1\", \"Topic2\", \"Topic2\", \"Topic2\", \"Topic2\", \"Topic2\", \"Topic2\", \"Topic2\", \"Topic2\", \"Topic2\", \"Topic2\", \"Topic2\", \"Topic2\", \"Topic2\", \"Topic2\", \"Topic2\", \"Topic2\", \"Topic2\", \"Topic2\", \"Topic2\", \"Topic2\", \"Topic2\", \"Topic2\", \"Topic2\", \"Topic2\", \"Topic2\", \"Topic2\", \"Topic2\", \"Topic2\", \"Topic2\", \"Topic2\", \"Topic2\", \"Topic2\", \"Topic2\", \"Topic2\", \"Topic2\", \"Topic2\", \"Topic2\", \"Topic2\", \"Topic2\", \"Topic2\", \"Topic2\", \"Topic2\", \"Topic2\", \"Topic2\", \"Topic2\", \"Topic2\", \"Topic2\", \"Topic2\", \"Topic2\", \"Topic2\", \"Topic2\", \"Topic2\", \"Topic2\", \"Topic2\", \"Topic2\", \"Topic2\", \"Topic2\", \"Topic2\", \"Topic2\", \"Topic2\", \"Topic2\", \"Topic2\", \"Topic2\", \"Topic2\", \"Topic2\", \"Topic2\", \"Topic2\", \"Topic2\", \"Topic3\", \"Topic3\", \"Topic3\", \"Topic3\", \"Topic3\", \"Topic3\", \"Topic3\", \"Topic3\", \"Topic3\", \"Topic3\", \"Topic3\", \"Topic3\", \"Topic3\", \"Topic3\", \"Topic3\", \"Topic3\", \"Topic3\", \"Topic3\", \"Topic3\", \"Topic3\", \"Topic3\", \"Topic3\", \"Topic3\", \"Topic3\", \"Topic3\", \"Topic3\", \"Topic3\", \"Topic3\", \"Topic3\", \"Topic3\", \"Topic3\", \"Topic3\", \"Topic3\", \"Topic3\", \"Topic3\", \"Topic3\", \"Topic3\", \"Topic3\", \"Topic3\", \"Topic3\", \"Topic3\", \"Topic3\", \"Topic3\", \"Topic3\", \"Topic3\", \"Topic3\", \"Topic3\", \"Topic3\", \"Topic3\", \"Topic3\", \"Topic3\", \"Topic3\", \"Topic3\", \"Topic3\", \"Topic3\", \"Topic3\", \"Topic3\", \"Topic3\", \"Topic3\", \"Topic3\", \"Topic3\", \"Topic3\", \"Topic3\", \"Topic3\", \"Topic3\", \"Topic4\", \"Topic4\", \"Topic4\", \"Topic4\", \"Topic4\", \"Topic4\", \"Topic4\", \"Topic4\", \"Topic4\", \"Topic4\", \"Topic4\", \"Topic4\", \"Topic4\", \"Topic4\", \"Topic4\", \"Topic4\", \"Topic4\", \"Topic4\", \"Topic4\", \"Topic4\", \"Topic4\", \"Topic4\", \"Topic4\", \"Topic4\", \"Topic4\", \"Topic4\", \"Topic4\", \"Topic4\", \"Topic4\", \"Topic4\", \"Topic4\", \"Topic4\", \"Topic4\", \"Topic4\", \"Topic4\", \"Topic4\", \"Topic4\", \"Topic4\", \"Topic4\", \"Topic4\", \"Topic4\", \"Topic4\", \"Topic4\", \"Topic4\", \"Topic4\", \"Topic4\", \"Topic4\", \"Topic4\", \"Topic4\", \"Topic4\", \"Topic4\", \"Topic4\", \"Topic4\", \"Topic4\", \"Topic4\", \"Topic4\", \"Topic4\", \"Topic5\", \"Topic5\", \"Topic5\", \"Topic5\", \"Topic5\", \"Topic5\", \"Topic5\", \"Topic5\", \"Topic5\", \"Topic5\", \"Topic5\", \"Topic5\", \"Topic5\", \"Topic5\", \"Topic5\", \"Topic5\", \"Topic5\", \"Topic5\", \"Topic5\", \"Topic5\", \"Topic5\", \"Topic5\", \"Topic5\", \"Topic5\", \"Topic5\", \"Topic5\", \"Topic5\", \"Topic5\", \"Topic5\", \"Topic5\", \"Topic5\", \"Topic5\", \"Topic5\", \"Topic5\", \"Topic5\", \"Topic5\", \"Topic5\", \"Topic5\", \"Topic5\", \"Topic5\", \"Topic5\", \"Topic5\", \"Topic5\", \"Topic5\", \"Topic5\", \"Topic5\", \"Topic5\", \"Topic5\", \"Topic5\", \"Topic5\", \"Topic5\", \"Topic5\", \"Topic5\", \"Topic5\", \"Topic5\", \"Topic5\", \"Topic5\", \"Topic5\", \"Topic5\", \"Topic5\", \"Topic5\", \"Topic5\", \"Topic5\"], \"Freq\": [19.0, 18.0, 21.0, 30.0, 30.0, 18.0, 63.0, 11.0, 34.0, 49.0, 23.0, 16.0, 19.0, 61.0, 13.0, 7.0, 15.0, 14.0, 45.0, 12.0, 7.0, 6.0, 6.0, 38.0, 25.0, 32.0, 26.0, 36.0, 25.0, 26.0, 7.62044095993042, 5.419753074645996, 5.419456958770752, 4.789005279541016, 7.405104637145996, 11.533430099487305, 3.945255756378174, 3.9449448585510254, 5.140167236328125, 3.549018383026123, 7.084758758544922, 3.4286231994628906, 3.426757574081421, 3.2671053409576416, 3.266728639602661, 3.9769577980041504, 5.173035621643066, 2.8707730770111084, 2.58870267868042, 2.5884976387023926, 2.5418412685394287, 3.036566972732544, 9.23883056640625, 2.423614740371704, 2.4219188690185547, 7.330366134643555, 3.4414522647857666, 8.264147758483887, 7.4264445304870605, 1.863539457321167, 28.26534080505371, 9.968049049377441, 42.308929443359375, 18.629179000854492, 60.521827697753906, 21.445804595947266, 6.170241355895996, 19.296234130859375, 30.26723289489746, 16.42680549621582, 11.761024475097656, 10.85950756072998, 7.170773506164551, 14.98343276977539, 15.325920104980469, 20.107769012451172, 17.828428268432617, 10.211941719055176, 13.795865058898926, 12.045708656311035, 8.088679313659668, 13.200972557067871, 10.140968322753906, 9.468780517578125, 11.173613548278809, 8.603147506713867, 8.34887409210205, 8.260658264160156, 7.904563903808594, 8.00837516784668, 6.452028274536133, 3.1245899200439453, 3.078040838241577, 4.258685111999512, 4.898942947387695, 2.9294354915618896, 2.998140573501587, 3.8678855895996094, 2.842325448989868, 4.059869289398193, 2.2804839611053467, 3.2457265853881836, 3.733520984649658, 2.7606587409973145, 2.065709114074707, 2.0655221939086914, 2.2037882804870605, 1.6454986333847046, 1.6450620889663696, 1.6450272798538208, 1.6446218490600586, 1.6444313526153564, 1.643709421157837, 3.817016363143921, 1.6002026796340942, 1.5992469787597656, 1.6177525520324707, 1.603833794593811, 1.5995458364486694, 1.5638428926467896, 5.6503753662109375, 3.161642074584961, 6.28639554977417, 6.270151615142822, 5.546435832977295, 5.545600891113281, 6.932987689971924, 4.701396942138672, 8.620293617248535, 5.309639930725098, 6.6018548011779785, 4.470249176025391, 8.1526460647583, 12.935131072998047, 19.512657165527344, 5.988950729370117, 5.3635640144348145, 11.627306938171387, 9.742496490478516, 12.635016441345215, 9.08544921875, 7.593840599060059, 14.699216842651367, 8.87572193145752, 7.971945762634277, 11.099004745483398, 9.290385246276855, 19.014312744140625, 7.572364330291748, 8.953764915466309, 5.976799488067627, 6.579344272613525, 8.278470039367676, 7.048615455627441, 7.198489189147949, 7.800164222717285, 6.830136299133301, 6.0406622886657715, 10.352109909057617, 3.3696300983428955, 2.4024248123168945, 2.402374267578125, 2.4022305011749268, 2.4021496772766113, 2.4020869731903076, 2.402029037475586, 2.4019510746002197, 2.401770830154419, 2.4013671875, 2.4010465145111084, 5.8174309730529785, 2.6972737312316895, 2.6971874237060547, 3.2732503414154053, 3.0972518920898438, 2.1079607009887695, 1.7288951873779297, 1.7288792133331299, 3.207275867462158, 1.9594182968139648, 3.434135913848877, 1.6199315786361694, 1.6198389530181885, 1.6194324493408203, 1.619372010231018, 1.6193267107009888, 1.6193183660507202, 1.6192340850830078, 12.9309720993042, 2.7427785396575928, 3.7052433490753174, 1.6965209245681763, 10.327085494995117, 17.30211639404297, 2.111602544784546, 3.7092788219451904, 3.323817014694214, 19.785850524902344, 5.024399280548096, 6.120270729064941, 3.4005064964294434, 7.881561279296875, 8.024090766906738, 5.110507965087891, 3.922579288482666, 6.87992000579834, 12.133522987365723, 8.470219612121582, 4.995846748352051, 3.8206820487976074, 3.6735658645629883, 3.424989700317383, 5.607387542724609, 4.293745517730713, 5.586669445037842, 5.305508613586426, 4.661303997039795, 4.449724197387695, 3.801027297973633, 3.7539854049682617, 3.452164888381958, 3.550999879837036, 3.455305576324463, 19.01191520690918, 6.841925621032715, 5.656704902648926, 5.65588903427124, 16.857114791870117, 4.432055950164795, 4.1375885009765625, 3.2082865238189697, 3.2071330547332764, 2.5857362747192383, 2.585604190826416, 2.383354663848877, 2.5789623260498047, 3.489609718322754, 3.4760167598724365, 2.484617233276367, 16.187339782714844, 2.9854373931884766, 1.8916871547698975, 1.8906360864639282, 1.854406714439392, 2.3880558013916016, 1.9320976734161377, 3.3785207271575928, 1.4537490606307983, 1.4536234140396118, 1.3623849153518677, 1.362293004989624, 1.362239956855774, 1.3622430562973022, 17.89356231689453, 2.9139676094055176, 2.1574978828430176, 2.140993118286133, 13.29702377319336, 3.3688483238220215, 6.275579452514648, 7.9113898277282715, 13.449980735778809, 3.3829667568206787, 5.094001293182373, 5.513845920562744, 5.396260738372803, 8.619318962097168, 6.3391642570495605, 5.983234405517578, 10.86472225189209, 3.8282694816589355, 6.3484416007995605, 5.122583389282227, 3.975795030593872, 4.7096734046936035, 4.716057300567627, 3.857560157775879, 4.053328037261963, 3.9060888290405273, 3.6315927505493164, 3.811480760574341, 2.6112325191497803, 5.667465686798096, 2.1074836254119873, 1.5764707326889038, 1.5762767791748047, 1.5762228965759277, 1.576220154762268, 1.5762104988098145, 1.5761723518371582, 1.576177954673767, 1.5760780572891235, 1.575958490371704, 1.5759057998657227, 1.5758881568908691, 1.5757960081100464, 1.5757627487182617, 1.572226643562317, 1.533531904220581, 1.5163456201553345, 1.91943359375, 1.9339160919189453, 5.062834739685059, 4.588473320007324, 2.608274221420288, 2.20271372795105, 2.9558184146881104, 3.3976709842681885, 1.189810037612915, 0.9210439920425415, 4.6179118156433105, 3.5203680992126465, 7.475724220275879, 3.9254891872406006, 10.13299560546875, 5.9238762855529785, 3.945723295211792, 4.68953275680542, 7.383753776550293, 2.9292192459106445, 7.782470226287842, 7.172122955322266, 13.693038940429688, 3.0844383239746094, 7.271538734436035, 18.337831497192383, 2.339015007019043, 3.1803927421569824, 9.248612403869629, 3.103339195251465, 3.4850966930389404, 7.269835472106934, 4.530688762664795, 6.391671180725098, 4.29159688949585, 5.100744247436523, 3.634925127029419, 4.488200664520264, 4.856908798217773, 5.375129222869873, 4.244387149810791, 3.820674419403076, 3.5515360832214355], \"Term\": [\"fish\", \"marine biology\", \"underwater\", \"organism\", \"plant\", \"grass\", \"water\", \"horse\", \"vertebrate\", \"tree\", \"atmospheric phenomenon\", \"recreation\", \"horizon\", \"photography\", \"morning\", \"cartilaginous fish\", \"light\", \"leisure\", \"adaptation\", \"photograph\", \"beauty\", \"shark\", \"great white shark\", \"landscape\", \"blue\", \"fun\", \"mammal\", \"sea\", \"night\", \"terrestrial animal\", \"water resources\", \"lake\", \"body of water\", \"desert\", \"aerial photography\", \"reflection\", \"dune\", \"aeolian landform\", \"monochrome\", \"lip\", \"river\", \"stork\", \"ciconiiformes\", \"sahara\", \"screenshot\", \"water bird\", \"watercourse\", \"fell\", \"gesture\", \"erg\", \"bank\", \"bird's-eye view\", \"wave\", \"swimming\", \"purple\", \"hand\", \"mist\", \"vacation\", \"sand\", \"land lot\", \"landscape\", \"geology\", \"water\", \"nature\", \"sky\", \"sea\", \"ecoregion\", \"natural landscape\", \"photography\", \"ocean\", \"room\", \"smile\", \"beak\", \"fun\", \"mountain\", \"wildlife\", \"cloud\", \"horizon\", \"rock\", \"mountainous landforms\", \"bird\", \"adaptation\", \"natural environment\", \"blue\", \"tree\", \"night\", \"wilderness\", \"people\", \"grassland\", \"organism\", \"astronomical object\", \"woodland\", \"textile\", \"glacial landform\", \"indian elephant\", \"astronomy\", \"old-growth forest\", \"ice cap\", \"glacier\", \"space\", \"galaxy\", \"star\", \"world\", \"mountaineering\", \"litter\", \"scrap\", \"mountaineer\", \"temperate broadleaf and mixed forest\", \"ad\\u00e3\\u00a9lie penguin\", \"bed sheet\", \"bedroom\", \"village\", \"bed\", \"ceremony\", \"garmon\", \"musical instrument\", \"rite\", \"marriage\", \"party\", \"masai lion\", \"snow\", \"freezing\", \"dog breed\", \"dog\", \"elephants and mammoths\", \"elephant\", \"forest\", \"portrait\", \"canidae\", \"vegetation\", \"nature reserve\", \"tribe\", \"art\", \"terrestrial animal\", \"adaptation\", \"ice\", \"sporting group\", \"mammal\", \"human\", \"mountain\", \"people\", \"child\", \"wildlife\", \"geological phenomenon\", \"carnivore\", \"vertebrate\", \"mountainous landforms\", \"sky\", \"wilderness\", \"natural landscape\", \"snout\", \"atmosphere\", \"tree\", \"natural environment\", \"nature\", \"photography\", \"cloud\", \"event\", \"horse\", \"polar bear\", \"troop\", \"public space\", \"military\", \"marines\", \"army\", \"infantry\", \"military uniform\", \"military organization\", \"soldier\", \"military camouflage\", \"branch\", \"hawksbill sea turtle\", \"loggerhead sea turtle\", \"arctic ocean\", \"polar ice cap\", \"palm tree\", \"animal sports\", \"extreme sport\", \"sea ice\", \"bear\", \"botany\", \"stallion\", \"dairy cow\", \"stable\", \"airsoft\", \"rope\", \"horse grooming\", \"advertising\", \"grass\", \"rein\", \"leaf\", \"spring\", \"recreation\", \"plant\", \"mare\", \"grass family\", \"play\", \"tree\", \"community\", \"leisure\", \"turtle\", \"natural environment\", \"fun\", \"vehicle\", \"woody plant\", \"rock\", \"sky\", \"photography\", \"grassland\", \"building\", \"arctic\", \"house\", \"adaptation\", \"architecture\", \"wildlife\", \"cloud\", \"mammal\", \"vertebrate\", \"sea\", \"landscape\", \"ice\", \"water\", \"child\", \"fish\", \"cartilaginous fish\", \"shark\", \"great white shark\", \"marine biology\", \"tiger shark\", \"fin\", \"lamnidae\", \"lamniformes\", \"bony-fish\", \"tilapia\", \"cetacea\", \"crop\", \"reef\", \"electric blue\", \"small to medium-sized cats\", \"underwater\", \"turquoise\", \"carcharhiniformes\", \"coral reef fish\", \"flower\", \"tail\", \"agriculture\", \"rural area\", \"cash crop\", \"plantation\", \"giraffe\", \"old world flycatcher\", \"cat\", \"king penguin\", \"organism\", \"farm\", \"puma\", \"cougar\", \"vertebrate\", \"ancient history\", \"light\", \"blue\", \"water\", \"red\", \"green\", \"architecture\", \"carnivore\", \"wildlife\", \"mammal\", \"terrestrial animal\", \"sky\", \"field\", \"adaptation\", \"night\", \"felidae\", \"cloud\", \"tree\", \"bird\", \"rock\", \"plant\", \"beak\", \"backlighting\", \"orange\", \"beauty\", \"statue\", \"patient\", \"service\", \"birth\", \"hospital\", \"hospital bed\", \"tower\", \"operating theater\", \"town square\", \"dressmaker\", \"romance\", \"knitting\", \"honeymoon\", \"clinic\", \"tent\", \"water transportation\", \"uniform\", \"sculpture\", \"love\", \"dress\", \"sitting\", \"ruins\", \"interaction\", \"boat\", \"beach\", \"forehead\", \"raft\", \"evening\", \"road\", \"morning\", \"sunlight\", \"atmospheric phenomenon\", \"photograph\", \"calm\", \"lady\", \"horizon\", \"infrastructure\", \"event\", \"tourism\", \"photography\", \"head\", \"night\", \"sky\", \"chin\", \"face\", \"cloud\", \"snapshot\", \"skin\", \"sea\", \"light\", \"fun\", \"leisure\", \"blue\", \"tradition\", \"atmosphere\", \"ocean\", \"tree\", \"nature\", \"green\", \"human\"], \"Total\": [19.0, 18.0, 21.0, 30.0, 30.0, 18.0, 63.0, 11.0, 34.0, 49.0, 23.0, 16.0, 19.0, 61.0, 13.0, 7.0, 15.0, 14.0, 45.0, 12.0, 7.0, 6.0, 6.0, 38.0, 25.0, 32.0, 26.0, 36.0, 25.0, 26.0, 8.25313663482666, 6.051839351654053, 6.051804542541504, 5.421366214752197, 8.411842346191406, 13.255876541137695, 4.577615261077881, 4.5776166915893555, 6.026999473571777, 4.180314064025879, 8.35085391998291, 4.0634565353393555, 4.063264846801758, 3.8988759517669678, 3.898808002471924, 4.803974151611328, 6.254926681518555, 3.519761562347412, 3.220083713531494, 3.220107078552246, 3.1718637943267822, 3.8102712631225586, 11.640469551086426, 3.055131196975708, 3.0550880432128906, 9.278075218200684, 4.538710594177246, 10.911815643310547, 9.900016784667969, 2.4930813312530518, 38.54507064819336, 13.524301528930664, 63.910064697265625, 30.866830825805664, 120.8722152709961, 36.71769332885742, 8.8676176071167, 35.12592697143555, 61.59461975097656, 30.245243072509766, 20.911849975585938, 19.065746307373047, 11.302807807922363, 32.326141357421875, 33.66423034667969, 51.94084548950195, 43.922359466552734, 19.276657104492188, 32.04046630859375, 26.523977279663086, 14.2117280960083, 45.33316421508789, 28.196880340576172, 25.500019073486328, 49.32912063598633, 25.449920654296875, 21.205015182495117, 22.721715927124023, 18.092472076416016, 30.870960235595703, 7.493297576904297, 3.7667198181152344, 3.7210562229156494, 5.287417411804199, 6.082832336425781, 3.6574349403381348, 3.8665518760681152, 5.007719039916992, 3.680422782897949, 5.282172679901123, 3.0159597396850586, 4.312267780303955, 5.022011756896973, 3.806504487991333, 2.8505403995513916, 2.8505055904388428, 3.0496909618377686, 2.286236524581909, 2.2862017154693604, 2.2862160205841064, 2.2862253189086914, 2.286219835281372, 2.2861440181732178, 5.317863464355469, 2.2406163215637207, 2.2406089305877686, 2.2814314365386963, 2.2791004180908203, 2.2784032821655273, 2.2429087162017822, 8.186239242553711, 4.594468116760254, 9.339409828186035, 9.41852855682373, 8.293434143066406, 8.293253898620605, 10.838420867919922, 7.340409278869629, 15.276183128356934, 8.980669975280762, 11.663351058959961, 7.3798980712890625, 15.192926406860352, 26.87272834777832, 45.33316421508789, 10.79288387298584, 9.360097885131836, 26.639848709106445, 22.196744918823242, 33.66423034667969, 22.721715927124023, 17.186565399169922, 51.94084548950195, 22.452226638793945, 18.906490325927734, 34.251068115234375, 26.523977279663086, 120.8722152709961, 21.205015182495117, 35.12592697143555, 14.868267059326172, 20.32119369506836, 49.32912063598633, 28.196880340576172, 30.866830825805664, 61.59461975097656, 43.922359466552734, 23.19509506225586, 11.934891700744629, 4.112685680389404, 3.0460548400878906, 3.0460221767425537, 3.046049118041992, 3.046023368835449, 3.0460243225097656, 3.0460422039031982, 3.046024799346924, 3.0460147857666016, 3.0459506511688232, 3.0459961891174316, 7.437176704406738, 3.5370028018951416, 3.536959648132324, 4.335223197937012, 4.180103302001953, 2.8556952476501465, 2.3713338375091553, 2.371314764022827, 4.409084320068359, 2.7012009620666504, 4.769459247589111, 2.2632462978363037, 2.2632572650909424, 2.2632315158843994, 2.2632172107696533, 2.2632365226745605, 2.2632408142089844, 2.263230800628662, 18.1756591796875, 3.8356966972351074, 5.289787769317627, 2.37378191947937, 16.756643295288086, 30.218814849853516, 3.038194179534912, 5.696929454803467, 5.096346378326416, 49.32912063598633, 9.747586250305176, 14.026227951049805, 6.114748954772949, 28.196880340576172, 32.326141357421875, 15.077978134155273, 8.919290542602539, 32.04046630859375, 120.8722152709961, 61.59461975097656, 18.092472076416016, 9.603935241699219, 9.346176147460938, 8.101263046264648, 45.33316421508789, 18.8720760345459, 51.94084548950195, 43.922359466552734, 26.639848709106445, 34.251068115234375, 36.71769332885742, 38.54507064819336, 10.79288387298584, 63.910064697265625, 17.186565399169922, 19.702856063842773, 7.518704414367676, 6.330195426940918, 6.330340385437012, 18.89142417907715, 5.104231834411621, 4.8090434074401855, 3.87808895111084, 3.8783390522003174, 3.2579779624938965, 3.2580251693725586, 3.053420305252075, 3.323864459991455, 4.595738410949707, 4.578066349029541, 3.277078866958618, 21.42726707458496, 3.9891357421875, 2.5614922046661377, 2.561709403991699, 2.523608922958374, 3.2652525901794434, 2.6628503799438477, 4.8941264152526855, 2.122530698776245, 2.122560977935791, 2.031759262084961, 2.0317776203155518, 2.031787633895874, 2.031797409057617, 30.870960235595703, 4.587309837341309, 3.4832653999328613, 3.4863686561584473, 34.251068115234375, 6.552002906799316, 15.427061080932617, 25.500019073486328, 63.910064697265625, 7.378764629364014, 15.850994110107422, 18.8720760345459, 18.906490325927734, 51.94084548950195, 26.639848709106445, 26.87272834777832, 120.8722152709961, 9.819957733154297, 45.33316421508789, 25.449920654296875, 11.96867847442627, 43.922359466552734, 49.32912063598633, 14.2117280960083, 32.04046630859375, 30.218814849853516, 11.302807807922363, 4.994662284851074, 3.552579879760742, 7.788006782531738, 2.955082416534424, 2.2239990234375, 2.2240149974823, 2.2240166664123535, 2.224012851715088, 2.2240312099456787, 2.2239887714385986, 2.2240095138549805, 2.2240400314331055, 2.2239956855773926, 2.223999261856079, 2.224013328552246, 2.2240233421325684, 2.224003314971924, 2.224086284637451, 2.1802926063537598, 2.306770086288452, 2.9289629459381104, 3.02911376953125, 7.98708963394165, 7.4982194900512695, 4.264979362487793, 3.6789941787719727, 4.9555768966674805, 5.739088535308838, 2.0106961727142334, 1.5674445629119873, 7.885983943939209, 6.209575653076172, 13.657388687133789, 7.182889938354492, 23.134967803955078, 12.153164863586426, 7.299014091491699, 10.040950775146484, 19.276657104492188, 5.45967960357666, 23.19509506225586, 22.67424774169922, 61.59461975097656, 6.293059349060059, 25.449920654296875, 120.8722152709961, 4.22075891494751, 7.124807357788086, 43.922359466552734, 7.006838321685791, 8.73133373260498, 36.71769332885742, 15.427061080932617, 32.326141357421875, 14.026227951049805, 25.500019073486328, 10.23135757446289, 20.32119369506836, 30.245243072509766, 49.32912063598633, 30.866830825805664, 15.850994110107422, 22.196744918823242], \"loglift\": [30.0, 29.0, 28.0, 27.0, 26.0, 25.0, 24.0, 23.0, 22.0, 21.0, 20.0, 19.0, 18.0, 17.0, 16.0, 15.0, 14.0, 13.0, 12.0, 11.0, 10.0, 9.0, 8.0, 7.0, 6.0, 5.0, 4.0, 3.0, 2.0, 1.0, 1.0369999408721924, 1.0063999891281128, 1.0063999891281128, 0.9926999807357788, 0.9891999959945679, 0.9775000214576721, 0.9681000113487244, 0.9679999947547913, 0.9575999975204468, 0.953000009059906, 0.9523000121116638, 0.9467999935150146, 0.9463000297546387, 0.9398999810218811, 0.9398000240325928, 0.9277999997138977, 0.926800012588501, 0.9128999710083008, 0.8985000252723694, 0.8984000086784363, 0.8952999711036682, 0.8896999955177307, 0.8855999708175659, 0.885200023651123, 0.8845000267028809, 0.8810999989509583, 0.8399999737739563, 0.8388000130653381, 0.829200029373169, 0.8256999850273132, 0.8065000176429749, 0.8116000294685364, 0.704200029373169, 0.6118000149726868, 0.42500001192092896, 0.5789999961853027, 0.7540000081062317, 0.5177000164985657, 0.40619999170303345, 0.5062999725341797, 0.5411999821662903, 0.5539000034332275, 0.6617000102996826, 0.34779998660087585, 0.329800009727478, 0.16769999265670776, 0.2151000052690506, 0.4814000129699707, 0.27410000562667847, 0.32739999890327454, 0.5530999898910522, -0.11699999868869781, 0.0940999984741211, 0.12600000202655792, -0.36820000410079956, 0.032099999487400055, 0.18459999561309814, 0.10490000247955322, 0.28870001435279846, -0.23260000348091125, 1.4186999797821045, 1.3813999891281128, 1.378600001335144, 1.3518999814987183, 1.3518999814987183, 1.3464000225067139, 1.3138999938964844, 1.309999942779541, 1.3099000453948975, 1.3050999641418457, 1.2888000011444092, 1.2841999530792236, 1.2718000411987305, 1.2470999956130981, 1.2462999820709229, 1.2461999654769897, 1.243399977684021, 1.239400029182434, 1.2391999959945679, 1.2391999959945679, 1.2388999462127686, 1.238800048828125, 1.2383999824523926, 1.2367000579833984, 1.2316999435424805, 1.2310999631881714, 1.2244999408721924, 1.2168999910354614, 1.2144999504089355, 1.2077000141143799, 1.19760000705719, 1.1944999694824219, 1.1723999977111816, 1.1613999605178833, 1.1660000085830688, 1.1658999919891357, 1.121500015258789, 1.1227999925613403, 0.9961000084877014, 1.042799949645996, 0.9991999864578247, 1.0670000314712524, 0.9458000063896179, 0.8371000289916992, 0.7253000140190125, 0.9793000221252441, 1.0115000009536743, 0.739300012588501, 0.7448999881744385, 0.5882999897003174, 0.6517000198364258, 0.7515000104904175, 0.3059999942779541, 0.6402000188827515, 0.7046999931335449, 0.4413999915122986, 0.5192000269889832, -0.28119999170303345, 0.5386000275611877, 0.2013999968767166, 0.6570000052452087, 0.4406000077724457, -0.21660000085830688, 0.1818999946117401, 0.11249999701976776, -0.49810001254081726, -0.29280000925064087, 0.22290000319480896, 1.6778000593185425, 1.6208000183105469, 1.5827000141143799, 1.5827000141143799, 1.5825999975204468, 1.5825999975204468, 1.5825999975204468, 1.5824999809265137, 1.5824999809265137, 1.5823999643325806, 1.5822999477386475, 1.582200050354004, 1.5743999481201172, 1.5490000247955322, 1.5490000247955322, 1.5391000509262085, 1.520300030708313, 1.5164999961853027, 1.50409996509552, 1.50409996509552, 1.5017999410629272, 1.4989999532699585, 1.4916000366210938, 1.485700011253357, 1.4855999946594238, 1.4853999614715576, 1.4852999448776245, 1.4852999448776245, 1.4852999448776245, 1.485200047492981, 1.479599952697754, 1.4846999645233154, 1.4639999866485596, 1.4842000007629395, 1.3359999656677246, 1.2624000310897827, 1.4563000202178955, 1.3910000324249268, 1.392699956893921, 0.906499981880188, 1.1574000120162964, 0.9908000230789185, 1.233299970626831, 0.5454000234603882, 0.42660000920295715, 0.738099992275238, 0.9986000061035156, 0.2816999852657318, -0.47870001196861267, -0.1639000028371811, 0.5332000255584717, 0.8982999920845032, 0.8863000273704529, 0.9592000246047974, -0.26989999413490295, 0.3395000100135803, -0.40959998965263367, -0.2935999929904938, 0.07699999958276749, -0.2207999974489212, -0.4478999972343445, -0.508899986743927, 0.6801999807357788, -1.070199966430664, 0.2159000039100647, 1.802899956703186, 1.7443000078201294, 1.726099967956543, 1.7259000539779663, 1.7246999740600586, 1.6973999738693237, 1.6881999969482422, 1.6490000486373901, 1.6485999822616577, 1.6074999570846558, 1.6073999404907227, 1.5908000469207764, 1.5849000215530396, 1.5633000135421753, 1.5631999969482422, 1.5618000030517578, 1.5582000017166138, 1.548799991607666, 1.5355000495910645, 1.5348000526428223, 1.530500054359436, 1.5256999731063843, 1.517799973487854, 1.468000054359436, 1.4601000547409058, 1.4600000381469727, 1.4388999938964844, 1.4388999938964844, 1.4387999773025513, 1.4387999773025513, 1.2932000160217285, 1.3847999572753906, 1.3595999479293823, 1.3509999513626099, 0.8924000263214111, 1.1734000444412231, 0.9391000270843506, 0.6682000160217285, 0.2800999879837036, 1.0586999654769897, 0.7034000158309937, 0.6082000136375427, 0.5848000049591064, 0.042500000447034836, 0.40290001034736633, 0.33640000224113464, -0.5705999732017517, 0.8966000080108643, -0.12720000743865967, 0.23549999296665192, 0.7365000247955322, -0.39419999718666077, -0.508899986743927, 0.534600019454956, -0.2289000004529953, -0.20730000734329224, 0.7031999826431274, 1.673200011253357, 1.635699987411499, 1.6256999969482422, 1.6054999828338623, 1.5994000434875488, 1.5993000268936157, 1.5993000268936157, 1.5993000268936157, 1.5992000102996826, 1.5992000102996826, 1.5992000102996826, 1.5992000102996826, 1.5990999937057495, 1.5990999937057495, 1.5990999937057495, 1.5989999771118164, 1.5989999771118164, 1.5966999530792236, 1.5916999578475952, 1.5240000486373901, 1.520900011062622, 1.4947999715805054, 1.4875999689102173, 1.4523999691009521, 1.451799988746643, 1.4306000471115112, 1.426800012588501, 1.4192999601364136, 1.4189000129699707, 1.4119000434875488, 1.408400058746338, 1.3760000467300415, 1.34089994430542, 1.3393000364303589, 1.1180000305175781, 1.2249000072479248, 1.3284000158309937, 1.1821999549865723, 0.9839000105857849, 1.3208999633789062, 0.8514999747276306, 0.7925000190734863, 0.4399000108242035, 1.2304999828338623, 0.6908000111579895, 0.05779999867081642, 1.3532999753952026, 1.1369999647140503, 0.3856000006198883, 1.12909996509552, 1.0250999927520752, 0.3240000009536743, 0.7182999849319458, 0.32269999384880066, 0.7592999935150146, 0.3343000113964081, 0.9086999893188477, 0.4332999885082245, 0.11460000276565552, -0.27320000529289246, -0.04050000011920929, 0.5206999778747559, 0.11100000143051147], \"logprob\": [30.0, 29.0, 28.0, 27.0, 26.0, 25.0, 24.0, 23.0, 22.0, 21.0, 20.0, 19.0, 18.0, 17.0, 16.0, 15.0, 14.0, 13.0, 12.0, 11.0, 10.0, 9.0, 8.0, 7.0, 6.0, 5.0, 4.0, 3.0, 2.0, 1.0, -5.198599815368652, -5.539400100708008, -5.5395002365112305, -5.663099765777588, -5.22730016708374, -4.784200191497803, -5.856900215148926, -5.85699987411499, -5.592400074005127, -5.962800025939941, -5.271500110626221, -5.997300148010254, -5.997799873352051, -6.045499801635742, -6.0457000732421875, -5.848899841308594, -5.585999965667725, -6.174900054931641, -6.278299808502197, -6.27839994430542, -6.296599864959717, -6.11870002746582, -5.00600004196167, -6.344200134277344, -6.344900131225586, -5.237400054931641, -5.993599891662598, -5.117499828338623, -5.224400043487549, -6.60699987411499, -3.8877999782562256, -4.930099964141846, -3.484499931335449, -4.304699897766113, -3.1263999938964844, -4.163899898529053, -5.4096999168396, -4.269499778747559, -3.8194000720977783, -4.430500030517578, -4.764699935913086, -4.844399929046631, -5.259399890899658, -4.522500038146973, -4.499899864196777, -4.228300094604492, -4.348700046539307, -4.905900001525879, -4.605100154876709, -4.740699768066406, -5.138999938964844, -4.649199962615967, -4.912899971008301, -4.981500148773193, -4.815899848937988, -5.077300071716309, -5.1072998046875, -5.1178998947143555, -5.1620001792907715, -5.14900016784668, -4.91349983215332, -5.638599872589111, -5.653600215911865, -5.32889986038208, -5.188799858093262, -5.703100204467773, -5.679900169372559, -5.42519998550415, -5.7332000732421875, -5.376699924468994, -5.953499794006348, -5.600500106811523, -5.4604997634887695, -5.762400150299072, -6.0524001121521, -6.052499771118164, -5.98769998550415, -6.279799938201904, -6.280099868774414, -6.280099868774414, -6.280399799346924, -6.2804999351501465, -6.280900001525879, -5.438399791717529, -6.307700157165527, -6.308300018310547, -6.296800136566162, -6.305500030517578, -6.30810022354126, -6.330699920654297, -5.04610013961792, -5.626800060272217, -4.939499855041504, -4.9421000480651855, -5.064700126647949, -5.064899921417236, -4.841599941253662, -5.230000019073486, -4.623700141906738, -5.10830020904541, -4.890500068664551, -5.280399799346924, -4.679500102996826, -4.217899799346924, -3.80679988861084, -4.9878997802734375, -5.098199844360352, -4.32450008392334, -4.501399993896484, -4.241399765014648, -4.571199893951416, -4.750500202178955, -4.090099811553955, -4.5945000648498535, -4.701900005340576, -4.370999813079834, -4.548900127410889, -3.83270001411438, -4.753399848937988, -4.5858001708984375, -4.989999771118164, -4.893899917602539, -4.6641998291015625, -4.824999809265137, -4.803999900817871, -4.723700046539307, -4.856500148773193, -4.979300022125244, -4.188899993896484, -5.311299800872803, -5.649600028991699, -5.649600028991699, -5.649700164794922, -5.649700164794922, -5.649799823760986, -5.649799823760986, -5.649799823760986, -5.649899959564209, -5.650100231170654, -5.650199890136719, -4.765200138092041, -5.533899784088135, -5.533899784088135, -5.3403000831604, -5.395599842071533, -5.780399799346924, -5.978600025177002, -5.978600025177002, -5.3607001304626465, -5.853400230407715, -5.292300224304199, -6.043700218200684, -6.043799877166748, -6.044000148773193, -6.044099807739258, -6.044099807739258, -6.044099807739258, -6.044099807739258, -3.9665000438690186, -5.517099857330322, -5.216300010681152, -5.997499942779541, -4.191299915313721, -3.675299882888794, -5.778600215911865, -5.2153000831604, -5.324999809265137, -3.541100025177002, -4.911799907684326, -4.7144999504089355, -5.302199840545654, -4.461599826812744, -4.443600177764893, -4.894800186157227, -5.159299850463867, -4.597499847412109, -4.030099868774414, -4.389500141143799, -4.917500019073486, -5.185699939727783, -5.224899768829346, -5.295000076293945, -4.802000045776367, -5.068900108337402, -4.805699825286865, -4.8572998046875, -4.986800193786621, -5.033299922943115, -5.190800189971924, -5.2032999992370605, -5.287099838256836, -5.258900165557861, -5.286200046539307, -3.5625, -4.584499835968018, -4.774700164794922, -4.774899959564209, -3.682800054550171, -5.018700122833252, -5.087500095367432, -5.341800212860107, -5.342199802398682, -5.557600021362305, -5.557600021362305, -5.639100074768066, -5.560200214385986, -5.257800102233887, -5.26170015335083, -5.597499847412109, -3.723299980163574, -5.41379976272583, -5.870100021362305, -5.870699882507324, -5.889999866485596, -5.6371002197265625, -5.848999977111816, -5.29010009765625, -6.133399963378906, -6.133500099182129, -6.198299884796143, -6.198400020599365, -6.198400020599365, -6.198400020599365, -3.6231000423431396, -5.4380998611450195, -5.73859977722168, -5.746300220489502, -3.9200000762939453, -5.293000221252441, -4.670899868011475, -4.439300060272217, -3.908600091934204, -5.28879976272583, -4.879499912261963, -4.800300121307373, -4.821899890899658, -4.353600025177002, -4.660799980163574, -4.718599796295166, -4.122000217437744, -5.165200233459473, -4.65939998626709, -4.873899936676025, -5.127299785614014, -4.958000183105469, -4.956600189208984, -5.15749979019165, -5.107999801635742, -5.144999980926514, -5.217899799346924, -5.064599990844727, -5.442800045013428, -4.667900085449219, -5.657100200653076, -5.947400093078613, -5.9475998878479, -5.9475998878479, -5.9475998878479, -5.9475998878479, -5.9475998878479, -5.9475998878479, -5.947700023651123, -5.947800159454346, -5.947800159454346, -5.947800159454346, -5.94789981842041, -5.94789981842041, -5.950099945068359, -5.974999904632568, -5.986299991607666, -5.7505998611450195, -5.743100166320801, -4.780700206756592, -4.8790998458862305, -5.443900108337402, -5.6128997802734375, -5.31879997253418, -5.179500102996826, -6.228799819946289, -6.484899997711182, -4.872700214385986, -5.144100189208984, -4.390999794006348, -5.035099983215332, -4.0868000984191895, -4.623600006103516, -5.03000020980835, -4.8572998046875, -4.403299808502197, -5.327899932861328, -4.3506999015808105, -4.432400226593018, -3.7857000827789307, -5.276299953460693, -4.418700218200684, -3.4937000274658203, -5.5528998374938965, -5.24560022354126, -4.178100109100342, -5.270100116729736, -5.154099941253662, -4.418900012969971, -4.89169979095459, -4.547599792480469, -4.946000099182129, -4.773200035095215, -5.111999988555908, -4.901199817657471, -4.822199821472168, -4.720799922943115, -4.956999778747559, -5.06220006942749, -5.135200023651123]}, \"token.table\": {\"Topic\": [1, 2, 3, 4, 5, 3, 2, 1, 1, 4, 3, 1, 4, 5, 3, 1, 3, 4, 5, 1, 2, 3, 4, 3, 4, 3, 1, 2, 3, 4, 2, 2, 1, 2, 4, 5, 1, 2, 3, 5, 2, 5, 1, 1, 5, 1, 4, 3, 1, 5, 2, 2, 2, 1, 2, 4, 1, 5, 1, 2, 4, 5, 1, 5, 1, 4, 1, 3, 3, 1, 3, 4, 5, 1, 2, 5, 1, 2, 3, 4, 4, 1, 2, 3, 4, 5, 4, 4, 4, 2, 4, 4, 1, 2, 3, 5, 1, 2, 5, 1, 5, 1, 2, 3, 4, 5, 1, 2, 3, 5, 4, 1, 4, 4, 3, 1, 1, 2, 4, 1, 2, 3, 4, 1, 5, 5, 1, 1, 3, 1, 4, 1, 2, 5, 1, 2, 5, 1, 1, 2, 4, 5, 1, 2, 3, 4, 5, 3, 1, 2, 5, 1, 4, 1, 2, 3, 4, 1, 1, 4, 4, 4, 4, 5, 1, 2, 3, 2, 5, 1, 2, 3, 4, 5, 2, 2, 1, 2, 4, 5, 1, 3, 4, 1, 4, 2, 2, 1, 3, 3, 4, 1, 2, 3, 4, 4, 1, 2, 3, 4, 5, 1, 2, 3, 1, 2, 5, 5, 1, 2, 4, 5, 1, 3, 3, 5, 5, 1, 2, 3, 4, 5, 1, 2, 4, 5, 1, 2, 3, 4, 2, 4, 2, 5, 3, 3, 4, 5, 1, 5, 4, 5, 1, 2, 4, 5, 1, 4, 4, 1, 1, 2, 3, 4, 1, 3, 1, 3, 5, 1, 4, 5, 1, 2, 3, 1, 5, 1, 2, 3, 4, 5, 3, 1, 4, 5, 3, 2, 2, 3, 3, 3, 3, 1, 1, 1, 4, 5, 1, 2, 3, 4, 5, 2, 2, 1, 2, 3, 4, 5, 2, 1, 2, 3, 4, 5, 1, 2, 3, 4, 5, 1, 2, 5, 1, 2, 4, 1, 2, 4, 5, 1, 2, 3, 4, 5, 4, 2, 5, 5, 1, 2, 3, 4, 5, 3, 2, 5, 1, 2, 3, 4, 5, 1, 2, 5, 1, 2, 3, 4, 5, 1, 2, 3, 4, 4, 1, 2, 3, 3, 3, 4, 1, 2, 5, 3, 1, 4, 1, 5, 1, 3, 4, 5, 1, 3, 4, 4, 5, 1, 5, 2, 3, 2, 1, 5, 1, 3, 5, 1, 2, 3, 4, 5, 5, 1, 2, 3, 4, 5, 3, 1, 5, 3, 4, 1, 1, 3, 5, 2, 1, 5, 1, 2, 3, 4, 5, 1, 3, 5, 4, 2, 5, 1, 2, 5, 1, 2, 3, 4, 5, 4, 1, 2, 5, 1, 5, 1, 2, 4, 5, 2, 3, 5, 3, 1, 2, 1, 2, 3, 4, 3, 3, 3, 2, 5, 1, 1, 2, 5, 1, 4, 2, 5, 1, 2, 3, 4, 5, 2, 4, 4, 1, 2, 3, 4, 5, 5, 5, 2, 4, 5, 1, 2, 3, 4, 5, 1, 2, 3, 4, 3, 1, 4, 1, 3, 1, 3, 4, 5, 1, 5, 1, 2, 5, 1, 2, 3, 4, 5, 1, 2, 3, 4, 5, 2, 1, 2, 3, 4, 5, 1, 1, 5, 1, 4, 1, 3, 1, 2, 3, 4, 5, 1, 2, 3, 4, 5, 2, 1, 2, 3, 2, 4], \"Freq\": [0.28676578402519226, 0.4411781132221222, 0.13235343992710114, 0.13235343992710114, 0.02205890603363514, 0.8836924433708191, 0.874813437461853, 0.8738171458244324, 0.8321601748466492, 0.7510748505592346, 0.8836977481842041, 0.15262508392333984, 0.45787525177001953, 0.3052501678466797, 0.8434072136878967, 0.31793004274368286, 0.21195335686206818, 0.31793004274368286, 0.15896502137184143, 0.10699562728404999, 0.42798250913619995, 0.42798250913619995, 0.10699562728404999, 0.6920058727264404, 0.23066863417625427, 0.6565935611724854, 0.0658201053738594, 0.5265608429908752, 0.19746030867099762, 0.19746030867099762, 0.8007155656814575, 0.8202469944953918, 0.2952582538127899, 0.34446796774864197, 0.14762912690639496, 0.19683882594108582, 0.2161230593919754, 0.25934767723083496, 0.04322461038827896, 0.4322461187839508, 0.2002137303352356, 0.8008549213409424, 0.945816159248352, 0.34848740696907043, 0.5227310657501221, 0.6193151473999023, 0.35389435291290283, 0.7404114007949829, 0.12840256094932556, 0.7704153656959534, 0.8748355507850647, 0.8748079538345337, 0.8748044371604919, 0.5629153847694397, 0.14072884619235992, 0.28145769238471985, 0.7873455286026001, 0.8992738127708435, 0.3529409170150757, 0.1176469698548317, 0.3137252628803253, 0.19607828557491302, 0.4035857021808624, 0.6053785681724548, 0.8261998295783997, 0.9208165407180786, 0.20966736972332, 0.6290021538734436, 0.8067577481269836, 0.10412398725748062, 0.4164959490299225, 0.3123719394207001, 0.20824797451496124, 0.2740096151828766, 0.1370048075914383, 0.5480192303657532, 0.26184549927711487, 0.5891523957252502, 0.06546137481927872, 0.06546137481927872, 0.7807948589324951, 0.21156756579875946, 0.4231351315975189, 0.052891891449689865, 0.2644594609737396, 0.052891891449689865, 0.931011438369751, 0.4711357057094574, 0.49217742681503296, 0.7521817684173584, 0.1880454421043396, 0.6550031900405884, 0.29092490673065186, 0.46547985076904297, 0.1745549440383911, 0.05818498134613037, 0.2369242161512375, 0.2369242161512375, 0.473848432302475, 0.7383225560188293, 0.8992792367935181, 0.4098140597343445, 0.15937213599681854, 0.11383723467588425, 0.11383723467588425, 0.20490702986717224, 0.10258950293064117, 0.30776849389076233, 0.5129474997520447, 0.10258950293064117, 0.7807286977767944, 0.28683140873908997, 0.5736628174781799, 0.9025638699531555, 0.883682131767273, 0.9222767353057861, 0.10617369413375854, 0.6370421648025513, 0.2123473882675171, 0.10707314312458038, 0.6424388885498047, 0.10707314312458038, 0.10707314312458038, 0.25040408968925476, 0.6260102391242981, 0.8992823362350464, 0.8738174438476562, 0.6766191720962524, 0.22553971409797668, 0.21843282878398895, 0.6552984714508057, 0.24115987122058868, 0.7234795689582825, 0.12057993561029434, 0.24115462601184845, 0.7234638929367065, 0.12057731300592422, 0.9316460490226746, 0.12680725753307343, 0.12680725753307343, 0.12680725753307343, 0.6340363025665283, 0.2155628204345703, 0.25867536664009094, 0.08622512966394424, 0.08622512966394424, 0.344900518655777, 0.8434139490127563, 0.42106401920318604, 0.1403546780347824, 0.42106401920318604, 0.21799269318580627, 0.6539780497550964, 0.16710282862186432, 0.2506542503833771, 0.2506542503833771, 0.33420565724372864, 0.8523304462432861, 0.5091671347618103, 0.40733373165130615, 0.8317662477493286, 0.9643272161483765, 0.7925158143043518, 0.4973401725292206, 0.27679309248924255, 0.6458505392074585, 0.09226436167955399, 0.6529591679573059, 0.2176530510187149, 0.4640207290649414, 0.06186943128705025, 0.247477725148201, 0.030934715643525124, 0.18560829758644104, 0.6631388068199158, 0.892611563205719, 0.356312096118927, 0.4008511006832123, 0.08907802402973175, 0.13361704349517822, 0.7394097447395325, 0.07394097000360489, 0.14788194000720978, 0.9316527843475342, 0.49218428134918213, 0.7565129995346069, 0.8151237368583679, 0.22007454931735992, 0.7152422666549683, 0.7021326422691345, 0.17553316056728363, 0.4421728551387787, 0.055271606892347336, 0.276358038187027, 0.22108642756938934, 0.9478163123130798, 0.3154376149177551, 0.06308752298355103, 0.06308752298355103, 0.3154376149177551, 0.2523500919342041, 0.7544668316841125, 0.10778097808361053, 0.8481757640838623, 0.31781044602394104, 0.15890522301197052, 0.47671568393707275, 0.8992711305618286, 0.5187621712684631, 0.051876213401556015, 0.051876213401556015, 0.3631334900856018, 0.0837879404425621, 0.8378794193267822, 0.8836885690689087, 0.8992753624916077, 0.8992679715156555, 0.1234375387430191, 0.1234375387430191, 0.3703126311302185, 0.2468750774860382, 0.1234375387430191, 0.31536155939102173, 0.4505165219306946, 0.04505164921283722, 0.18020659685134888, 0.09265363961458206, 0.5559218525886536, 0.2779609262943268, 0.09265363961458206, 0.7987668514251709, 0.19969171285629272, 0.8219854831695557, 0.16439710557460785, 0.6565897464752197, 0.1831609308719635, 0.1831609308719635, 0.5494828224182129, 0.27181342244148254, 0.5436268448829651, 0.49217504262924194, 0.8992751836776733, 0.0995921641588211, 0.2987764775753021, 0.0995921641588211, 0.49796080589294434, 0.8261951208114624, 0.7735769152641296, 0.7735270261764526, 0.8022201061248779, 0.7264223098754883, 0.10377462208271027, 0.10377462208271027, 0.0778309628367424, 0.18904350697994232, 0.7561740279197693, 0.21388500928878784, 0.4277700185775757, 0.2851800322532654, 0.259284645318985, 0.3889269530773163, 0.32410579919815063, 0.9568659067153931, 0.7016213536262512, 0.8481860756874084, 0.33012956380844116, 0.6602591276168823, 0.1126132532954216, 0.4504530131816864, 0.18768875300884247, 0.2252265065908432, 0.037537749856710434, 0.6582857966423035, 0.05293407291173935, 0.8998792171478271, 0.05293407291173935, 0.6565937995910645, 0.8775392174720764, 0.8916992545127869, 0.6565882563591003, 0.6565996408462524, 0.6565956473350525, 0.6565935015678406, 0.6609807014465332, 0.8296002149581909, 0.3661021888256073, 0.07322043925523758, 0.5125430822372437, 0.4455767869949341, 0.3861665725708008, 0.05941024050116539, 0.029705120250582695, 0.08911535888910294, 0.6558041572570801, 0.7881246209144592, 0.45242083072662354, 0.33931562304496765, 0.07540347427129745, 0.03770173713564873, 0.11310520768165588, 0.892614483833313, 0.354649156332016, 0.2482544183731079, 0.28371933102607727, 0.07092983275651932, 0.03546491637825966, 0.5409110188484192, 0.2562209963798523, 0.08540699630975723, 0.05693800002336502, 0.02846900001168251, 0.6155474781990051, 0.22678065299987793, 0.12958894670009613, 0.2572159469127655, 0.6001705527305603, 0.0857386514544487, 0.35363566875457764, 0.15717141330242157, 0.19646427035331726, 0.27504998445510864, 0.5290088057518005, 0.0991891548037529, 0.0991891548037529, 0.13225220143795013, 0.16531525552272797, 0.49217984080314636, 0.7758851051330566, 0.8992767333984375, 0.8444567322731018, 0.25914323329925537, 0.03239290416240692, 0.09717870503664017, 0.5830722451210022, 0.06478580832481384, 0.700354814529419, 0.8778077363967896, 0.8992809653282166, 0.3520860970020294, 0.3960968554019928, 0.04401076212525368, 0.08802152425050735, 0.13203227519989014, 0.4114154577255249, 0.08228309452533722, 0.4936985671520233, 0.48705554008483887, 0.12988147139549255, 0.12988147139549255, 0.01623518392443657, 0.22729258239269257, 0.13236786425113678, 0.16545982658863068, 0.562563419342041, 0.13236786425113678, 0.47112900018692017, 0.19621899724006653, 0.19621899724006653, 0.588657021522522, 0.7294503450393677, 0.7176856398582458, 0.2392285317182541, 0.1362321823835373, 0.6811609268188477, 0.1362321823835373, 0.6565940380096436, 0.28708693385124207, 0.5741738677024841, 0.6546456217765808, 0.637981116771698, 0.23871129751205444, 0.5967782139778137, 0.05967782437801361, 0.05967782437801361, 0.4065721333026886, 0.13552403450012207, 0.4065721333026886, 0.652778685092926, 0.21759289503097534, 0.9052588939666748, 0.0754382386803627, 0.26070883870124817, 0.7821264863014221, 0.8766425848007202, 0.8382376432418823, 0.11974823474884033, 0.16104160249233246, 0.3220832049846649, 0.6441664099693298, 0.43694743514060974, 0.18726319074630737, 0.21847371757030487, 0.12484212964773178, 0.06242106482386589, 0.899280846118927, 0.5738373398780823, 0.1912791132926941, 0.04781977832317352, 0.04781977832317352, 0.1912791132926941, 0.8836902379989624, 0.23446772992610931, 0.7034031748771667, 0.2043265551328659, 0.6129796504974365, 0.7694525122642517, 0.7070695161819458, 0.10100992769002914, 0.2020198553800583, 0.7016299366950989, 0.7694659233093262, 0.6828355193138123, 0.5719313621520996, 0.027234826236963272, 0.10893930494785309, 0.10893930494785309, 0.1906437873840332, 0.2268044650554657, 0.6804133653640747, 0.8992745280265808, 0.9478380084037781, 0.2667299807071686, 0.666824996471405, 0.2290600836277008, 0.34359011054039, 0.34359011054039, 0.504665195941925, 0.15719079971313477, 0.09927839785814285, 0.09100519865751266, 0.14891760051250458, 0.6102996468544006, 0.5769509077072144, 0.31470051407814026, 0.10490016639232635, 0.4281531572341919, 0.4281531572341919, 0.1345146745443344, 0.40354400873184204, 0.20177200436592102, 0.20177200436592102, 0.7329372763633728, 0.24431243538856506, 0.12215621769428253, 0.6566094756126404, 0.1893160343170166, 0.7572641372680664, 0.10683649033308029, 0.5341824293136597, 0.10683649033308029, 0.21367298066616058, 0.8425374031066895, 0.88369220495224, 0.8836864233016968, 0.6956896185874939, 0.6768000721931458, 0.7382876873016357, 0.278439462184906, 0.139219731092453, 0.556878924369812, 0.6546363830566406, 0.6125100255012512, 0.8748001456260681, 0.8992456793785095, 0.14884978532791138, 0.48376181721687317, 0.11163734644651413, 0.22327469289302826, 0.037212446331977844, 0.806222677230835, 0.7836634516716003, 0.9208031892776489, 0.264617383480072, 0.2205144762992859, 0.132308691740036, 0.08820579200983047, 0.30872026085853577, 0.8992851376533508, 0.899264395236969, 0.39095497131347656, 0.19547748565673828, 0.39095497131347656, 0.22299201786518097, 0.1621760129928589, 0.4054400324821472, 0.1013600081205368, 0.1013600081205368, 0.2710064649581909, 0.5420129299163818, 0.13550323247909546, 0.13550323247909546, 0.6565870046615601, 0.2506808638572693, 0.7520425915718079, 0.3270780146121979, 0.490617036819458, 0.18667803704738617, 0.04666950926184654, 0.7467121481895447, 0.867013156414032, 0.7331502437591553, 0.18328756093978882, 0.22270053625106812, 0.5567513108253479, 0.11135026812553406, 0.2652875483036041, 0.13264377415180206, 0.33160945773124695, 0.06632188707590103, 0.1989656686782837, 0.1459808498620987, 0.32115787267684937, 0.11678467690944672, 0.3795502185821533, 0.02919616922736168, 0.8748065233230591, 0.6571735143661499, 0.03129397705197334, 0.06258795410394669, 0.20341083407402039, 0.046940963715314865, 0.8326439261436462, 0.9693284034729004, 0.9173080921173096, 0.7993698716163635, 0.15987397730350494, 0.773164689540863, 0.17181438207626343, 0.3772692382335663, 0.3772692382335663, 0.09431730955839157, 0.09431730955839157, 0.09431730955839157, 0.385053426027298, 0.2887900769710541, 0.11551602184772491, 0.17327404022216797, 0.05775801092386246, 0.7964489459991455, 0.11211653798818588, 0.44846615195274353, 0.44846615195274353, 0.7964935302734375, 0.19912338256835938], \"Term\": [\"adaptation\", \"adaptation\", \"adaptation\", \"adaptation\", \"adaptation\", \"advertising\", \"ad\\u00e3\\u00a9lie penguin\", \"aeolian landform\", \"aerial photography\", \"agriculture\", \"airsoft\", \"ancient history\", \"ancient history\", \"ancient history\", \"animal sports\", \"architecture\", \"architecture\", \"architecture\", \"architecture\", \"arctic\", \"arctic\", \"arctic\", \"arctic\", \"arctic ocean\", \"arctic ocean\", \"army\", \"art\", \"art\", \"art\", \"art\", \"astronomical object\", \"astronomy\", \"atmosphere\", \"atmosphere\", \"atmosphere\", \"atmosphere\", \"atmospheric phenomenon\", \"atmospheric phenomenon\", \"atmospheric phenomenon\", \"atmospheric phenomenon\", \"backlighting\", \"backlighting\", \"bank\", \"beach\", \"beach\", \"beak\", \"beak\", \"bear\", \"beauty\", \"beauty\", \"bed\", \"bed sheet\", \"bedroom\", \"bird\", \"bird\", \"bird\", \"bird's-eye view\", \"birth\", \"blue\", \"blue\", \"blue\", \"blue\", \"boat\", \"boat\", \"body of water\", \"bony-fish\", \"botany\", \"botany\", \"branch\", \"building\", \"building\", \"building\", \"building\", \"calm\", \"calm\", \"calm\", \"canidae\", \"canidae\", \"canidae\", \"canidae\", \"carcharhiniformes\", \"carnivore\", \"carnivore\", \"carnivore\", \"carnivore\", \"carnivore\", \"cartilaginous fish\", \"cash crop\", \"cat\", \"ceremony\", \"ceremony\", \"cetacea\", \"child\", \"child\", \"child\", \"child\", \"chin\", \"chin\", \"chin\", \"ciconiiformes\", \"clinic\", \"cloud\", \"cloud\", \"cloud\", \"cloud\", \"cloud\", \"community\", \"community\", \"community\", \"community\", \"coral reef fish\", \"cougar\", \"cougar\", \"crop\", \"dairy cow\", \"desert\", \"dog\", \"dog\", \"dog\", \"dog breed\", \"dog breed\", \"dog breed\", \"dog breed\", \"dress\", \"dress\", \"dressmaker\", \"dune\", \"ecoregion\", \"ecoregion\", \"electric blue\", \"electric blue\", \"elephant\", \"elephant\", \"elephant\", \"elephants and mammoths\", \"elephants and mammoths\", \"elephants and mammoths\", \"erg\", \"evening\", \"evening\", \"evening\", \"evening\", \"event\", \"event\", \"event\", \"event\", \"event\", \"extreme sport\", \"face\", \"face\", \"face\", \"farm\", \"farm\", \"felidae\", \"felidae\", \"felidae\", \"felidae\", \"fell\", \"field\", \"field\", \"fin\", \"fish\", \"flower\", \"forehead\", \"forest\", \"forest\", \"forest\", \"freezing\", \"freezing\", \"fun\", \"fun\", \"fun\", \"fun\", \"fun\", \"galaxy\", \"garmon\", \"geological phenomenon\", \"geological phenomenon\", \"geological phenomenon\", \"geological phenomenon\", \"geology\", \"geology\", \"geology\", \"gesture\", \"giraffe\", \"glacial landform\", \"glacier\", \"grass\", \"grass\", \"grass family\", \"grass family\", \"grassland\", \"grassland\", \"grassland\", \"grassland\", \"great white shark\", \"green\", \"green\", \"green\", \"green\", \"green\", \"hand\", \"hand\", \"hawksbill sea turtle\", \"head\", \"head\", \"head\", \"honeymoon\", \"horizon\", \"horizon\", \"horizon\", \"horizon\", \"horse\", \"horse\", \"horse grooming\", \"hospital\", \"hospital bed\", \"house\", \"house\", \"house\", \"house\", \"house\", \"human\", \"human\", \"human\", \"human\", \"ice\", \"ice\", \"ice\", \"ice\", \"ice cap\", \"ice cap\", \"indian elephant\", \"indian elephant\", \"infantry\", \"infrastructure\", \"infrastructure\", \"infrastructure\", \"interaction\", \"interaction\", \"king penguin\", \"knitting\", \"lady\", \"lady\", \"lady\", \"lady\", \"lake\", \"lamnidae\", \"lamniformes\", \"land lot\", \"landscape\", \"landscape\", \"landscape\", \"landscape\", \"leaf\", \"leaf\", \"leisure\", \"leisure\", \"leisure\", \"light\", \"light\", \"light\", \"lip\", \"litter\", \"loggerhead sea turtle\", \"love\", \"love\", \"mammal\", \"mammal\", \"mammal\", \"mammal\", \"mammal\", \"mare\", \"marine biology\", \"marine biology\", \"marine biology\", \"marines\", \"marriage\", \"masai lion\", \"military\", \"military camouflage\", \"military organization\", \"military uniform\", \"mist\", \"monochrome\", \"morning\", \"morning\", \"morning\", \"mountain\", \"mountain\", \"mountain\", \"mountain\", \"mountain\", \"mountaineer\", \"mountaineering\", \"mountainous landforms\", \"mountainous landforms\", \"mountainous landforms\", \"mountainous landforms\", \"mountainous landforms\", \"musical instrument\", \"natural environment\", \"natural environment\", \"natural environment\", \"natural environment\", \"natural environment\", \"natural landscape\", \"natural landscape\", \"natural landscape\", \"natural landscape\", \"natural landscape\", \"nature\", \"nature\", \"nature\", \"nature reserve\", \"nature reserve\", \"nature reserve\", \"night\", \"night\", \"night\", \"night\", \"ocean\", \"ocean\", \"ocean\", \"ocean\", \"ocean\", \"old world flycatcher\", \"old-growth forest\", \"operating theater\", \"orange\", \"organism\", \"organism\", \"organism\", \"organism\", \"organism\", \"palm tree\", \"party\", \"patient\", \"people\", \"people\", \"people\", \"people\", \"people\", \"photograph\", \"photograph\", \"photograph\", \"photography\", \"photography\", \"photography\", \"photography\", \"photography\", \"plant\", \"plant\", \"plant\", \"plant\", \"plantation\", \"play\", \"play\", \"play\", \"polar bear\", \"polar ice cap\", \"polar ice cap\", \"portrait\", \"portrait\", \"portrait\", \"public space\", \"puma\", \"puma\", \"purple\", \"raft\", \"recreation\", \"recreation\", \"recreation\", \"recreation\", \"red\", \"red\", \"red\", \"reef\", \"reef\", \"reflection\", \"reflection\", \"rein\", \"rein\", \"rite\", \"river\", \"river\", \"road\", \"road\", \"road\", \"rock\", \"rock\", \"rock\", \"rock\", \"rock\", \"romance\", \"room\", \"room\", \"room\", \"room\", \"room\", \"rope\", \"ruins\", \"ruins\", \"rural area\", \"rural area\", \"sahara\", \"sand\", \"sand\", \"sand\", \"scrap\", \"screenshot\", \"sculpture\", \"sea\", \"sea\", \"sea\", \"sea\", \"sea\", \"sea ice\", \"sea ice\", \"service\", \"shark\", \"sitting\", \"sitting\", \"skin\", \"skin\", \"skin\", \"sky\", \"sky\", \"sky\", \"sky\", \"sky\", \"small to medium-sized cats\", \"smile\", \"smile\", \"smile\", \"snapshot\", \"snapshot\", \"snout\", \"snout\", \"snout\", \"snout\", \"snow\", \"snow\", \"snow\", \"soldier\", \"space\", \"space\", \"sporting group\", \"sporting group\", \"sporting group\", \"sporting group\", \"spring\", \"stable\", \"stallion\", \"star\", \"statue\", \"stork\", \"sunlight\", \"sunlight\", \"sunlight\", \"swimming\", \"tail\", \"temperate broadleaf and mixed forest\", \"tent\", \"terrestrial animal\", \"terrestrial animal\", \"terrestrial animal\", \"terrestrial animal\", \"terrestrial animal\", \"textile\", \"tiger shark\", \"tilapia\", \"tourism\", \"tourism\", \"tourism\", \"tourism\", \"tourism\", \"tower\", \"town square\", \"tradition\", \"tradition\", \"tradition\", \"tree\", \"tree\", \"tree\", \"tree\", \"tree\", \"tribe\", \"tribe\", \"tribe\", \"tribe\", \"troop\", \"turquoise\", \"turquoise\", \"turtle\", \"turtle\", \"underwater\", \"underwater\", \"underwater\", \"uniform\", \"vacation\", \"vacation\", \"vegetation\", \"vegetation\", \"vegetation\", \"vehicle\", \"vehicle\", \"vehicle\", \"vehicle\", \"vehicle\", \"vertebrate\", \"vertebrate\", \"vertebrate\", \"vertebrate\", \"vertebrate\", \"village\", \"water\", \"water\", \"water\", \"water\", \"water\", \"water bird\", \"water resources\", \"water transportation\", \"watercourse\", \"watercourse\", \"wave\", \"wave\", \"wilderness\", \"wilderness\", \"wilderness\", \"wilderness\", \"wilderness\", \"wildlife\", \"wildlife\", \"wildlife\", \"wildlife\", \"wildlife\", \"woodland\", \"woody plant\", \"woody plant\", \"woody plant\", \"world\", \"world\"]}, \"R\": 30, \"lambda.step\": 0.01, \"plot.opts\": {\"xlab\": \"PC1\", \"ylab\": \"PC2\"}, \"topic.order\": [4, 2, 1, 3, 5]};\n",
              "\n",
              "function LDAvis_load_lib(url, callback){\n",
              "  var s = document.createElement('script');\n",
              "  s.src = url;\n",
              "  s.async = true;\n",
              "  s.onreadystatechange = s.onload = callback;\n",
              "  s.onerror = function(){console.warn(\"failed to load library \" + url);};\n",
              "  document.getElementsByTagName(\"head\")[0].appendChild(s);\n",
              "}\n",
              "\n",
              "if(typeof(LDAvis) !== \"undefined\"){\n",
              "   // already loaded: just create the visualization\n",
              "   !function(LDAvis){\n",
              "       new LDAvis(\"#\" + \"ldavis_el122140528831228928327258771\", ldavis_el122140528831228928327258771_data);\n",
              "   }(LDAvis);\n",
              "}else if(typeof define === \"function\" && define.amd){\n",
              "   // require.js is available: use it to load d3/LDAvis\n",
              "   require.config({paths: {d3: \"https://cdnjs.cloudflare.com/ajax/libs/d3/3.5.5/d3.min\"}});\n",
              "   require([\"d3\"], function(d3){\n",
              "      window.d3 = d3;\n",
              "      LDAvis_load_lib(\"https://cdn.rawgit.com/bmabey/pyLDAvis/files/ldavis.v1.0.0.js\", function(){\n",
              "        new LDAvis(\"#\" + \"ldavis_el122140528831228928327258771\", ldavis_el122140528831228928327258771_data);\n",
              "      });\n",
              "    });\n",
              "}else{\n",
              "    // require.js not available: dynamically load d3 & LDAvis\n",
              "    LDAvis_load_lib(\"https://cdnjs.cloudflare.com/ajax/libs/d3/3.5.5/d3.min.js\", function(){\n",
              "         LDAvis_load_lib(\"https://cdn.rawgit.com/bmabey/pyLDAvis/files/ldavis.v1.0.0.js\", function(){\n",
              "                 new LDAvis(\"#\" + \"ldavis_el122140528831228928327258771\", ldavis_el122140528831228928327258771_data);\n",
              "            })\n",
              "         });\n",
              "}\n",
              "</script>"
            ],
            "text/plain": [
              "PreparedData(topic_coordinates=              x         y  topics  cluster       Freq\n",
              "topic                                                \n",
              "3      0.013521  0.049232       1        1  32.735279\n",
              "1      0.040383  0.011363       2        1  20.839817\n",
              "0      0.047630 -0.145210       3        1  16.201387\n",
              "2     -0.160416 -0.003691       4        1  15.904014\n",
              "4      0.058882  0.088306       5        1  14.319504, topic_info=    Category       Freq            Term      Total  loglift  logprob\n",
              "251  Default  19.000000            fish  19.000000  30.0000  30.0000\n",
              "21   Default  18.000000  marine biology  18.000000  29.0000  29.0000\n",
              "28   Default  21.000000      underwater  21.000000  28.0000  28.0000\n",
              "24   Default  30.000000        organism  30.000000  27.0000  27.0000\n",
              "37   Default  30.000000           plant  30.000000  26.0000  26.0000\n",
              "..       ...        ...             ...        ...      ...      ...\n",
              "103   Topic5   4.856909           ocean  30.245243   0.1146  -4.8222\n",
              "38    Topic5   5.375129            tree  49.329121  -0.2732  -4.7208\n",
              "66    Topic5   4.244387          nature  30.866831  -0.0405  -4.9570\n",
              "262   Topic5   3.820674           green  15.850994   0.5207  -5.0622\n",
              "41    Topic5   3.551536           human  22.196745   0.1110  -5.1352\n",
              "\n",
              "[343 rows x 6 columns], token_table=      Topic      Freq         Term\n",
              "term                              \n",
              "19        1  0.286766   adaptation\n",
              "19        2  0.441178   adaptation\n",
              "19        3  0.132353   adaptation\n",
              "19        4  0.132353   adaptation\n",
              "19        5  0.022059   adaptation\n",
              "...     ...       ...          ...\n",
              "39        1  0.112117  woody plant\n",
              "39        2  0.448466  woody plant\n",
              "39        3  0.448466  woody plant\n",
              "491       2  0.796494        world\n",
              "491       4  0.199123        world\n",
              "\n",
              "[544 rows x 3 columns], R=30, lambda_step=0.01, plot_opts={'xlab': 'PC1', 'ylab': 'PC2'}, topic_order=[4, 2, 1, 3, 5])"
            ]
          },
          "metadata": {
            "tags": []
          },
          "execution_count": 144
        }
      ]
    }
  ]
}